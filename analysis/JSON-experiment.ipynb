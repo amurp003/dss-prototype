{
 "cells": [
  {
   "cell_type": "code",
   "execution_count": 1,
   "id": "70ebde65-7e20-4536-8963-8c608254dc12",
   "metadata": {},
   "outputs": [
    {
     "name": "stderr",
     "output_type": "stream",
     "text": [
      "Updating HTML index of packages in '.Library'\n",
      "\n",
      "Making 'packages.html' ...\n",
      " done\n",
      "\n"
     ]
    }
   ],
   "source": [
    "install.packages(\"rjson\") # Optional.\n",
    "library(\"rjson\")"
   ]
  },
  {
   "cell_type": "code",
   "execution_count": 2,
   "id": "63330464-0e1e-4c73-943c-0a111e201cd1",
   "metadata": {},
   "outputs": [],
   "source": [
    "setwd('/home/jovyan/work/data')\n",
    "Raw_JSON <- fromJSON(file = 'DSS_SpanData_11Jul2022.json')"
   ]
  },
  {
   "cell_type": "code",
   "execution_count": 3,
   "id": "0ae789ce-e1fe-4bce-87c9-650926649005",
   "metadata": {},
   "outputs": [],
   "source": [
    "# Need to figure out number of Child Spans or hardcode\n",
    "spanCount = (Raw_JSON$response$data[[1]]$spans[[1]] # Number of Spans in Trace\n",
    "      $references[[1]]$span$childSpanCount)"
   ]
  },
  {
   "cell_type": "markdown",
   "id": "11176186-e453-4a39-a205-f14639009743",
   "metadata": {},
   "source": [
    "### IO Counters ###\n",
    "\n",
    "bytes_sent: number of bytes sent  \n",
    "bytes_recv: number of bytes received  \n",
    "packets_sent: number of packets sent  \n",
    "packets_recv: number of packets received  \n",
    "errin: total number of errors while receiving  \n",
    "errout: total number of errors while sending  \n",
    "dropin: total number of incoming packets which were dropped  \n",
    "dropout: total number of outgoing packets which were dropped (always 0 on macOS and BSD)  "
   ]
  },
  {
   "cell_type": "code",
   "execution_count": 6,
   "id": "ae257dea-e4ff-4973-b3c9-beb7734e2235",
   "metadata": {},
   "outputs": [
    {
     "name": "stdout",
     "output_type": "stream",
     "text": [
      "Current span = 1\n",
      "DSS Use Case Operation = RIC\n",
      "span duration = 774212\n"
     ]
    },
    {
     "ename": "ERROR",
     "evalue": "Error in apply(cpu.load.avg, 2, as.numeric): dim(X) must have a positive length\n",
     "output_type": "error",
     "traceback": [
      "Error in apply(cpu.load.avg, 2, as.numeric): dim(X) must have a positive length\nTraceback:\n",
      "1. as.data.frame(apply(cpu.load.avg, 2, as.numeric))",
      "2. apply(cpu.load.avg, 2, as.numeric)",
      "3. stop(\"dim(X) must have a positive length\")"
     ]
    }
   ],
   "source": [
    "for (span in 1:spanCount) {\n",
    "\n",
    "    cat(sprintf(fmt = \"Current span = %s\\n\", span))\n",
    "    \n",
    "    dss_uc = (Raw_JSON$response$data[[1]]$spans[[span]] # UseCaseOp\n",
    "          $operationName)\n",
    "    cat(sprintf(fmt = \"DSS Use Case Operation = %s\\n\", dss_uc))\n",
    "    \n",
    "    Duration = (Raw_JSON$response$data[[1]]$spans[[span]] # Duration\n",
    "          $duration)\n",
    "    cat(sprintf(fmt = \"span duration = %s\\n\", Duration))\n",
    "    \n",
    "    cpu.load.avg = (Raw_JSON$response$data[[1]]$spans[[span]] # cpu.load.avg\n",
    "          $references[[1]]$span$tags[[1]]$value)\n",
    "    # data_num <- as.data.frame(apply(cpu.load.avg, 2, as.numeric))\n",
    "    cat(sprintf(fmt = \"cpu.load.avg = %s\\n\", cpu.load.avg))\n",
    "    # data_num\n",
    "    \n",
    "    init.trace.net.io = (Raw_JSON$response$data[[1]]$spans[[span]] # initial.trace.net.io.count\n",
    "          $references[[1]]$span$tags[[3]]$value)\n",
    "    cat(sprintf(fmt = \"init.trace.net.io = %s\\n\", init.trace.net.io))\n",
    "    \n",
    "    end.span.io.count = (Raw_JSON$response$data[[1]]$spans[[span]] # end.io.count\n",
    "          $tags[[1]]$value)\n",
    "    cat(sprintf(fmt = \"end.span.io.count = %s\\n\", end.span.io.count))\n",
    "    \n",
    "    start.span.io.count = (Raw_JSON$response$data[[1]]$spans[[span]] # start.io.count\n",
    "          $tags[[9]]$value)\n",
    "    cat(sprintf(fmt = \"start.span.io.count = %s\\n\\n\", start.span.io.count))\n",
    "}"
   ]
  },
  {
   "cell_type": "code",
   "execution_count": null,
   "id": "8ff4fcdf-8af1-4dfe-88eb-160519d04f0d",
   "metadata": {},
   "outputs": [],
   "source": [
    "print(Raw_JSON)"
   ]
  },
  {
   "cell_type": "code",
   "execution_count": null,
   "id": "7ffd574f-5c23-4699-bcbe-53dbb15d243b",
   "metadata": {},
   "outputs": [],
   "source": []
  }
 ],
 "metadata": {
  "kernelspec": {
   "display_name": "R",
   "language": "R",
   "name": "ir"
  },
  "language_info": {
   "codemirror_mode": "r",
   "file_extension": ".r",
   "mimetype": "text/x-r-source",
   "name": "R",
   "pygments_lexer": "r",
   "version": "4.1.3"
  }
 },
 "nbformat": 4,
 "nbformat_minor": 5
}
