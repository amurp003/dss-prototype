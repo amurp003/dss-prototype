{
 "cells": [
  {
   "cell_type": "raw",
   "id": "f9d0bbba-78ce-4ec6-9898-454b44a872cd",
   "metadata": {
    "tags": []
   },
   "source": [
    "---\n",
    "title: \"DSS Normality Testing\"\n",
    "author: \"Alvin Murphy\"\n",
    "format:\n",
    "  pdf:\n",
    "    toc: true\n",
    "    number-sections: true\n",
    "    colorlinks: true\n",
    "execute:\n",
    "  echo: true\n",
    "  warning: false\n",
    "  error: false\n",
    "---\n"
   ]
  },
  {
   "cell_type": "code",
   "execution_count": 1,
   "id": "16c3eb8a-1b59-40f9-8098-f35982b008ca",
   "metadata": {
    "tags": [],
    "vscode": {
     "languageId": "r"
    }
   },
   "outputs": [
    {
     "name": "stderr",
     "output_type": "stream",
     "text": [
      "Updating HTML index of packages in '.Library'\n",
      "\n",
      "Making 'packages.html' ...\n",
      " done\n",
      "\n"
     ]
    }
   ],
   "source": [
    "install.packages(\"stringr\")                # Install packages and libraries in R\n",
    "library(stringr, quietly = TRUE)\n",
    "# suppressPackageStartupMessages(library(\"stringr\"))"
   ]
  },
  {
   "cell_type": "code",
   "execution_count": 2,
   "id": "bd52b10d-1b5e-444d-9c3b-d7d3ef1442c4",
   "metadata": {
    "tags": [],
    "vscode": {
     "languageId": "r"
    }
   },
   "outputs": [
    {
     "name": "stderr",
     "output_type": "stream",
     "text": [
      "Updating HTML index of packages in '.Library'\n",
      "\n",
      "Making 'packages.html' ...\n",
      " done\n",
      "\n",
      "\n",
      "Attaching package: ‘dplyr’\n",
      "\n",
      "\n",
      "The following objects are masked from ‘package:stats’:\n",
      "\n",
      "    filter, lag\n",
      "\n",
      "\n",
      "The following objects are masked from ‘package:base’:\n",
      "\n",
      "    intersect, setdiff, setequal, union\n",
      "\n",
      "\n",
      "Updating HTML index of packages in '.Library'\n",
      "\n",
      "Making 'packages.html' ...\n",
      " done\n",
      "\n",
      "Updating HTML index of packages in '.Library'\n",
      "\n",
      "Making 'packages.html' ...\n",
      " done\n",
      "\n",
      "Registered S3 method overwritten by 'GGally':\n",
      "  method from   \n",
      "  +.gg   ggplot2\n",
      "\n",
      "\n",
      "Attaching package: ‘MASS’\n",
      "\n",
      "\n",
      "The following object is masked from ‘package:dplyr’:\n",
      "\n",
      "    select\n",
      "\n",
      "\n"
     ]
    }
   ],
   "source": [
    "install.packages(\"dplyr\")\n",
    "library(dplyr, quietly = TRUE)\n",
    "\n",
    "install.packages(\"ggplot2\") \n",
    "install.packages(\"GGally\")\n",
    "library(ggplot2, quietly = TRUE)                     \n",
    "library(GGally, quietly = TRUE)\n",
    "\n",
    "# Note that loading MASS will cause issues with dplyr select\n",
    "library(\"MASS\")"
   ]
  },
  {
   "cell_type": "code",
   "execution_count": 3,
   "id": "fae449b1-7e85-495c-8a0c-e5a939e95b9f",
   "metadata": {
    "tags": []
   },
   "outputs": [],
   "source": [
    "options(warn=-1)"
   ]
  },
  {
   "cell_type": "code",
   "execution_count": 4,
   "id": "34346fcc-3f2b-42c8-b503-3349365c2006",
   "metadata": {
    "vscode": {
     "languageId": "r"
    }
   },
   "outputs": [],
   "source": [
    "setwd('/home/jovyan/work/data')"
   ]
  },
  {
   "cell_type": "markdown",
   "id": "3971f457-3ceb-46a0-b8aa-c6ad10abfbc4",
   "metadata": {},
   "source": [
    "## Load Data Files ##"
   ]
  },
  {
   "cell_type": "code",
   "execution_count": 5,
   "id": "1ca329c4-df0b-44f0-8328-cba2454d14d8",
   "metadata": {},
   "outputs": [],
   "source": [
    "# macData <- read.csv('DSS_SpanData-mac-2022-05-02 18_38_26_s10-5-1.csv', header = TRUE)\n",
    "# linpcData <- read.csv('DSS_SpanData-linuxpc-2022-06-06 17_38_29_s10-5-1.csv', header = TRUE)\n",
    "# rpi4Data <- read.csv('DSS_SpanData-rpi4-2022-06-06 17_52_59_s10-5-1.csv', header = TRUE)\n",
    "# awsEC2Data <- read.csv('DSS_SpanData-aws_ec2-2022-06-07 17_44_08_s10-5-1.csv', header = TRUE)\n",
    "cci_Data <- read.csv('DSS_SpanData-odu_cci-2022-08-16 16_40_59_s100-5-1.csv', header = TRUE)"
   ]
  },
  {
   "cell_type": "markdown",
   "id": "3e779e71-f7f6-4e03-8a89-92eaa1b55eb2",
   "metadata": {},
   "source": [
    "### Review and Tag Data ###"
   ]
  },
  {
   "cell_type": "code",
   "execution_count": 6,
   "id": "e296ce1f-f449-4091-a473-bc34da58635f",
   "metadata": {
    "vscode": {
     "languageId": "r"
    }
   },
   "outputs": [
    {
     "data": {
      "text/plain": [
       "   Trace.ID          Trace.name         Start.time          Duration        \n",
       " Length:1000        Length:1000        Length:1000        Length:1000       \n",
       " Class :character   Class :character   Class :character   Class :character  \n",
       " Mode  :character   Mode  :character   Mode  :character   Mode  :character  "
      ]
     },
     "metadata": {},
     "output_type": "display_data"
    }
   ],
   "source": [
    "dssData <- cci_Data\n",
    "summary(dssData)"
   ]
  },
  {
   "cell_type": "code",
   "execution_count": 7,
   "id": "7185c833-da1e-4437-86f7-54e904857ed3",
   "metadata": {
    "vscode": {
     "languageId": "r"
    }
   },
   "outputs": [
    {
     "data": {
      "text/html": [
       "<table class=\"dataframe\">\n",
       "<caption>A data.frame: 6 × 2</caption>\n",
       "<thead>\n",
       "\t<tr><th></th><th scope=col>Trace.ID</th><th scope=col>Trace.name</th></tr>\n",
       "\t<tr><th></th><th scope=col>&lt;chr&gt;</th><th scope=col>&lt;chr&gt;</th></tr>\n",
       "</thead>\n",
       "<tbody>\n",
       "\t<tr><th scope=row>1</th><td>d0b79d9b2799e54938aaa693443b616b</td><td>dss-prototype: /TE            </td></tr>\n",
       "\t<tr><th scope=row>2</th><td>10b4102c975f1c15fbc7837eab612cee</td><td>dss-prototype: /tracks        </td></tr>\n",
       "\t<tr><th scope=row>3</th><td>8c492609e0e9293db0f5a35a83a6c79a</td><td>dss-prototype: IAD Flight Data</td></tr>\n",
       "\t<tr><th scope=row>4</th><td>bacfe758fe8a36e32d447cfe30ee2229</td><td>dss-prototype: RIC Flight Data</td></tr>\n",
       "\t<tr><th scope=row>5</th><td>9ae731e4d06d34fced2668992002e39d</td><td>dss-prototype: /WA            </td></tr>\n",
       "\t<tr><th scope=row>6</th><td>da98677d3951f63a1a3c4c7748841f77</td><td>dss-prototype: /TE            </td></tr>\n",
       "</tbody>\n",
       "</table>\n"
      ],
      "text/latex": [
       "A data.frame: 6 × 2\n",
       "\\begin{tabular}{r|ll}\n",
       "  & Trace.ID & Trace.name\\\\\n",
       "  & <chr> & <chr>\\\\\n",
       "\\hline\n",
       "\t1 & d0b79d9b2799e54938aaa693443b616b & dss-prototype: /TE            \\\\\n",
       "\t2 & 10b4102c975f1c15fbc7837eab612cee & dss-prototype: /tracks        \\\\\n",
       "\t3 & 8c492609e0e9293db0f5a35a83a6c79a & dss-prototype: IAD Flight Data\\\\\n",
       "\t4 & bacfe758fe8a36e32d447cfe30ee2229 & dss-prototype: RIC Flight Data\\\\\n",
       "\t5 & 9ae731e4d06d34fced2668992002e39d & dss-prototype: /WA            \\\\\n",
       "\t6 & da98677d3951f63a1a3c4c7748841f77 & dss-prototype: /TE            \\\\\n",
       "\\end{tabular}\n"
      ],
      "text/markdown": [
       "\n",
       "A data.frame: 6 × 2\n",
       "\n",
       "| <!--/--> | Trace.ID &lt;chr&gt; | Trace.name &lt;chr&gt; |\n",
       "|---|---|---|\n",
       "| 1 | d0b79d9b2799e54938aaa693443b616b | dss-prototype: /TE             |\n",
       "| 2 | 10b4102c975f1c15fbc7837eab612cee | dss-prototype: /tracks         |\n",
       "| 3 | 8c492609e0e9293db0f5a35a83a6c79a | dss-prototype: IAD Flight Data |\n",
       "| 4 | bacfe758fe8a36e32d447cfe30ee2229 | dss-prototype: RIC Flight Data |\n",
       "| 5 | 9ae731e4d06d34fced2668992002e39d | dss-prototype: /WA             |\n",
       "| 6 | da98677d3951f63a1a3c4c7748841f77 | dss-prototype: /TE             |\n",
       "\n"
      ],
      "text/plain": [
       "  Trace.ID                         Trace.name                    \n",
       "1 d0b79d9b2799e54938aaa693443b616b dss-prototype: /TE            \n",
       "2 10b4102c975f1c15fbc7837eab612cee dss-prototype: /tracks        \n",
       "3 8c492609e0e9293db0f5a35a83a6c79a dss-prototype: IAD Flight Data\n",
       "4 bacfe758fe8a36e32d447cfe30ee2229 dss-prototype: RIC Flight Data\n",
       "5 9ae731e4d06d34fced2668992002e39d dss-prototype: /WA            \n",
       "6 da98677d3951f63a1a3c4c7748841f77 dss-prototype: /TE            "
      ]
     },
     "metadata": {},
     "output_type": "display_data"
    },
    {
     "data": {
      "text/html": [
       "<table class=\"dataframe\">\n",
       "<caption>A data.frame: 6 × 2</caption>\n",
       "<thead>\n",
       "\t<tr><th></th><th scope=col>Start.time</th><th scope=col>Duration</th></tr>\n",
       "\t<tr><th></th><th scope=col>&lt;chr&gt;</th><th scope=col>&lt;chr&gt;</th></tr>\n",
       "</thead>\n",
       "<tbody>\n",
       "\t<tr><th scope=row>1</th><td>2022-08-16 15:35:42.640</td><td>8.71 ms</td></tr>\n",
       "\t<tr><th scope=row>2</th><td>2022-08-16 15:35:41.626</td><td>5.28 ms</td></tr>\n",
       "\t<tr><th scope=row>3</th><td>2022-08-16 15:35:40.304</td><td>309 ms </td></tr>\n",
       "\t<tr><th scope=row>4</th><td>2022-08-16 15:35:38.774</td><td>516 ms </td></tr>\n",
       "\t<tr><th scope=row>5</th><td>2022-08-16 15:35:37.757</td><td>11.5 ms</td></tr>\n",
       "\t<tr><th scope=row>6</th><td>2022-08-16 15:35:36.742</td><td>9.76 ms</td></tr>\n",
       "</tbody>\n",
       "</table>\n"
      ],
      "text/latex": [
       "A data.frame: 6 × 2\n",
       "\\begin{tabular}{r|ll}\n",
       "  & Start.time & Duration\\\\\n",
       "  & <chr> & <chr>\\\\\n",
       "\\hline\n",
       "\t1 & 2022-08-16 15:35:42.640 & 8.71 ms\\\\\n",
       "\t2 & 2022-08-16 15:35:41.626 & 5.28 ms\\\\\n",
       "\t3 & 2022-08-16 15:35:40.304 & 309 ms \\\\\n",
       "\t4 & 2022-08-16 15:35:38.774 & 516 ms \\\\\n",
       "\t5 & 2022-08-16 15:35:37.757 & 11.5 ms\\\\\n",
       "\t6 & 2022-08-16 15:35:36.742 & 9.76 ms\\\\\n",
       "\\end{tabular}\n"
      ],
      "text/markdown": [
       "\n",
       "A data.frame: 6 × 2\n",
       "\n",
       "| <!--/--> | Start.time &lt;chr&gt; | Duration &lt;chr&gt; |\n",
       "|---|---|---|\n",
       "| 1 | 2022-08-16 15:35:42.640 | 8.71 ms |\n",
       "| 2 | 2022-08-16 15:35:41.626 | 5.28 ms |\n",
       "| 3 | 2022-08-16 15:35:40.304 | 309 ms  |\n",
       "| 4 | 2022-08-16 15:35:38.774 | 516 ms  |\n",
       "| 5 | 2022-08-16 15:35:37.757 | 11.5 ms |\n",
       "| 6 | 2022-08-16 15:35:36.742 | 9.76 ms |\n",
       "\n"
      ],
      "text/plain": [
       "  Start.time              Duration\n",
       "1 2022-08-16 15:35:42.640 8.71 ms \n",
       "2 2022-08-16 15:35:41.626 5.28 ms \n",
       "3 2022-08-16 15:35:40.304 309 ms  \n",
       "4 2022-08-16 15:35:38.774 516 ms  \n",
       "5 2022-08-16 15:35:37.757 11.5 ms \n",
       "6 2022-08-16 15:35:36.742 9.76 ms "
      ]
     },
     "metadata": {},
     "output_type": "display_data"
    }
   ],
   "source": [
    "head(dssData[, c(1,2)])\n",
    "head(dssData[, c(3,4)])"
   ]
  },
  {
   "cell_type": "markdown",
   "id": "6a70f5b2-7fa8-4061-ac18-2d22cc9803aa",
   "metadata": {},
   "source": [
    "## Convert Data into Useable Metrics ##\n",
    "\n",
    "To make the data more usable and easier to understand we apply conversions from text to numeric and add additional columns with supporting information. A **useCase** column is added to identify specific DSS request use cases; e.g. Get Dulles Airport Data. The data also indicates whether the request is managed internally or a connection to an external service is required to provided a response (i.e., https://opensky-network.org).  A **numContainers** column is added to indicate the number of containers involved in providing a use case response (e.g. independent variable). An **ext** column is added to indicate whether an API external to the Docker environment is used; e.g., ext = TRUE for OpenSky API calls."
   ]
  },
  {
   "cell_type": "code",
   "execution_count": 8,
   "id": "95bbfcab-f739-4368-bb16-ce716e6056b8",
   "metadata": {
    "vscode": {
     "languageId": "r"
    }
   },
   "outputs": [],
   "source": [
    "## Dictionary for converting data\n",
    "\n",
    "DSSoperations <- c(\n",
    "    \"dss-prototype: /IAD\" = \"Get Dulles Airport Data (External)\",\n",
    "    \"dss-prototype: /RIC\" = \"Get Richmond Airport Data (External)\",\n",
    "    \"dss-prototype: /tracks\" = \"Get Stored Local DSS Tracks (Internal)\",\n",
    "    \"dss-prototype: /TE\" = \"Trial Engage (Internal)\",\n",
    "    \"dss-prototype: /WA\" = \"Assess Weapons (Internal)\"\n",
    ")\n",
    "\n",
    "DSSuseCaseNum <- c(\n",
    "    \"dss-prototype: /IAD\" = 4,\n",
    "    \"dss-prototype: /RIC\" = 5,\n",
    "    \"dss-prototype: /tracks\" = 1,\n",
    "    \"dss-prototype: /TE\" = 2,\n",
    "    \"dss-prototype: /WA\" = 3\n",
    ")\n",
    "\n",
    "DSSexternal <- c(\n",
    "    \"dss-prototype: /IAD\" = TRUE,\n",
    "    \"dss-prototype: /RIC\" = TRUE,\n",
    "    \"dss-prototype: /tracks\" = FALSE,\n",
    "    \"dss-prototype: /TE\" = FALSE,\n",
    "    \"dss-prototype: /WA\" = FALSE\n",
    ")\n",
    "\n",
    "DSStraceShortName <- c(\n",
    "    \"dss-prototype: /IAD\" = \"/IAD\",\n",
    "    \"dss-prototype: /RIC\" = \"/RIC\",\n",
    "    \"dss-prototype: /tracks\" = \"/tracks\",\n",
    "    \"dss-prototype: /TE\" = \"/TE\",\n",
    "    \"dss-prototype: /WA\" = \"/WA\"\n",
    ")"
   ]
  },
  {
   "cell_type": "markdown",
   "id": "b7f999e7-ae69-4363-a653-3f965e89f8f7",
   "metadata": {},
   "source": [
    "### Add Additional Column Descriptors ###"
   ]
  },
  {
   "cell_type": "code",
   "execution_count": 9,
   "id": "0b1b8f51-89be-4cbc-b41c-744414c8bfff",
   "metadata": {},
   "outputs": [],
   "source": [
    "spanData <- dssData\n",
    "spanMetrics <- spanData"
   ]
  },
  {
   "cell_type": "code",
   "execution_count": 10,
   "id": "4b6b4fe5-f682-4039-b30c-22d2fb344d64",
   "metadata": {},
   "outputs": [],
   "source": [
    "spanMetrics$useCase <- DSSoperations[spanMetrics$Trace.name]\n",
    "spanMetrics$useCaseNum <- DSSuseCaseNum[spanMetrics$Trace.name]\n",
    "\n",
    "spanMetrics$ext = DSSexternal[spanMetrics$Trace.name]\n",
    "spanMetrics$Trace.name = DSStraceShortName[spanMetrics$Trace.name]\n",
    "    \n",
    "# truncate span ID\n",
    "# spanMetrics$Trace.ID <- str_sub(spanMetrics$Trace.ID,1,4)\n",
    "    \n",
    "\n",
    "# summary(spanMetrics)\n",
    "# head(spanMetrics)\n",
    "# tail(spanMetrics)\n",
    "\n",
    "# spanMetrics"
   ]
  },
  {
   "cell_type": "code",
   "execution_count": 11,
   "id": "63fcdf9c-befb-423c-8a14-a9951e9d74a8",
   "metadata": {
    "vscode": {
     "languageId": "r"
    }
   },
   "outputs": [],
   "source": [
    "# Convert character data into numeric metrics\n",
    "\n",
    "for(index in 1:nrow(spanMetrics)) {       # for-loop over rows\n",
    "    \n",
    "    # Convert span duration\n",
    "    \n",
    "    char = spanMetrics[index,4]\n",
    "    len = str_length(char)\n",
    "    duration = str_sub(char,1,(len-3))\n",
    "    units = str_sub(char,(len-1),len)\n",
    "    duration = as.numeric(duration)\n",
    "    \n",
    "    # print(duration)\n",
    "    # print(units)\n",
    "\n",
    "    if(units == 'ms') {\n",
    "        duration = duration               # Keep ms\n",
    "    } else if (units == 'µs') {\n",
    "        duration = duration * 0.001       # Convert µs to ms\n",
    "    } else if (units == ' s') {\n",
    "        duration = duration * 1000        # Convert s to ms\n",
    "    } else {\n",
    "        print ('Unable to find specified units')\n",
    "        print (units)\n",
    "    }\n",
    "    \n",
    "    # if(units == 'ms') {\n",
    "    #     duration = duration / 1000        # Convert ms to s\n",
    "    # } else if (units == 'µs') {\n",
    "    #     duration = duration / 1000000     # Convert µs to s\n",
    "    # } else if (units == ' s') {\n",
    "    #     duration = duration               # Keep s\n",
    "    # } else {\n",
    "    #     print ('Unable to find specified units')\n",
    "    #     print (units)\n",
    "    # }    \n",
    "    \n",
    "    \n",
    "    spanMetrics[index,4] = duration\n",
    "    \n",
    "    # Convert time\n",
    "\n",
    "    # time = spanMetrics[index,3]\n",
    "    # epoch <- as.POSIXct(time)\n",
    "    # epoch_int <- as.integer(epoch)\n",
    "    # spanMetrics[index,3] = epoch_int\n",
    "}\n",
    "\n",
    "# spanMetrics"
   ]
  },
  {
   "cell_type": "code",
   "execution_count": 12,
   "id": "9886b35d-c7d7-42b0-8b58-e46315494bc3",
   "metadata": {
    "vscode": {
     "languageId": "r"
    }
   },
   "outputs": [],
   "source": [
    "# Convert columns from char to numeric\n",
    "\n",
    "spanMetrics$Duration = as.numeric(spanMetrics$Duration)\n",
    "# spanMetrics$Start.time = as.numeric(spanMetrics$Start.time)\n",
    "\n",
    "# spanMetrics"
   ]
  },
  {
   "cell_type": "code",
   "execution_count": 13,
   "id": "27ecbeb6-dc1f-47f7-9cef-ac52e2bea2de",
   "metadata": {},
   "outputs": [],
   "source": [
    "spanMetrics$Trace.name <- as.factor(spanMetrics$Trace.name)\n",
    "spanMetrics$useCase <- as.factor(spanMetrics$useCase)\n",
    "spanMetrics$Trace.useCaseNum <- as.factor(spanMetrics$useCaseNum)"
   ]
  },
  {
   "cell_type": "code",
   "execution_count": 14,
   "id": "9492a7ac-2e9b-4747-bcfb-35f306fddba1",
   "metadata": {},
   "outputs": [
    {
     "data": {
      "text/plain": [
       "   Trace.ID           Trace.name   Start.time           Duration      \n",
       " Length:1000        /TE    :200   Length:1000        Min.   :   4.83  \n",
       " Class :character   /tracks:200   Class :character   1st Qu.:   8.42  \n",
       " Mode  :character   /WA    :200   Mode  :character   Median :  12.40  \n",
       "                    NA's   :400                      Mean   : 144.62  \n",
       "                                                     3rd Qu.: 315.00  \n",
       "                                                     Max.   :1500.00  \n",
       "                                                                      \n",
       "                                   useCase      useCaseNum     ext         \n",
       " Assess Weapons (Internal)             :200   Min.   :1     Mode :logical  \n",
       " Get Stored Local DSS Tracks (Internal):200   1st Qu.:1     FALSE:600      \n",
       " Trial Engage (Internal)               :200   Median :2     NA's :400      \n",
       " NA's                                  :400   Mean   :2                    \n",
       "                                              3rd Qu.:3                    \n",
       "                                              Max.   :3                    \n",
       "                                              NA's   :400                  \n",
       " Trace.useCaseNum\n",
       " 1   :200        \n",
       " 2   :200        \n",
       " 3   :200        \n",
       " NA's:400        \n",
       "                 \n",
       "                 \n",
       "                 "
      ]
     },
     "metadata": {},
     "output_type": "display_data"
    },
    {
     "data": {
      "text/html": [
       "<table class=\"dataframe\">\n",
       "<caption>A data.frame: 6 × 4</caption>\n",
       "<thead>\n",
       "\t<tr><th></th><th scope=col>Trace.name</th><th scope=col>Start.time</th><th scope=col>Duration</th><th scope=col>useCase</th></tr>\n",
       "\t<tr><th></th><th scope=col>&lt;fct&gt;</th><th scope=col>&lt;chr&gt;</th><th scope=col>&lt;dbl&gt;</th><th scope=col>&lt;fct&gt;</th></tr>\n",
       "</thead>\n",
       "<tbody>\n",
       "\t<tr><th scope=row>1</th><td>/TE    </td><td>2022-08-16 15:35:42.640</td><td>  8.71</td><td>Trial Engage (Internal)               </td></tr>\n",
       "\t<tr><th scope=row>2</th><td>/tracks</td><td>2022-08-16 15:35:41.626</td><td>  5.28</td><td>Get Stored Local DSS Tracks (Internal)</td></tr>\n",
       "\t<tr><th scope=row>3</th><td>NA     </td><td>2022-08-16 15:35:40.304</td><td>309.00</td><td>NA                                    </td></tr>\n",
       "\t<tr><th scope=row>4</th><td>NA     </td><td>2022-08-16 15:35:38.774</td><td>516.00</td><td>NA                                    </td></tr>\n",
       "\t<tr><th scope=row>5</th><td>/WA    </td><td>2022-08-16 15:35:37.757</td><td> 11.50</td><td>Assess Weapons (Internal)             </td></tr>\n",
       "\t<tr><th scope=row>6</th><td>/TE    </td><td>2022-08-16 15:35:36.742</td><td>  9.76</td><td>Trial Engage (Internal)               </td></tr>\n",
       "</tbody>\n",
       "</table>\n"
      ],
      "text/latex": [
       "A data.frame: 6 × 4\n",
       "\\begin{tabular}{r|llll}\n",
       "  & Trace.name & Start.time & Duration & useCase\\\\\n",
       "  & <fct> & <chr> & <dbl> & <fct>\\\\\n",
       "\\hline\n",
       "\t1 & /TE     & 2022-08-16 15:35:42.640 &   8.71 & Trial Engage (Internal)               \\\\\n",
       "\t2 & /tracks & 2022-08-16 15:35:41.626 &   5.28 & Get Stored Local DSS Tracks (Internal)\\\\\n",
       "\t3 & NA      & 2022-08-16 15:35:40.304 & 309.00 & NA                                    \\\\\n",
       "\t4 & NA      & 2022-08-16 15:35:38.774 & 516.00 & NA                                    \\\\\n",
       "\t5 & /WA     & 2022-08-16 15:35:37.757 &  11.50 & Assess Weapons (Internal)             \\\\\n",
       "\t6 & /TE     & 2022-08-16 15:35:36.742 &   9.76 & Trial Engage (Internal)               \\\\\n",
       "\\end{tabular}\n"
      ],
      "text/markdown": [
       "\n",
       "A data.frame: 6 × 4\n",
       "\n",
       "| <!--/--> | Trace.name &lt;fct&gt; | Start.time &lt;chr&gt; | Duration &lt;dbl&gt; | useCase &lt;fct&gt; |\n",
       "|---|---|---|---|---|\n",
       "| 1 | /TE     | 2022-08-16 15:35:42.640 |   8.71 | Trial Engage (Internal)                |\n",
       "| 2 | /tracks | 2022-08-16 15:35:41.626 |   5.28 | Get Stored Local DSS Tracks (Internal) |\n",
       "| 3 | NA      | 2022-08-16 15:35:40.304 | 309.00 | NA                                     |\n",
       "| 4 | NA      | 2022-08-16 15:35:38.774 | 516.00 | NA                                     |\n",
       "| 5 | /WA     | 2022-08-16 15:35:37.757 |  11.50 | Assess Weapons (Internal)              |\n",
       "| 6 | /TE     | 2022-08-16 15:35:36.742 |   9.76 | Trial Engage (Internal)                |\n",
       "\n"
      ],
      "text/plain": [
       "  Trace.name Start.time              Duration\n",
       "1 /TE        2022-08-16 15:35:42.640   8.71  \n",
       "2 /tracks    2022-08-16 15:35:41.626   5.28  \n",
       "3 NA         2022-08-16 15:35:40.304 309.00  \n",
       "4 NA         2022-08-16 15:35:38.774 516.00  \n",
       "5 /WA        2022-08-16 15:35:37.757  11.50  \n",
       "6 /TE        2022-08-16 15:35:36.742   9.76  \n",
       "  useCase                               \n",
       "1 Trial Engage (Internal)               \n",
       "2 Get Stored Local DSS Tracks (Internal)\n",
       "3 NA                                    \n",
       "4 NA                                    \n",
       "5 Assess Weapons (Internal)             \n",
       "6 Trial Engage (Internal)               "
      ]
     },
     "metadata": {},
     "output_type": "display_data"
    },
    {
     "data": {
      "text/html": [
       "<table class=\"dataframe\">\n",
       "<caption>A data.frame: 6 × 2</caption>\n",
       "<thead>\n",
       "\t<tr><th></th><th scope=col>useCaseNum</th><th scope=col>ext</th></tr>\n",
       "\t<tr><th></th><th scope=col>&lt;dbl&gt;</th><th scope=col>&lt;lgl&gt;</th></tr>\n",
       "</thead>\n",
       "<tbody>\n",
       "\t<tr><th scope=row>1</th><td> 2</td><td>FALSE</td></tr>\n",
       "\t<tr><th scope=row>2</th><td> 1</td><td>FALSE</td></tr>\n",
       "\t<tr><th scope=row>3</th><td>NA</td><td>   NA</td></tr>\n",
       "\t<tr><th scope=row>4</th><td>NA</td><td>   NA</td></tr>\n",
       "\t<tr><th scope=row>5</th><td> 3</td><td>FALSE</td></tr>\n",
       "\t<tr><th scope=row>6</th><td> 2</td><td>FALSE</td></tr>\n",
       "</tbody>\n",
       "</table>\n"
      ],
      "text/latex": [
       "A data.frame: 6 × 2\n",
       "\\begin{tabular}{r|ll}\n",
       "  & useCaseNum & ext\\\\\n",
       "  & <dbl> & <lgl>\\\\\n",
       "\\hline\n",
       "\t1 &  2 & FALSE\\\\\n",
       "\t2 &  1 & FALSE\\\\\n",
       "\t3 & NA &    NA\\\\\n",
       "\t4 & NA &    NA\\\\\n",
       "\t5 &  3 & FALSE\\\\\n",
       "\t6 &  2 & FALSE\\\\\n",
       "\\end{tabular}\n"
      ],
      "text/markdown": [
       "\n",
       "A data.frame: 6 × 2\n",
       "\n",
       "| <!--/--> | useCaseNum &lt;dbl&gt; | ext &lt;lgl&gt; |\n",
       "|---|---|---|\n",
       "| 1 |  2 | FALSE |\n",
       "| 2 |  1 | FALSE |\n",
       "| 3 | NA |    NA |\n",
       "| 4 | NA |    NA |\n",
       "| 5 |  3 | FALSE |\n",
       "| 6 |  2 | FALSE |\n",
       "\n"
      ],
      "text/plain": [
       "  useCaseNum ext  \n",
       "1  2         FALSE\n",
       "2  1         FALSE\n",
       "3 NA            NA\n",
       "4 NA            NA\n",
       "5  3         FALSE\n",
       "6  2         FALSE"
      ]
     },
     "metadata": {},
     "output_type": "display_data"
    }
   ],
   "source": [
    "summary(spanMetrics)\n",
    "\n",
    "# # sort span metrics by use case number\n",
    "# spanMetricsA <- arrange(spanMetrics, useCaseNum)\n",
    "\n",
    "head(spanMetrics[, c(2,3,4,5)])\n",
    "head(spanMetrics[, c(6,7)])\n",
    "\n",
    "# spanMetricsA"
   ]
  },
  {
   "cell_type": "code",
   "execution_count": 15,
   "id": "2f789fd4-754d-4685-896b-b1897f53780d",
   "metadata": {},
   "outputs": [
    {
     "data": {
      "image/png": "[encoded data removed]",
      "text/plain": [
       "plot without title"
      ]
     },
     "metadata": {
      "image/png": {
       "height": 420,
       "width": 420
      }
     },
     "output_type": "display_data"
    }
   ],
   "source": [
    "qplot(useCaseNum, Duration, data = spanMetrics)"
   ]
  },
  {
   "cell_type": "code",
   "execution_count": 16,
   "id": "1e51f9b5-f1b0-45be-a32f-676debcd2ec1",
   "metadata": {},
   "outputs": [],
   "source": [
    "# Remove outliers\n",
    "aSpan <- spanMetrics\n",
    "# outliers <- boxplot(aSpan$Duration, plot = FALSE)$out\n",
    "# outliers\n",
    "\n",
    "# aSpan <- aSpan[-which(aSpan$Duration %in% outliers),]"
   ]
  },
  {
   "cell_type": "code",
   "execution_count": 17,
   "id": "5f990260-bcf4-4896-8a7a-c4b518e64801",
   "metadata": {},
   "outputs": [
    {
     "data": {
      "image/png": "[encoded data removed]",
      "text/plain": [
       "plot without title"
      ]
     },
     "metadata": {
      "image/png": {
       "height": 420,
       "width": 420
      }
     },
     "output_type": "display_data"
    }
   ],
   "source": [
    "spanMetrics %>%\n",
    "# aSpan %>%\n",
    "    ggplot(aes(Duration)) + geom_histogram(binwidth = 50) +\n",
    "    ggtitle(\"Duration (ms), Binwidth = 50\") +\n",
    "    xlab(\"Duration (ms)\")"
   ]
  },
  {
   "cell_type": "code",
   "execution_count": 18,
   "id": "e80af289-051d-4096-9c7d-2d21f0759064",
   "metadata": {},
   "outputs": [
    {
     "data": {
      "image/png": "[encoded data removed]",
      "text/plain": [
       "Plot with title “Span Duration Q-Q Norm Plot”"
      ]
     },
     "metadata": {
      "image/png": {
       "height": 420,
       "width": 420
      }
     },
     "output_type": "display_data"
    }
   ],
   "source": [
    "qqnorm(aSpan$Duration, main=\"Span Duration Q-Q Norm Plot\")\n",
    "qqline(aSpan$Duration)"
   ]
  },
  {
   "cell_type": "code",
   "execution_count": 19,
   "id": "efc6629c-3f55-4cf0-b04e-0a525b72ba5e",
   "metadata": {
    "tags": [],
    "vscode": {
     "languageId": "r"
    }
   },
   "outputs": [],
   "source": [
    "# Separate Internal Data\n",
    "# Could use ext == FALSE\n",
    "\n",
    "tracksSpanData = subset(aSpan, useCaseNum == 1)\n",
    "TE_SpanData = subset(aSpan, useCaseNum == 2)\n",
    "WA_SpanData = subset(aSpan, useCaseNum == 3)\n",
    "\n",
    "internalSpanData <- rbind(tracksSpanData, TE_SpanData, WA_SpanData)\n",
    "# internalSpanData <- rbind(WA_SpanData)\n",
    "dssSpanData <- rbind(TE_SpanData, WA_SpanData)"
   ]
  },
  {
   "cell_type": "code",
   "execution_count": 20,
   "id": "cdc3e66e-5f60-476e-93d1-ad6d864d3fd4",
   "metadata": {},
   "outputs": [
    {
     "data": {
      "image/png": "[encoded data removed]",
      "text/plain": [
       "Plot with title “Internal Span Duration Q-Q Norm Plot”"
      ]
     },
     "metadata": {
      "image/png": {
       "height": 420,
       "width": 420
      }
     },
     "output_type": "display_data"
    }
   ],
   "source": [
    "qqnorm(internalSpanData$Duration, main=\"Internal Span Duration Q-Q Norm Plot\")\n",
    "qqline(internalSpanData$Duration)\n",
    "\n",
    "# qqnorm(dssSpanData$Duration, main=\"DSS Span Duration Q-Q Norm Plot\")\n",
    "# qqline(dssSpanData$Duration)"
   ]
  },
  {
   "cell_type": "code",
   "execution_count": 21,
   "id": "579449a6-5b88-4839-a3f3-dd68120bd255",
   "metadata": {},
   "outputs": [
    {
     "data": {
      "text/html": [],
      "text/latex": [],
      "text/markdown": [],
      "text/plain": [
       "integer(0)"
      ]
     },
     "metadata": {},
     "output_type": "display_data"
    }
   ],
   "source": [
    "outliers <- which(internalSpanData$Duration > 50) #outlier rows\n",
    "outliers\n",
    "# iSpan <- internalSpanData[!outliers,]\n",
    "# iSpan <- dssSpanData[!dssSpanData$Duration > 50,]\n",
    "iSpan <- internalSpanData[!internalSpanData$Duration > 50,]\n",
    "    # Remove if duration is greater than a value"
   ]
  },
  {
   "cell_type": "code",
   "execution_count": 22,
   "id": "d4f99bcf-95fc-4543-82de-75b3286da190",
   "metadata": {},
   "outputs": [
    {
     "data": {
      "text/plain": [
       "   Trace.ID           Trace.name   Start.time           Duration      \n",
       " Length:600         /TE    :200   Length:600         Min.   :0.00000  \n",
       " Class :character   /tracks:200   Class :character   1st Qu.:0.07944  \n",
       " Mode  :character   /WA    :200   Mode  :character   Median :0.22677  \n",
       "                                                     Mean   :0.24002  \n",
       "                                                     3rd Qu.:0.39482  \n",
       "                                                     Max.   :1.00000  \n",
       "                                   useCase      useCaseNum    ext         \n",
       " Assess Weapons (Internal)             :200   Min.   :1    Mode :logical  \n",
       " Get Stored Local DSS Tracks (Internal):200   1st Qu.:1    FALSE:600      \n",
       " Trial Engage (Internal)               :200   Median :2                   \n",
       "                                              Mean   :2                   \n",
       "                                              3rd Qu.:3                   \n",
       "                                              Max.   :3                   \n",
       " Trace.useCaseNum\n",
       " 1:200           \n",
       " 2:200           \n",
       " 3:200           \n",
       "                 \n",
       "                 \n",
       "                 "
      ]
     },
     "metadata": {},
     "output_type": "display_data"
    }
   ],
   "source": [
    "# create min-max-norm function\n",
    "min_max_norm <- function(x) {\n",
    "    (x - min(x)) / (max(x) - min(x))\n",
    "  }\n",
    "\n",
    "#apply Min-Max normalization\n",
    "norm_iSpan <- iSpan\n",
    "norm_iSpan$Duration <- (iSpan$Duration - min(iSpan$Duration)) / \n",
    "    (max(iSpan$Duration) - min(iSpan$Duration))\n",
    "\n",
    "summary(norm_iSpan)"
   ]
  },
  {
   "cell_type": "code",
   "execution_count": 23,
   "id": "31393c34-3741-4ffb-8fe9-b92d3a1dd4b1",
   "metadata": {},
   "outputs": [],
   "source": [
    "log_iSpan <- iSpan\n",
    "log_iSpan$Duration=log(log_iSpan$Duration + 1) # Natural Log\n",
    "inv_iSpan <- iSpan\n",
    "inv_iSpan$Duration = (1 / inv_iSpan$Duration)"
   ]
  },
  {
   "cell_type": "code",
   "execution_count": 24,
   "id": "fc825858-3174-46d4-aef5-c88f8b52f92a",
   "metadata": {},
   "outputs": [
    {
     "data": {
      "text/plain": [
       "\n",
       "\tShapiro-Wilk normality test\n",
       "\n",
       "data:  log_iSpan$Duration\n",
       "W = 0.93199, p-value = 7.054e-16\n"
      ]
     },
     "metadata": {},
     "output_type": "display_data"
    },
    {
     "data": {
      "text/plain": [
       "\n",
       "\tShapiro-Wilk normality test\n",
       "\n",
       "data:  inv_iSpan$Duration\n",
       "W = 0.90386, p-value < 2.2e-16\n"
      ]
     },
     "metadata": {},
     "output_type": "display_data"
    },
    {
     "data": {
      "text/plain": [
       "\n",
       "\tShapiro-Wilk normality test\n",
       "\n",
       "data:  norm_iSpan$Duration\n",
       "W = 0.92623, p-value < 2.2e-16\n"
      ]
     },
     "metadata": {},
     "output_type": "display_data"
    },
    {
     "data": {
      "image/png": "[encoded data removed]",
      "text/plain": [
       "Plot with title “Histogram of norm_iSpan$Duration”"
      ]
     },
     "metadata": {
      "image/png": {
       "height": 420,
       "width": 420
      }
     },
     "output_type": "display_data"
    }
   ],
   "source": [
    "shapiro.test(log_iSpan$Duration)\n",
    "shapiro.test(inv_iSpan$Duration)\n",
    "shapiro.test(norm_iSpan$Duration)\n",
    "\n",
    "hist(norm_iSpan$Duration)"
   ]
  },
  {
   "cell_type": "code",
   "execution_count": 25,
   "id": "91e0f7e2-2930-4895-868e-87017c77418c",
   "metadata": {},
   "outputs": [
    {
     "data": {
      "image/png": "[encoded data removed]",
      "text/plain": [
       "Plot with title “Histogram of inv_norm_iSpan$Duration”"
      ]
     },
     "metadata": {
      "image/png": {
       "height": 420,
       "width": 420
      }
     },
     "output_type": "display_data"
    },
    {
     "data": {
      "text/plain": [
       "\n",
       "\tShapiro-Wilk normality test\n",
       "\n",
       "data:  log_inv_norm_iSpan$Duration\n",
       "W = NaN, p-value = NA\n"
      ]
     },
     "metadata": {},
     "output_type": "display_data"
    },
    {
     "data": {
      "image/png": "[encoded data removed]",
      "text/plain": [
       "Plot with title “Histogram of log_inv_norm_iSpan$Duration”"
      ]
     },
     "metadata": {
      "image/png": {
       "height": 420,
       "width": 420
      }
     },
     "output_type": "display_data"
    }
   ],
   "source": [
    "# log_norm_iSpan <- norm_iSpan\n",
    "# log_norm_iSpan$Duration=log(log_norm_iSpan$Duration + 1)\n",
    "# hist(log_norm_iSpan$Duration)\n",
    "# shapiro.test(log_norm_iSpan$Duration)\n",
    "# inv_log_norm_iSpan <- log_norm_iSpan\n",
    "# inv_log_norm_iSpan$Duration = (1 / inv_log_norm_iSpan$Duration)\n",
    "# hist(inv_log_norm_iSpan$Duration)\n",
    "\n",
    "inv_norm_iSpan <- norm_iSpan\n",
    "inv_norm_iSpan$Duration = (1 / inv_norm_iSpan$Duration)\n",
    "hist(inv_norm_iSpan$Duration)\n",
    "\n",
    "log_inv_norm_iSpan <- inv_norm_iSpan\n",
    "log_inv_norm_iSpan$Duration=log(log_inv_norm_iSpan$Duration + 1)\n",
    "hist(log_inv_norm_iSpan$Duration)\n",
    "shapiro.test(log_inv_norm_iSpan$Duration)"
   ]
  },
  {
   "cell_type": "code",
   "execution_count": 26,
   "id": "f06d5d1f-3628-430d-a5bf-e9bda1aca84d",
   "metadata": {},
   "outputs": [
    {
     "data": {
      "image/png": "[encoded data removed]",
      "text/plain": [
       "plot without title"
      ]
     },
     "metadata": {
      "image/png": {
       "height": 420,
       "width": 420
      }
     },
     "output_type": "display_data"
    }
   ],
   "source": [
    "norm_iSpan %>%\n",
    "# aSpan %>%\n",
    "    ggplot(aes(Duration)) + geom_histogram(binwidth = 0.01) +\n",
    "    ggtitle(\"Duration (ms) (Normalized 0.0-1.0), Binwidth = 0.01\") +\n",
    "    xlab(\"Duration (ms) (Normalized)\")"
   ]
  },
  {
   "cell_type": "code",
   "execution_count": null,
   "id": "f217dd8a-3798-498b-8ad7-9e19dbfbd9d8",
   "metadata": {},
   "outputs": [],
   "source": []
  }
 ],
 "metadata": {
  "kernelspec": {
   "display_name": "R",
   "language": "R",
   "name": "ir"
  },
  "language_info": {
   "codemirror_mode": "r",
   "file_extension": ".r",
   "mimetype": "text/x-r-source",
   "name": "R",
   "pygments_lexer": "r",
   "version": "4.1.3"
  },
  "toc-autonumbering": false,
  "toc-showmarkdowntxt": false
 },
 "nbformat": 4,
 "nbformat_minor": 5
}
