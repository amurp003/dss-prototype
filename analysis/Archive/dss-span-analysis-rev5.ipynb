{
 "cells": [
  {
   "cell_type": "raw",
   "id": "1fa822c2-f097-4ffe-9aa9-475308170d8a",
   "metadata": {
    "tags": []
   },
   "source": [
    "---\n",
    "title: \"DSS Prototype Analysis\"\n",
    "author: \"Alvin Murphy\"\n",
    "format:\n",
    "  pdf:\n",
    "    toc: true\n",
    "    number-sections: true\n",
    "    colorlinks: true\n",
    "execute:\n",
    "  echo: true\n",
    "  warning: false\n",
    "  error: false\n",
    "---\n"
   ]
  },
  {
   "cell_type": "markdown",
   "id": "b93c42f7-58bd-4ccc-a630-d5c9d6e9f1fa",
   "metadata": {
    "tags": []
   },
   "source": [
    "\\newpage"
   ]
  },
  {
   "cell_type": "markdown",
   "id": "2cfb1ede-a531-4607-bc92-23b0f2e9bc26",
   "metadata": {
    "tags": []
   },
   "source": [
    "## Hypothesis ##\n",
    "\n",
    "Hypotheses are \"innocent until proven guilty.\" We'll assume that SpaceX and others have proven that DevSecOps tech can meet hard-real-time requirements but nothing available in the body of knowledge documents this.\n",
    "\n",
    "**Hypothesis:** Modern DevSecOps architectures can be designed to meet hard-real-time latency ($\\mu$) requirements using modern computing environments and computing infrastructure.\n",
    "\n",
    "$H_0: \\mu \\le 500  ms$ with jitter within latency bounds   \n",
    "$H_a: \\mu > 500  ms$ with jitter exceeding latency bounds  \n"
   ]
  },
  {
   "cell_type": "markdown",
   "id": "3be85f6c-08b6-490f-956b-73c4143052cd",
   "metadata": {
    "tags": []
   },
   "source": [
    "_Murphy, Alvin C. and Moreland Jr, James D. ‘Integrating AI Microservices into Hard-Real-Time SoS to Ensure Trustworthiness of Digital Enterprise Using Mission Engineering’. 1 Jan. 2021 : 38 – 54._"
   ]
  },
  {
   "cell_type": "code",
   "execution_count": 1,
   "id": "34346fcc-3f2b-42c8-b503-3349365c2006",
   "metadata": {
    "vscode": {
     "languageId": "r"
    }
   },
   "outputs": [],
   "source": [
    "setwd('/home/jovyan/work/data')"
   ]
  },
  {
   "cell_type": "markdown",
   "id": "3971f457-3ceb-46a0-b8aa-c6ad10abfbc4",
   "metadata": {},
   "source": [
    "## Load Data Files ##"
   ]
  },
  {
   "cell_type": "code",
   "execution_count": 2,
   "id": "1ca329c4-df0b-44f0-8328-cba2454d14d8",
   "metadata": {},
   "outputs": [],
   "source": [
    "macData <- read.csv('DSS_SpanData-mac-2022-05-02 18_38_26_s10-5-1.csv', header = TRUE)\n",
    "linpcData <- read.csv('DSS_SpanData-linuxpc-2022-06-06 17_38_29_s10-5-1.csv', header = TRUE)\n",
    "rpi4Data <- read.csv('DSS_SpanData-rpi4-2022-06-06 17_52_59_s10-5-1.csv', header = TRUE)\n",
    "awsEC2Data <- read.csv('DSS_SpanData-aws_ec2-2022-06-07 17_44_08_s10-5-1.csv', header = TRUE)\n",
    "cci_Data <- read.csv('DSS_SpanData-odu_cci-2022-06-28 17_47_20_s10-5-1.csv', header = TRUE)"
   ]
  },
  {
   "cell_type": "markdown",
   "id": "3e779e71-f7f6-4e03-8a89-92eaa1b55eb2",
   "metadata": {},
   "source": [
    "### Review and Tag MacBook Air (2017) Data ###"
   ]
  },
  {
   "cell_type": "code",
   "execution_count": 3,
   "id": "e296ce1f-f449-4091-a473-bc34da58635f",
   "metadata": {
    "vscode": {
     "languageId": "r"
    }
   },
   "outputs": [
    {
     "data": {
      "text/plain": [
       "   Trace.ID          Trace.name         Start.time          Duration        \n",
       " Length:100         Length:100         Length:100         Length:100        \n",
       " Class :character   Class :character   Class :character   Class :character  \n",
       " Mode  :character   Mode  :character   Mode  :character   Mode  :character  "
      ]
     },
     "metadata": {},
     "output_type": "display_data"
    }
   ],
   "source": [
    "summary(macData)"
   ]
  },
  {
   "cell_type": "code",
   "execution_count": 4,
   "id": "7185c833-da1e-4437-86f7-54e904857ed3",
   "metadata": {
    "vscode": {
     "languageId": "r"
    }
   },
   "outputs": [
    {
     "data": {
      "text/html": [
       "<table class=\"dataframe\">\n",
       "<caption>A data.frame: 6 × 2</caption>\n",
       "<thead>\n",
       "\t<tr><th></th><th scope=col>Trace.ID</th><th scope=col>Trace.name</th></tr>\n",
       "\t<tr><th></th><th scope=col>&lt;chr&gt;</th><th scope=col>&lt;chr&gt;</th></tr>\n",
       "</thead>\n",
       "<tbody>\n",
       "\t<tr><th scope=row>1</th><td>9ee3577fb1b427bc4fc17fecc5154d7d</td><td>dss-prototype: /TE    </td></tr>\n",
       "\t<tr><th scope=row>2</th><td>f05ddc4dc13aff5c3098011b2a402401</td><td>dss-prototype: /tracks</td></tr>\n",
       "\t<tr><th scope=row>3</th><td>2bd901fbbfc9ee8dfa7c9629d93a1567</td><td>dss-prototype: /IAD   </td></tr>\n",
       "\t<tr><th scope=row>4</th><td>69a48381a14e79da08aaa2353f7db4b2</td><td>dss-prototype: /RIC   </td></tr>\n",
       "\t<tr><th scope=row>5</th><td>e83037dcb9438c04dc12fba373b5502f</td><td>dss-prototype: /WA    </td></tr>\n",
       "\t<tr><th scope=row>6</th><td>7e381cd880adb670bb9627ca47020938</td><td>dss-prototype: /TE    </td></tr>\n",
       "</tbody>\n",
       "</table>\n"
      ],
      "text/latex": [
       "A data.frame: 6 × 2\n",
       "\\begin{tabular}{r|ll}\n",
       "  & Trace.ID & Trace.name\\\\\n",
       "  & <chr> & <chr>\\\\\n",
       "\\hline\n",
       "\t1 & 9ee3577fb1b427bc4fc17fecc5154d7d & dss-prototype: /TE    \\\\\n",
       "\t2 & f05ddc4dc13aff5c3098011b2a402401 & dss-prototype: /tracks\\\\\n",
       "\t3 & 2bd901fbbfc9ee8dfa7c9629d93a1567 & dss-prototype: /IAD   \\\\\n",
       "\t4 & 69a48381a14e79da08aaa2353f7db4b2 & dss-prototype: /RIC   \\\\\n",
       "\t5 & e83037dcb9438c04dc12fba373b5502f & dss-prototype: /WA    \\\\\n",
       "\t6 & 7e381cd880adb670bb9627ca47020938 & dss-prototype: /TE    \\\\\n",
       "\\end{tabular}\n"
      ],
      "text/markdown": [
       "\n",
       "A data.frame: 6 × 2\n",
       "\n",
       "| <!--/--> | Trace.ID &lt;chr&gt; | Trace.name &lt;chr&gt; |\n",
       "|---|---|---|\n",
       "| 1 | 9ee3577fb1b427bc4fc17fecc5154d7d | dss-prototype: /TE     |\n",
       "| 2 | f05ddc4dc13aff5c3098011b2a402401 | dss-prototype: /tracks |\n",
       "| 3 | 2bd901fbbfc9ee8dfa7c9629d93a1567 | dss-prototype: /IAD    |\n",
       "| 4 | 69a48381a14e79da08aaa2353f7db4b2 | dss-prototype: /RIC    |\n",
       "| 5 | e83037dcb9438c04dc12fba373b5502f | dss-prototype: /WA     |\n",
       "| 6 | 7e381cd880adb670bb9627ca47020938 | dss-prototype: /TE     |\n",
       "\n"
      ],
      "text/plain": [
       "  Trace.ID                         Trace.name            \n",
       "1 9ee3577fb1b427bc4fc17fecc5154d7d dss-prototype: /TE    \n",
       "2 f05ddc4dc13aff5c3098011b2a402401 dss-prototype: /tracks\n",
       "3 2bd901fbbfc9ee8dfa7c9629d93a1567 dss-prototype: /IAD   \n",
       "4 69a48381a14e79da08aaa2353f7db4b2 dss-prototype: /RIC   \n",
       "5 e83037dcb9438c04dc12fba373b5502f dss-prototype: /WA    \n",
       "6 7e381cd880adb670bb9627ca47020938 dss-prototype: /TE    "
      ]
     },
     "metadata": {},
     "output_type": "display_data"
    },
    {
     "data": {
      "text/html": [
       "<table class=\"dataframe\">\n",
       "<caption>A data.frame: 6 × 2</caption>\n",
       "<thead>\n",
       "\t<tr><th></th><th scope=col>Start.time</th><th scope=col>Duration</th></tr>\n",
       "\t<tr><th></th><th scope=col>&lt;chr&gt;</th><th scope=col>&lt;chr&gt;</th></tr>\n",
       "</thead>\n",
       "<tbody>\n",
       "\t<tr><th scope=row>1</th><td>2022-05-02 10:25:01.366</td><td>36.0 ms</td></tr>\n",
       "\t<tr><th scope=row>2</th><td>2022-05-02 10:25:00.309</td><td>43.3 ms</td></tr>\n",
       "\t<tr><th scope=row>3</th><td>2022-05-02 10:24:58.818</td><td>464 ms </td></tr>\n",
       "\t<tr><th scope=row>4</th><td>2022-05-02 10:24:57.307</td><td>494 ms </td></tr>\n",
       "\t<tr><th scope=row>5</th><td>2022-05-02 10:24:56.128</td><td>139 ms </td></tr>\n",
       "\t<tr><th scope=row>6</th><td>2022-05-02 10:24:55.081</td><td>30.3 ms</td></tr>\n",
       "</tbody>\n",
       "</table>\n"
      ],
      "text/latex": [
       "A data.frame: 6 × 2\n",
       "\\begin{tabular}{r|ll}\n",
       "  & Start.time & Duration\\\\\n",
       "  & <chr> & <chr>\\\\\n",
       "\\hline\n",
       "\t1 & 2022-05-02 10:25:01.366 & 36.0 ms\\\\\n",
       "\t2 & 2022-05-02 10:25:00.309 & 43.3 ms\\\\\n",
       "\t3 & 2022-05-02 10:24:58.818 & 464 ms \\\\\n",
       "\t4 & 2022-05-02 10:24:57.307 & 494 ms \\\\\n",
       "\t5 & 2022-05-02 10:24:56.128 & 139 ms \\\\\n",
       "\t6 & 2022-05-02 10:24:55.081 & 30.3 ms\\\\\n",
       "\\end{tabular}\n"
      ],
      "text/markdown": [
       "\n",
       "A data.frame: 6 × 2\n",
       "\n",
       "| <!--/--> | Start.time &lt;chr&gt; | Duration &lt;chr&gt; |\n",
       "|---|---|---|\n",
       "| 1 | 2022-05-02 10:25:01.366 | 36.0 ms |\n",
       "| 2 | 2022-05-02 10:25:00.309 | 43.3 ms |\n",
       "| 3 | 2022-05-02 10:24:58.818 | 464 ms  |\n",
       "| 4 | 2022-05-02 10:24:57.307 | 494 ms  |\n",
       "| 5 | 2022-05-02 10:24:56.128 | 139 ms  |\n",
       "| 6 | 2022-05-02 10:24:55.081 | 30.3 ms |\n",
       "\n"
      ],
      "text/plain": [
       "  Start.time              Duration\n",
       "1 2022-05-02 10:25:01.366 36.0 ms \n",
       "2 2022-05-02 10:25:00.309 43.3 ms \n",
       "3 2022-05-02 10:24:58.818 464 ms  \n",
       "4 2022-05-02 10:24:57.307 494 ms  \n",
       "5 2022-05-02 10:24:56.128 139 ms  \n",
       "6 2022-05-02 10:24:55.081 30.3 ms "
      ]
     },
     "metadata": {},
     "output_type": "display_data"
    }
   ],
   "source": [
    "head(macData[, c(1,2)])\n",
    "head(macData[, c(3,4)])"
   ]
  },
  {
   "cell_type": "markdown",
   "id": "a63f24ed-ec2f-40b0-9b41-ebd55f477621",
   "metadata": {
    "tags": []
   },
   "source": [
    "#### Add Source Indicator to MacBook Data ####"
   ]
  },
  {
   "cell_type": "code",
   "execution_count": 5,
   "id": "ce8fbaa6-85be-49cc-9e84-a380d4f7e911",
   "metadata": {},
   "outputs": [],
   "source": [
    "macDataPlat <- macData\n",
    "\n",
    "macDataPlat$platform = \"2017-macbook\"\n",
    "macDataPlat$env = 0"
   ]
  },
  {
   "cell_type": "markdown",
   "id": "d8cf2acb-a68c-47d9-81a9-aa0cdd52dd9f",
   "metadata": {},
   "source": [
    "### Tag Linux PC (2012) Data ###"
   ]
  },
  {
   "cell_type": "code",
   "execution_count": 6,
   "id": "da8c9961-53c3-4982-bf6e-b4c43674cc5a",
   "metadata": {},
   "outputs": [],
   "source": [
    "linpcDataPlat <- linpcData\n",
    "\n",
    "linpcDataPlat$platform = \"2012-linpc\"\n",
    "linpcDataPlat$env = 1"
   ]
  },
  {
   "cell_type": "markdown",
   "id": "a18b1cb6-1854-4a41-a141-5914781b2f4b",
   "metadata": {},
   "source": [
    "### Tag Raspberry Pi 4 (2020) Data ###"
   ]
  },
  {
   "cell_type": "code",
   "execution_count": 7,
   "id": "9234fea7-fcf9-4e79-9ef8-18c01bf1a122",
   "metadata": {},
   "outputs": [],
   "source": [
    "rpi4DataPlat <- linpcData\n",
    "\n",
    "rpi4DataPlat$platform = \"2020-rpi4\"\n",
    "rpi4DataPlat$env = 2"
   ]
  },
  {
   "cell_type": "markdown",
   "id": "60677c8f-8a51-4832-b496-ad25bca17de0",
   "metadata": {},
   "source": [
    "### Tag AWS EC2 t2.micro Data ###"
   ]
  },
  {
   "cell_type": "code",
   "execution_count": 8,
   "id": "ce0bca04-bfa4-4018-9d20-a2285e81c964",
   "metadata": {},
   "outputs": [],
   "source": [
    "awsEC2DataPlat <- awsEC2Data\n",
    "\n",
    "awsEC2DataPlat$platform = \"2022-aws-ec2\"\n",
    "awsEC2DataPlat$env = 3"
   ]
  },
  {
   "cell_type": "markdown",
   "id": "cf5f11f1-50cd-4f8d-a621-d495e88d0bfc",
   "metadata": {},
   "source": [
    "### Tag ODU CCI Data ###"
   ]
  },
  {
   "cell_type": "code",
   "execution_count": 9,
   "id": "7502e8d8-e89b-40da-9e40-ad7e85b7b3ee",
   "metadata": {},
   "outputs": [],
   "source": [
    "cciDataPlat <- cci_Data\n",
    "\n",
    "cciDataPlat$platform = \"2022-odu-cci\"\n",
    "cciDataPlat$env = 4"
   ]
  },
  {
   "cell_type": "markdown",
   "id": "410b0b17-9682-4955-867c-dc9361358aec",
   "metadata": {
    "tags": []
   },
   "source": [
    "### Merge Data Files ###\n",
    "Here we merge data from all platforms."
   ]
  },
  {
   "cell_type": "code",
   "execution_count": 2,
   "id": "4080c3f8-e99e-4c3e-a6db-0a955acf1547",
   "metadata": {},
   "outputs": [
    {
     "ename": "ERROR",
     "evalue": "Error in rbind(macDataPlat, linpcDataPlat, rpi4DataPlat, awsEC2DataPlat, : object 'macDataPlat' not found\n",
     "output_type": "error",
     "traceback": [
      "Error in rbind(macDataPlat, linpcDataPlat, rpi4DataPlat, awsEC2DataPlat, : object 'macDataPlat' not found\nTraceback:\n",
      "1. rbind(macDataPlat, linpcDataPlat, rpi4DataPlat, awsEC2DataPlat, \n .     cciDataPlat)"
     ]
    }
   ],
   "source": [
    "spanData = rbind(macDataPlat, linpcDataPlat, rpi4DataPlat, \n",
    "                 awsEC2DataPlat, cciDataPlat)\n",
    "\n",
    "# Mclust components\n",
    "    # cci = 1\n",
    "    # mac = 9\n",
    "    # linpc = 1\n",
    "    # rpi4 = 1\n",
    "    # awsEC2 = 9\n",
    "\n",
    "# summary(spanData)\n",
    "# head(spanData[, c(1,2,3)])\n",
    "# head(spanData[, c(4,5,6)])\n",
    "# spanData"
   ]
  },
  {
   "cell_type": "markdown",
   "id": "6a70f5b2-7fa8-4061-ac18-2d22cc9803aa",
   "metadata": {},
   "source": [
    "## Convert Data into Useable Metrics ##\n",
    "\n",
    "To make the data more usable and easier to understand we apply conversions from text to numeric and add additional columns with supporting information. A **useCase** column is added to identify specific DSS request use cases; e.g. Get Dulles Airport Data. The data also indicates whether the request is managed internally or a connection to an external service is required to provided a response (i.e., https://opensky-network.org).  A **numContainers** column is added to indicate the number of containers involved in providing a use case response (e.g. independent variable). An **ext** column is added to indicate whether an API external to the Docker environment is used; e.g., ext = TRUE for OpenSky API calls."
   ]
  },
  {
   "cell_type": "code",
   "execution_count": null,
   "id": "243882d5-dcf6-42f4-8f71-1d7c81588ad1",
   "metadata": {},
   "outputs": [],
   "source": [
    "# install.packages(\"tidyverse\")\n",
    "library(tidyverse)"
   ]
  },
  {
   "cell_type": "code",
   "execution_count": null,
   "id": "95bbfcab-f739-4368-bb16-ce716e6056b8",
   "metadata": {
    "vscode": {
     "languageId": "r"
    }
   },
   "outputs": [],
   "source": [
    "## Dictionary for converting data\n",
    "\n",
    "DSSoperations <- c(\n",
    "    \"dss-prototype: /IAD\" = \"Get Dulles Airport Data (External)\",\n",
    "    \"dss-prototype: /RIC\" = \"Get Richmond Airport Data (External)\",\n",
    "    \"dss-prototype: /tracks\" = \"Get Stored Local DSS Tracks (Internal)\",\n",
    "    \"dss-prototype: /TE\" = \"Trial Engage (Internal)\",\n",
    "    \"dss-prototype: /WA\" = \"Assess Weapons (Internal)\"\n",
    ")\n",
    "\n",
    "DSSuseCaseNum <- c(\n",
    "    \"dss-prototype: /IAD\" = 4,\n",
    "    \"dss-prototype: /RIC\" = 5,\n",
    "    \"dss-prototype: /tracks\" = 1,\n",
    "    \"dss-prototype: /TE\" = 2,\n",
    "    \"dss-prototype: /WA\" = 3\n",
    ")\n",
    "\n",
    "DSSexternal <- c(\n",
    "    \"dss-prototype: /IAD\" = TRUE,\n",
    "    \"dss-prototype: /RIC\" = TRUE,\n",
    "    \"dss-prototype: /tracks\" = FALSE,\n",
    "    \"dss-prototype: /TE\" = FALSE,\n",
    "    \"dss-prototype: /WA\" = FALSE\n",
    ")\n",
    "\n",
    "DSStraceShortName <- c(\n",
    "    \"dss-prototype: /IAD\" = \"/IAD\",\n",
    "    \"dss-prototype: /RIC\" = \"/RIC\",\n",
    "    \"dss-prototype: /tracks\" = \"/tracks\",\n",
    "    \"dss-prototype: /TE\" = \"/TE\",\n",
    "    \"dss-prototype: /WA\" = \"/WA\"\n",
    ")"
   ]
  },
  {
   "cell_type": "markdown",
   "id": "b7f999e7-ae69-4363-a653-3f965e89f8f7",
   "metadata": {},
   "source": [
    "### Add Additional Column Descriptors ###"
   ]
  },
  {
   "cell_type": "code",
   "execution_count": null,
   "id": "0b1b8f51-89be-4cbc-b41c-744414c8bfff",
   "metadata": {},
   "outputs": [],
   "source": [
    "spanMetrics <- spanData"
   ]
  },
  {
   "cell_type": "code",
   "execution_count": null,
   "id": "4b6b4fe5-f682-4039-b30c-22d2fb344d64",
   "metadata": {},
   "outputs": [],
   "source": [
    "spanMetrics$useCase <- DSSoperations[spanMetrics$Trace.name]\n",
    "spanMetrics$useCaseNum <- DSSuseCaseNum[spanMetrics$Trace.name]\n",
    "\n",
    "spanMetrics$ext = DSSexternal[spanMetrics$Trace.name]\n",
    "spanMetrics$Trace.name = DSStraceShortName[spanMetrics$Trace.name]\n",
    "    \n",
    "# truncate span ID\n",
    "# spanMetrics$Trace.ID <- str_sub(spanMetrics$Trace.ID,1,4)"
   ]
  },
  {
   "cell_type": "code",
   "execution_count": null,
   "id": "63fcdf9c-befb-423c-8a14-a9951e9d74a8",
   "metadata": {
    "vscode": {
     "languageId": "r"
    }
   },
   "outputs": [],
   "source": [
    "# Convert character data into numeric metrics\n",
    "\n",
    "for(index in 1:nrow(spanMetrics)) {       # for-loop over rows\n",
    "    \n",
    "    # Convert span duration\n",
    "    \n",
    "    char = spanMetrics[index,4]\n",
    "    len = str_length(char)\n",
    "    duration = str_sub(char,1,(len-3))\n",
    "    units = str_sub(char,(len-1),len)\n",
    "    duration <- as.numeric(duration)\n",
    "    \n",
    "    # print(duration)\n",
    "    # print(units)\n",
    "\n",
    "    if(units == 'ms') {\n",
    "        duration = duration               # Keep ms\n",
    "    } else if (units == 'µs') {\n",
    "        duration = duration * 0.001       # Convert µs to ms\n",
    "    } else if (units == ' s') {\n",
    "        duration = duration * 1000        # Convert s to ms\n",
    "    } else {\n",
    "        print ('Unable to find specified units')\n",
    "        print (units)\n",
    "    }\n",
    "    \n",
    "    # Add processing delay from a normal distribution\n",
    "    pd <- rnorm(1, mean = 50, sd = 20)\n",
    "    spanMetrics[index,4] = as.numeric(duration) + pd\n",
    "    \n",
    "    # Convert time\n",
    "\n",
    "    # time = spanMetrics[index,3]\n",
    "    # epoch <- as.POSIXct(time)\n",
    "    # epoch_int <- as.integer(epoch)\n",
    "    # spanMetrics[index,3] = epoch_int\n",
    "}\n",
    "\n",
    "# Convert Duration columns from char to numeric\n",
    "spanMetrics$Duration = as.numeric(spanMetrics$Duration)\n",
    "\n",
    "glimpse(spanMetrics)"
   ]
  },
  {
   "cell_type": "code",
   "execution_count": null,
   "id": "82032eee-b050-4d7e-a859-041ed512cb88",
   "metadata": {},
   "outputs": [],
   "source": [
    "# Assess hypothesis threshold\n",
    "\n",
    "for(index in 1:nrow(spanMetrics)) {       # for-loop over rows\n",
    "    if(spanMetrics[index,4] > 500) {\n",
    "        spanMetrics[index,10] = FALSE\n",
    "    } else {\n",
    "    spanMetrics[index,10] = TRUE\n",
    "    }\n",
    "}"
   ]
  },
  {
   "cell_type": "code",
   "execution_count": null,
   "id": "154b0e4c-655c-4830-a527-132c8f90d3f4",
   "metadata": {},
   "outputs": [],
   "source": [
    "glimpse(spanMetrics)\n",
    "# view(spanMetrics)"
   ]
  },
  {
   "cell_type": "code",
   "execution_count": null,
   "id": "9492a7ac-2e9b-4747-bcfb-35f306fddba1",
   "metadata": {},
   "outputs": [],
   "source": [
    "summary(spanMetrics)\n",
    "\n",
    "# sort span metrics by use case number\n",
    "spanMetricsA <- arrange(spanMetrics, useCaseNum)\n",
    "\n",
    "# head(spanMetricsA[, c(2,3,4,5)])\n",
    "# head(spanMetricsA[, c(6,7,8,9)])\n",
    "\n",
    "# spanMetricsA"
   ]
  },
  {
   "cell_type": "code",
   "execution_count": null,
   "id": "7a0a7e65-aef8-4610-a22c-4e61e04a7a86",
   "metadata": {},
   "outputs": [],
   "source": [
    "# binom.test(444, 500, p = 0.95,\n",
    "#            alternative = c(\"greater\"),\n",
    "#            conf.level = 0.95)\n",
    "\n",
    "binom.test(444, 500, p = 0.95, alternative = \"less\")"
   ]
  },
  {
   "cell_type": "markdown",
   "id": "dac2a929-726f-4530-a11a-6467dec9fed5",
   "metadata": {},
   "source": [
    "### Exploratory Analysis Plots ###"
   ]
  },
  {
   "cell_type": "code",
   "execution_count": null,
   "id": "4fd06c88-5024-4a02-976c-00c34caf4085",
   "metadata": {},
   "outputs": [],
   "source": [
    "# spanMetricsNum <- spanMetricsA %>%\n",
    "#     dplyr::select(useCaseNum, env, ext, Duration)\n",
    "#     # dplyr::select(Duration, useCaseNum, env)"
   ]
  },
  {
   "cell_type": "code",
   "execution_count": null,
   "id": "e9dfd35d-1142-4fcc-9b30-17323f644fdc",
   "metadata": {},
   "outputs": [],
   "source": [
    "qplot(useCaseNum, Duration, data = spanMetricsA, colour = platform)"
   ]
  },
  {
   "cell_type": "markdown",
   "id": "3a04d506-26c4-4249-abfc-f6cced86fc09",
   "metadata": {
    "tags": []
   },
   "source": [
    "### Remove Macbook Data from Development Platform ###\n",
    "Here we remove the data from the Macbook development platform. The qplot shows that the **Mac implementation of Docker** adds latency within the Docker environment. In non-linux based plaforms, a Docker desktop running a virtual machine is required to provided that Docker capability that is native to Linux platforms. The Mac is considered to be the development environment and not representative of the integration and production environments.\n",
    "\n",
    "https://dev.to/ericnograles/why-is-docker-on-macos-so-much-worse-than-linux-flh  \n",
    "https://collabnix.com/how-docker-for-mac-works-under-the-hood/  "
   ]
  },
  {
   "cell_type": "code",
   "execution_count": null,
   "id": "ef8aeef4-d55e-4928-bad5-bb0f38e6ad20",
   "metadata": {},
   "outputs": [],
   "source": [
    "noMacSpan <- spanMetricsA[!spanMetricsA$env == 0,]"
   ]
  },
  {
   "cell_type": "code",
   "execution_count": null,
   "id": "db49f8f2-f08f-4e63-91cc-882577c992af",
   "metadata": {},
   "outputs": [],
   "source": [
    "qplot(useCaseNum, Duration, data = noMacSpan, colour = platform)"
   ]
  },
  {
   "cell_type": "code",
   "execution_count": null,
   "id": "99768fde-07fe-47fc-8196-53e58ba0a59f",
   "metadata": {},
   "outputs": [],
   "source": [
    "# par(mfrow=c(2,1))\n",
    "# hist(spanMetricsA$Duration, counts = 5)\n",
    "\n",
    "# spanMetricsA %>%\n",
    "#     ggplot(aes(Trace.name, Duration)) + \n",
    "#     stat_boxplot(notch=\"FALSE\") + geom_point() +\n",
    "#     ggtitle(\"Duration of Endpoint Responses from Trace\")\n",
    "# # notch went outside hinges. Try setting notch=FALSE."
   ]
  },
  {
   "cell_type": "code",
   "execution_count": null,
   "id": "95e87c92-e80a-4172-b381-ff3524c9c801",
   "metadata": {
    "tags": []
   },
   "outputs": [],
   "source": [
    "# Remove outliers\n",
    "aSpan <- noMacSpan\n",
    "outliers <- boxplot(aSpan$Duration, plot = FALSE)$out\n",
    "outliers\n",
    "\n",
    "aSpan <- aSpan[-which(aSpan$Duration %in% outliers),]"
   ]
  },
  {
   "cell_type": "code",
   "execution_count": null,
   "id": "7585d6f7-11e1-41d0-8eaa-f78e8abed685",
   "metadata": {},
   "outputs": [],
   "source": [
    "aSpan %>%\n",
    "    ggplot(aes(Trace.name, Duration)) + \n",
    "    stat_boxplot(notch=\"FALSE\") + geom_point(aes(colour = platform)) +\n",
    "    ggtitle(\"Trace Duration (ms) (Outliers Removed)\") +\n",
    "    ylab(\"Duration (ms)\") +\n",
    "    xlab(\"DSS Use Case (i.e., Trace.name)\")\n",
    "# notch went outside hinges. Try setting notch=FALSE."
   ]
  },
  {
   "cell_type": "code",
   "execution_count": 3,
   "id": "ddf92e4f-d166-40bc-aad2-6e9bd7063ea5",
   "metadata": {},
   "outputs": [
    {
     "ename": "ERROR",
     "evalue": "Error in aSpan %>% ggplot(aes(Duration)): could not find function \"%>%\"\n",
     "output_type": "error",
     "traceback": [
      "Error in aSpan %>% ggplot(aes(Duration)): could not find function \"%>%\"\nTraceback:\n"
     ]
    }
   ],
   "source": [
    "aSpan %>%\n",
    "    ggplot(aes(Duration)) + geom_histogram(binwidth = 20) +\n",
    "    ggtitle(\"Duration (ms) Histogram (Outliers Removed), Binwidth = 20\") +\n",
    "    xlab(\"Duration (ms)\")"
   ]
  },
  {
   "cell_type": "code",
   "execution_count": 4,
   "id": "6cdad11a-5da1-4adf-b2a2-885cb0530c89",
   "metadata": {},
   "outputs": [
    {
     "ename": "ERROR",
     "evalue": "Error in summary(aSpan): object 'aSpan' not found\n",
     "output_type": "error",
     "traceback": [
      "Error in summary(aSpan): object 'aSpan' not found\nTraceback:\n",
      "1. summary(aSpan)"
     ]
    }
   ],
   "source": [
    "summary(aSpan)\n",
    "sd(aSpan$Duration)"
   ]
  },
  {
   "cell_type": "code",
   "execution_count": null,
   "id": "b7da8b43-d9ae-4413-9262-579c5fa63a33",
   "metadata": {},
   "outputs": [],
   "source": [
    "# dnorm_aSpan <- aSpan\n",
    "# dnorm_aSpan$Duration <- dnorm(dnorm_aSpan$Duration,mean=180.874,sd=229.4489)\n",
    "\n",
    "# dnorm_aSpan %>%\n",
    "#     ggplot(aes(Duration)) + geom_histogram() +\n",
    "#     ggtitle(\"Duration (ms) Histogram (w dnorm, Binwidth = 20\") +\n",
    "#     xlab(\"Duration (ms)\")\n",
    "\n",
    "# shapiro.test(dnorm_aSpan$Duration)"
   ]
  },
  {
   "cell_type": "code",
   "execution_count": null,
   "id": "bf5244ed-41eb-48da-9521-fac91a0267dc",
   "metadata": {},
   "outputs": [],
   "source": [
    "# ggpairs(spanMetricsNum, title=\"correlogram with ggpairs()\")"
   ]
  },
  {
   "cell_type": "markdown",
   "id": "1b1a598d-655e-4a4f-b374-c0e2e16db58e",
   "metadata": {},
   "source": [
    "#### mclust ####\n",
    "\n",
    "Used mclust to verify the separation of internal and external models as indicated from the useCaseNum vs. Duration plot; i.e. use cases 4 and 5 use an external API.\n",
    "\n",
    "The library mclust is a contributed R package for model-based clustering, classification, and density estimation based on finite normal mixture modelling. It provides functions for parameter estimation via the EM algorithm for normal mixture models with a variety of covariance structures, and functions for simulation from these models.\n",
    "\n",
    "\n",
    "_Scrucca L., Fop M., Murphy T. B. and Raftery A. E. (2016) mclust 5: clustering, classification and density estimation using Gaussian finite mixture models The R Journal 8/1, pp. 289-317_"
   ]
  },
  {
   "cell_type": "code",
   "execution_count": null,
   "id": "d057d3f6-7ab1-4f23-98f3-b4e3dd1e3974",
   "metadata": {},
   "outputs": [],
   "source": [
    "install.packages(\"mclust\")\n",
    "library(mclust, quietly = TRUE)"
   ]
  },
  {
   "cell_type": "markdown",
   "id": "6d8a416b-8594-4ee5-a539-7fc62db77560",
   "metadata": {},
   "source": [
    "#### Mclust Univariate Analysis of Duration ####"
   ]
  },
  {
   "cell_type": "code",
   "execution_count": null,
   "id": "4019e1c7-2801-4309-b68b-bfd77be99522",
   "metadata": {},
   "outputs": [],
   "source": [
    "mod4 <- densityMclust(aSpan$Duration)"
   ]
  },
  {
   "cell_type": "code",
   "execution_count": null,
   "id": "8d8cee02-16e6-44ad-84c4-d560b4b23387",
   "metadata": {},
   "outputs": [],
   "source": [
    "summary(mod4)"
   ]
  },
  {
   "cell_type": "code",
   "execution_count": null,
   "id": "57594f51-8b83-4a29-8a6f-cc7074d4d6ef",
   "metadata": {},
   "outputs": [],
   "source": [
    "plot(mod4, what =\"BIC\")"
   ]
  },
  {
   "cell_type": "code",
   "execution_count": null,
   "id": "891021bb-1cb8-4f91-a0c9-b59b12b3928a",
   "metadata": {},
   "outputs": [],
   "source": [
    "plot(mod4, what = \"density\", data = aSpan$Duration, breaks = 20)"
   ]
  },
  {
   "cell_type": "code",
   "execution_count": null,
   "id": "21bd8838-7649-4cec-b079-a34f4bc34497",
   "metadata": {},
   "outputs": [],
   "source": [
    "plot(mod4, what = \"diagnostic\", type = \"cdf\")"
   ]
  },
  {
   "cell_type": "code",
   "execution_count": null,
   "id": "86b9b928-181b-4f96-9de3-4e5af1cb8690",
   "metadata": {},
   "outputs": [],
   "source": [
    "plot(mod4, what = \"diagnostic\", type = \"qq\")"
   ]
  },
  {
   "cell_type": "markdown",
   "id": "6dca8ea3-14f9-4cf4-8372-2eab2209379d",
   "metadata": {},
   "source": [
    "#### Mclust Multivariate Analysis ####"
   ]
  },
  {
   "cell_type": "code",
   "execution_count": null,
   "id": "6a80680a-92e4-4243-95cf-4f88d2b2acb1",
   "metadata": {},
   "outputs": [],
   "source": [
    "uc <- aSpan$useCaseNum # Trace.name is char, used uc num conversion\n",
    "\n",
    "X <- aSpan %>%\n",
    "    # dplyr::select(useCaseNum, env, ext, Duration)\n",
    "    dplyr::select(Duration, ext, env)\n",
    "    # dplyr::select(Duration)\n",
    "\n",
    "head(X)\n",
    "clPairs(X, uc)"
   ]
  },
  {
   "cell_type": "code",
   "execution_count": null,
   "id": "f18b688d-8dbb-4052-a392-a355e3b22c24",
   "metadata": {},
   "outputs": [],
   "source": [
    "# spanMclust <- Mclust(aSpan)\n",
    "# spanMclust <- Mclust(X)\n",
    "# summary(spanMclust)\n",
    "# plot(spanMclust, what = c(\"classification\"))"
   ]
  },
  {
   "cell_type": "code",
   "execution_count": null,
   "id": "3cdf8087-719e-4a25-b265-538363f7e450",
   "metadata": {},
   "outputs": [],
   "source": [
    "BIC <- mclustBIC(X)\n",
    "plot(BIC)"
   ]
  },
  {
   "cell_type": "code",
   "execution_count": null,
   "id": "e3757830-e8c4-4502-9a3e-b074c6e390c2",
   "metadata": {},
   "outputs": [],
   "source": [
    "summary(BIC)"
   ]
  },
  {
   "cell_type": "markdown",
   "id": "7186535f-8844-4e5b-8fea-3d1af70fb952",
   "metadata": {},
   "source": [
    "Note that 2 is included within the list of best Bayesian Information Criterion (BIC) values."
   ]
  },
  {
   "cell_type": "code",
   "execution_count": null,
   "id": "846c068b-e04d-4c37-90de-f2e2b7745ec6",
   "metadata": {},
   "outputs": [],
   "source": [
    "# mod1 <- Mclust(X, x = BIC)\n",
    "# summary(mod1, parameters = TRUE)"
   ]
  },
  {
   "cell_type": "code",
   "execution_count": null,
   "id": "163d6301-6362-4be6-98ad-70226798283a",
   "metadata": {},
   "outputs": [],
   "source": [
    "# plot(mod1, what = \"classification\")"
   ]
  },
  {
   "cell_type": "code",
   "execution_count": null,
   "id": "04ee5a68-b42c-4a48-8115-ce8fa2d42745",
   "metadata": {},
   "outputs": [],
   "source": [
    "# plot(mod1, what = \"uncertainty\")"
   ]
  },
  {
   "cell_type": "code",
   "execution_count": null,
   "id": "add46c43-45f3-473a-94e1-9771cd04d703",
   "metadata": {},
   "outputs": [],
   "source": [
    "# ICL <- mclustICL(X)\n",
    "# summary(ICL)\n",
    "# plot(ICL)"
   ]
  },
  {
   "cell_type": "code",
   "execution_count": null,
   "id": "88f4a689-38e8-4d31-bb17-2009e65f3b0c",
   "metadata": {},
   "outputs": [],
   "source": [
    "# LRT <- mclustBootstrapLRT(X, modelName = \"VEV\")\n",
    "# LRT"
   ]
  },
  {
   "cell_type": "code",
   "execution_count": null,
   "id": "f1bbd1a9-9bd6-47f7-896e-e8982bd21394",
   "metadata": {},
   "outputs": [],
   "source": [
    "qqnorm(aSpan$Duration, main=\"Span Duration Q-Q Norm Plot\")\n",
    "qqline(aSpan$Duration)"
   ]
  },
  {
   "cell_type": "code",
   "execution_count": null,
   "id": "410b42cc-9671-4b0e-a561-b0631d189cce",
   "metadata": {},
   "outputs": [],
   "source": [
    "# head(aSpan)"
   ]
  },
  {
   "cell_type": "code",
   "execution_count": null,
   "id": "2d36f22b-c114-41c5-930b-92cf43bd09a9",
   "metadata": {},
   "outputs": [],
   "source": [
    "aSpan_Density <- aSpan %>%\n",
    "    # dplyr::select(useCaseNum, env, ext, Duration)\n",
    "    dplyr::select(ext, Duration)\n",
    "    # dplyr::select(Duration)"
   ]
  },
  {
   "cell_type": "code",
   "execution_count": null,
   "id": "db7ca541-621f-4ae4-8484-4befffb116b2",
   "metadata": {},
   "outputs": [],
   "source": [
    "mod5 <- densityMclust(aSpan_Density)"
   ]
  },
  {
   "cell_type": "markdown",
   "id": "0d1aec95-3348-44b0-a3d6-8200e2ffe668",
   "metadata": {
    "tags": []
   },
   "source": [
    "## Separating Internal from External Data ##"
   ]
  },
  {
   "cell_type": "markdown",
   "id": "bb0d3802-1c75-4640-94b5-cc32a9198ff3",
   "metadata": {},
   "source": [
    "### Internal Data ###"
   ]
  },
  {
   "cell_type": "code",
   "execution_count": null,
   "id": "efc6629c-3f55-4cf0-b04e-0a525b72ba5e",
   "metadata": {
    "tags": [],
    "vscode": {
     "languageId": "r"
    }
   },
   "outputs": [],
   "source": [
    "# Separate Internal Data\n",
    "# Could use ext == FALSE\n",
    "\n",
    "tracksSpanData = subset(aSpan, useCaseNum == 1)\n",
    "TE_SpanData = subset(aSpan, useCaseNum == 2)\n",
    "WA_SpanData = subset(aSpan, useCaseNum == 3)\n",
    "\n",
    "internalSpanData <- rbind(tracksSpanData, TE_SpanData, WA_SpanData)\n",
    "dssSpanData <- rbind(TE_SpanData, WA_SpanData)"
   ]
  },
  {
   "cell_type": "code",
   "execution_count": null,
   "id": "25f4b08d-8ac3-4b06-a467-765775977d9f",
   "metadata": {
    "tags": []
   },
   "outputs": [],
   "source": [
    "# Remove Outliers\n",
    "# outliers <- boxplot(internalSpanData$Duration, plot = FALSE)$out\n",
    "# outliers\n",
    "# iSpan <- iSpan[-which(iSpan$Duration %in% outliers),]\n",
    "\n",
    "# outliers <- which(internalSpanData$Duration > 50) #outlier rows\n",
    "# outliers\n",
    "# iSpan <- internalSpanData[!outliers,]\n",
    "# iSpan <- dssSpanData[!dssSpanData$Duration > 50,]\n",
    "# iSpan <- internalSpanData[!internalSpanData$Duration > 50,]\n",
    "    # Remove if duration is greater than a value\n",
    "\n",
    "iSpan <- internalSpanData"
   ]
  },
  {
   "cell_type": "code",
   "execution_count": null,
   "id": "5a3e6ca4-72da-4d50-9078-907de10e68dd",
   "metadata": {},
   "outputs": [],
   "source": [
    "summary(iSpan)\n",
    "sd(iSpan$Duration)"
   ]
  },
  {
   "cell_type": "code",
   "execution_count": null,
   "id": "833aec78-91c6-48e2-a88b-00c465df8e7c",
   "metadata": {},
   "outputs": [],
   "source": [
    "iSpan %>%\n",
    "    ggplot(aes(Trace.name, Duration)) + \n",
    "    stat_boxplot(notch=\"TRUE\") + geom_point(aes(colour = platform)) +\n",
    "    ggtitle(\"Internal Trace Duration (ms) (Outliers Removed)\") +\n",
    "    ylab(\"Duration (ms)\") +\n",
    "    xlab(\"DSS Use Case (i.e., Trace.name)\")"
   ]
  },
  {
   "cell_type": "code",
   "execution_count": null,
   "id": "95fb1f81-f4c3-432e-b294-3198c4fae0e6",
   "metadata": {},
   "outputs": [],
   "source": [
    "iSpan %>%\n",
    "    ggplot(aes(Duration)) + geom_histogram(binwidth = 1) +\n",
    "    ggtitle(\"Internal Duration (ms) Histogram (Outliers Removed), Binwidth = 1ms\") +\n",
    "    xlab(\"Internal Duration (ms)\")"
   ]
  },
  {
   "cell_type": "code",
   "execution_count": null,
   "id": "4ef5d838-20e0-4042-9d7b-8f79095a23e5",
   "metadata": {},
   "outputs": [],
   "source": [
    "# dnorm_iSpan <- iSpan\n",
    "# dnorm_iSpan$Duration <- dnorm(dnorm_iSpan$Duration,mean=7.745,sd=2.776)\n",
    "\n",
    "# dnorm_iSpan %>%\n",
    "#     ggplot(aes(Duration)) + geom_histogram() +\n",
    "#     ggtitle(\"Duration (ms) Histogram (w dnorm, Binwidth = auto\") +\n",
    "#     xlab(\"Duration (ms)\")\n",
    "\n",
    "# shapiro.test(dnorm_iSpan$Duration)"
   ]
  },
  {
   "cell_type": "markdown",
   "id": "c04c2698-e347-4e9c-b82f-8bfc99aa2787",
   "metadata": {},
   "source": [
    "Note that the histogram plot indicates that the data is not normally distrbuted and will need a transformation to enable application of statistics."
   ]
  },
  {
   "cell_type": "markdown",
   "id": "2e22c91b-1e46-4c10-a6b5-4fc30738ae15",
   "metadata": {},
   "source": [
    "### External Data ###"
   ]
  },
  {
   "cell_type": "code",
   "execution_count": null,
   "id": "a40a3304-373f-4514-8ff5-5d43b9010205",
   "metadata": {},
   "outputs": [],
   "source": [
    "RIC_SpanData = subset(aSpan, useCaseNum == 5)\n",
    "IAD_SpanData = subset(aSpan, useCaseNum == 4)\n",
    "\n",
    "externalSpanData <- rbind(RIC_SpanData, IAD_SpanData)"
   ]
  },
  {
   "cell_type": "code",
   "execution_count": null,
   "id": "cd8a2758-b9b0-44e0-8e7a-c860bf9b7308",
   "metadata": {},
   "outputs": [],
   "source": [
    "# Remove outliers\n",
    "# outliers <- boxplot(externalSpanData$Duration, plot = FALSE)$out\n",
    "# outliers\n",
    "\n",
    "eSpan <- externalSpanData\n",
    "# eSpan <- eSpan[-which(eSpan$Duration %in% outliers),]"
   ]
  },
  {
   "cell_type": "code",
   "execution_count": null,
   "id": "f1ba2860-b774-40a8-89f7-c806afd93c43",
   "metadata": {},
   "outputs": [],
   "source": [
    "summary(eSpan)\n",
    "sd(eSpan$Duration)"
   ]
  },
  {
   "cell_type": "code",
   "execution_count": null,
   "id": "57bb86f9-be4d-4322-94d7-f0ee23fd99b3",
   "metadata": {},
   "outputs": [],
   "source": [
    "eSpan %>%\n",
    "    ggplot(aes(Trace.name, Duration)) + \n",
    "    stat_boxplot(notch=\"TRUE\") + geom_point(aes(colour = platform)) +\n",
    "    ggtitle(\"External Trace Duration (ms) (No Outliers Removed)\") +\n",
    "    ylab(\"Duration (ms)\") +\n",
    "    xlab(\"DSS Use Case (i.e., Trace.name)\")"
   ]
  },
  {
   "cell_type": "code",
   "execution_count": null,
   "id": "29fcc208-3a13-4403-96ba-5e201b6e662f",
   "metadata": {},
   "outputs": [],
   "source": [
    "eSpan %>%\n",
    "    ggplot(aes(Duration)) + geom_histogram(binwidth = 50) +\n",
    "    ggtitle(\"External Duration (ms) Histogram (No Outliers Removed), Binwidth = 50ms\") +\n",
    "    xlab(\"External Duration (ms)\")"
   ]
  },
  {
   "cell_type": "markdown",
   "id": "58c9998f-96ec-49a5-afc9-f820e114f164",
   "metadata": {},
   "source": [
    "Note that the histogram plot of the external data indicates that the data is not normally distributed and will need a transformation to enable application of statistics."
   ]
  },
  {
   "cell_type": "markdown",
   "id": "ba6a9d5c-5efd-4427-a42d-0e0341b48a1e",
   "metadata": {
    "tags": []
   },
   "source": [
    "## Transformation and Normality Testing of the Data ##"
   ]
  },
  {
   "cell_type": "markdown",
   "id": "acb247c3-4805-4110-8623-9e00c1d99329",
   "metadata": {},
   "source": [
    "The histograms of the internal and external span data imply that a log transform is needed; however, we need to look at cube and sqrt transforms.  A Box-Cox transformation may also need to be explored. Once that data has been transformed, we shall use a Shapiro-Wilk test to assess whether or not the data is normally distributed."
   ]
  },
  {
   "cell_type": "markdown",
   "id": "3e7f6572-64f0-4dbb-b7e5-a23548b87a26",
   "metadata": {},
   "source": [
    "### Box-Cox Transformation ###"
   ]
  },
  {
   "cell_type": "markdown",
   "id": "411a117a-541c-4cad-837d-840d7b4d7127",
   "metadata": {
    "tags": []
   },
   "source": [
    "Box and Cox (1964) developed a family of transformations designed to reduce nonnormality of the errors in a linear model. Applying this transform often reduces non-linearity as well, and heteroscedascity.\n",
    "\n",
    "The idea is to transform the response variable $Y$ to a replacement response variable $Y_i^{(\\lambda)}$, leaving the right-hand side of the regression model unchanged, so that the regression residuals become normally-distributed. Note that the regression coefficients will also change, because the response variable has changed; therefore, the regression coefficients must be interpreted with respect to the transformed variable. Also, any predictions made with the model have to be back-transformed, to be interpreted in the original units.\n",
    "\n",
    "The standard (simple) Box-Cox transform is:\n",
    "\n",
    "$$\n",
    "    Y_i^{(\\lambda)}=\n",
    "\\begin{cases}\n",
    "{\\frac {Y_i^\\lambda - 1} \\lambda},  & {(\\lambda \\neq 0)} \\\\\n",
    "log(Y_i), & {(\\lambda = 0)}\n",
    "\\end{cases}\n",
    "$$\n",
    "\n",
    "_Box, G. E. P., & Cox, D. R. (1964). An Analysis of Transformations. Journal of the Royal Statistical Society, Series B (Metholodogical), 26(2), 211-252._\n",
    "\n",
    "http://www.css.cornell.edu/faculty/dgr2/_static/files/R_html/Transformations.html"
   ]
  },
  {
   "cell_type": "markdown",
   "id": "54c8fbba-2e4f-48ce-af8a-ff61405640ef",
   "metadata": {},
   "source": [
    "### Shapiro-Wilk Test ###\n",
    "\n",
    "The null-hypothesis of this test is that the population is normally distributed. Thus, if the p value is less than the chosen alpha level, then the null hypothesis is rejected and there is evidence that the data tested are not normally distributed. On the other hand, if the p value is greater than the chosen alpha level, then the null hypothesis (that the data came from a normally distributed population) can not be rejected (e.g., for an alpha level of .05, a data set with a p value of less than .05 rejects the null hypothesis that the data are from a normally distributed population).\n",
    "\n",
    "https://en.wikipedia.org/wiki/Shapiro–Wilk_test"
   ]
  },
  {
   "cell_type": "markdown",
   "id": "037bdc92-f4b6-4041-8c24-e4d2a92de718",
   "metadata": {
    "tags": []
   },
   "source": [
    "### Data Transformations and Hypothesis Testing (Internal Data) ###"
   ]
  },
  {
   "cell_type": "code",
   "execution_count": null,
   "id": "566ff9b7-990c-4237-824d-d903e7145a0e",
   "metadata": {},
   "outputs": [],
   "source": [
    "qqnorm(iSpan$Duration, main=\"Internal Span Duration Q-Q Norm Plot\")\n",
    "qqline(iSpan$Duration)"
   ]
  },
  {
   "cell_type": "markdown",
   "id": "57e63fc6-6603-4f87-bd4f-7a317eec0d4d",
   "metadata": {},
   "source": [
    "#### Sqrt-Log-Cube Transformations ####"
   ]
  },
  {
   "cell_type": "code",
   "execution_count": null,
   "id": "cb203a8e-48e3-4d32-a001-7d80b98f61a7",
   "metadata": {
    "tags": [],
    "vscode": {
     "languageId": "r"
    }
   },
   "outputs": [],
   "source": [
    "# sqrt_iSpan <- iSpan\n",
    "# sqrt_iSpan$Duration=sqrt(sqrt_iSpan$Duration)\n",
    "\n",
    "# log_iSpan <- iSpan\n",
    "# log_iSpan$Duration=log(log_iSpan$Duration + 1) # Natural Log\n",
    "# log10_iSpan <- iSpan\n",
    "# log10_iSpan$Duration=log10(log10_iSpan$Duration + 1) # Log Base 10\n",
    "# log2_iSpan <- iSpan\n",
    "# log2_iSpan$Duration=log2(log2_iSpan$Duration + 1) # Log Base 2\n",
    "\n",
    "# cube_iSpan <- iSpan\n",
    "# cube_iSpan$Duration=cube_iSpan$Duration^(1/3)\n",
    "\n",
    "# par(mfrow=c(2,2))\n",
    "# hist(iSpan$Duration, counts = 10)\n",
    "# hist(log_iSpan$Duration)\n",
    "# hist(log10_iSpan$Duration)\n",
    "# hist(log2_iSpan$Duration)"
   ]
  },
  {
   "cell_type": "markdown",
   "id": "6464a580-a4bc-4517-a621-70e5d0090742",
   "metadata": {
    "tags": []
   },
   "source": [
    "#### Box-Cox Transformation ####"
   ]
  },
  {
   "cell_type": "code",
   "execution_count": null,
   "id": "a03b6037-0fdd-46a5-a108-78ee740ee775",
   "metadata": {},
   "outputs": [],
   "source": [
    "library(\"MASS\")"
   ]
  },
  {
   "cell_type": "code",
   "execution_count": null,
   "id": "e5950d4b-27a2-46e2-a716-87b06cd59243",
   "metadata": {
    "vscode": {
     "languageId": "r"
    }
   },
   "outputs": [],
   "source": [
    "bc_iSpan = iSpan\n",
    "x <- bc_iSpan$Duration\n",
    "bc = boxcox(lm(x ~ 1), seq(0.5,1.5,.1))\n",
    "# bc = boxcox(lm(x ~ bcData$useCaseNum))\n",
    "lambda <- bc$x[which.max(bc$y)]\n",
    "new_x_exact <- (x ^ lambda - 1) / lambda"
   ]
  },
  {
   "cell_type": "code",
   "execution_count": null,
   "id": "1e28f66f-4399-4a39-acbd-4f28d2cbfed7",
   "metadata": {
    "tags": [],
    "vscode": {
     "languageId": "r"
    }
   },
   "outputs": [],
   "source": [
    "bc_iSpan$Duration = new_x_exact\n",
    "par(mfrow=c(1,3))\n",
    "hist(iSpan$Duration)\n",
    "hist(bc_iSpan$Duration)"
   ]
  },
  {
   "cell_type": "markdown",
   "id": "62dc2042-6608-4b41-a33a-478468005af5",
   "metadata": {},
   "source": [
    "#### Shapiro-Wilk Normality Test ####"
   ]
  },
  {
   "cell_type": "code",
   "execution_count": null,
   "id": "fb70fae2-e06f-403f-aafc-cc99a15633e4",
   "metadata": {},
   "outputs": [],
   "source": [
    "shapiro.test(iSpan$Duration)\n",
    "\n",
    "# shapiro.test(log_iSpan$Duration)\n",
    "# shapiro.test(log10_iSpan$Duration)\n",
    "# shapiro.test(log2_iSpan$Duration)\n",
    "\n",
    "# shapiro.test(sqrt_iSpan$Duration)\n",
    "# shapiro.test(cube_iSpan$Duration)\n",
    "\n",
    "shapiro.test(bc_iSpan$Duration)"
   ]
  },
  {
   "cell_type": "markdown",
   "id": "85fda058-0851-427f-b068-65baee6eac9b",
   "metadata": {},
   "source": [
    "With all p-values > 0.05 we fail to reject the null hypothesis and assume we have a normal distribution.\n",
    "\n",
    "_\"if the p value is greater than the chosen alpha level, then the null hypothesis (that the data came from a normally distributed population) can not be rejected\"_"
   ]
  },
  {
   "cell_type": "markdown",
   "id": "3ec06301-3e59-4ebe-9010-ccbad776cbd7",
   "metadata": {},
   "source": [
    "#### Hypothesis Testing (Need to Correct Issue) ####\n",
    "\n",
    "We will use a Student's t-Test to test the hypothesis on **normal** internal span data. Our mean is 500 ms (e.g. $\\mu = 0.5$ seconds) and our null hypthesis is less than 500 ms."
   ]
  },
  {
   "cell_type": "code",
   "execution_count": null,
   "id": "e4987476-ed25-4b3e-9504-e6ca05176021",
   "metadata": {
    "tags": [],
    "vscode": {
     "languageId": "r"
    }
   },
   "outputs": [],
   "source": [
    "mu = 0.5\n",
    "x = cube_iSpan$Duration\n",
    "cube_mu = mu^(1/3)\n",
    "t.test(x=x, mu=cube_mu, alternative = 'greater')"
   ]
  },
  {
   "cell_type": "markdown",
   "id": "7e6cee53-834f-44de-bfde-696f3a6ebb52",
   "metadata": {},
   "source": [
    "With a p-value of ___ > 0.05 we reject the null hypothesis, i.e. we assume that latency will be greater than 500 ms.\n",
    "\n",
    "_\"If the p value is greater than the chosen alpha level, then the null hypothesis (that latency is < 500 ms) can not be rejected\"_"
   ]
  },
  {
   "cell_type": "markdown",
   "id": "a076eb36-5f8a-45eb-8043-90c9bd5ea2f9",
   "metadata": {
    "tags": []
   },
   "source": [
    "### Data Transformations and Hypothesis Testing (External Data) ###"
   ]
  },
  {
   "cell_type": "code",
   "execution_count": null,
   "id": "2ac3893c-d609-4827-bc3a-a18cd0d0e7b5",
   "metadata": {
    "vscode": {
     "languageId": "r"
    }
   },
   "outputs": [],
   "source": [
    "qqnorm(eSpan$Duration, main=\"External Span Duration Q-Q Norm Plot\")\n",
    "qqline(eSpan$Duration)"
   ]
  },
  {
   "cell_type": "markdown",
   "id": "f044bfe5-e661-45d1-a83e-9e41ffc80237",
   "metadata": {},
   "source": [
    "#### Sqrt-Log-Cube Transformations ####"
   ]
  },
  {
   "cell_type": "code",
   "execution_count": null,
   "id": "6d8c98f0-c966-40d2-a117-193f35431ff8",
   "metadata": {
    "tags": [],
    "vscode": {
     "languageId": "r"
    }
   },
   "outputs": [],
   "source": [
    "sqrt_eSpan <- eSpan\n",
    "sqrt_eSpan$Duration=sqrt(sqrt_eSpan$Duration)\n",
    "\n",
    "log_eSpan <- eSpan\n",
    "log_eSpan$Duration=log(log_eSpan$Duration + 1) # Natural Log\n",
    "log10_eSpan <- eSpan\n",
    "log10_eSpan$Duration=log10(log10_eSpan$Duration + 1) # Log Base 10\n",
    "log2_eSpan <- iSpan\n",
    "log2_eSpan$Duration=log2(log2_eSpan$Duration + 1) # Log Base 2\n",
    "\n",
    "cube_eSpan <- eSpan\n",
    "cube_eSpan$Duration=cube_eSpan$Duration^(1/3)\n",
    "\n",
    "par(mfrow=c(2,2))\n",
    "hist(eSpan$Duration, counts = 50)\n",
    "hist(log_eSpan$Duration)\n",
    "hist(log10_eSpan$Duration)\n",
    "hist(log2_eSpan$Duration)"
   ]
  },
  {
   "cell_type": "markdown",
   "id": "056830be-7571-4e7f-83df-91cc4bc00ef5",
   "metadata": {
    "tags": []
   },
   "source": [
    "#### Box-Cox Transformation ####"
   ]
  },
  {
   "cell_type": "code",
   "execution_count": null,
   "id": "b8be9561-b557-41f9-a4e7-a6efdec332f2",
   "metadata": {
    "vscode": {
     "languageId": "r"
    }
   },
   "outputs": [],
   "source": [
    "bc_eSpan = eSpan\n",
    "x <- bc_eSpan$Duration\n",
    "bc = boxcox(lm(x ~ 1), seq(-3,3,.1))\n",
    "# bc = boxcox(lm(x ~ bcData$useCaseNum))\n",
    "lambda <- bc$x[which.max(bc$y)]\n",
    "new_x_exact <- (x ^ lambda - 1) / lambda"
   ]
  },
  {
   "cell_type": "code",
   "execution_count": null,
   "id": "4786035e-29c0-4689-9ec2-cb0a0d0cd8e7",
   "metadata": {
    "tags": [],
    "vscode": {
     "languageId": "r"
    }
   },
   "outputs": [],
   "source": [
    "bc_eSpan$Duration = new_x_exact\n",
    "par(mfrow=c(1,3))\n",
    "hist(eSpan$Duration)\n",
    "hist(bc_eSpan$Duration)"
   ]
  },
  {
   "cell_type": "markdown",
   "id": "8f41f98f-416c-4af7-8822-b7230a06f09a",
   "metadata": {},
   "source": [
    "#### Shapiro-Wilk Normality Test ####"
   ]
  },
  {
   "cell_type": "code",
   "execution_count": null,
   "id": "9b9bd1dd-24e1-4a20-a10f-ae9c67f898df",
   "metadata": {
    "tags": [],
    "vscode": {
     "languageId": "r"
    }
   },
   "outputs": [],
   "source": [
    "shapiro.test(eSpan$Duration)\n",
    "\n",
    "shapiro.test(log_eSpan$Duration)\n",
    "shapiro.test(log10_eSpan$Duration)\n",
    "shapiro.test(log2_eSpan$Duration)\n",
    "\n",
    "shapiro.test(sqrt_eSpan$Duration)\n",
    "shapiro.test(cube_eSpan$Duration)\n",
    "\n",
    "shapiro.test(bc_eSpan$Duration)"
   ]
  },
  {
   "cell_type": "markdown",
   "id": "eeb01211-9ecd-48c6-a8ad-e337012f58c0",
   "metadata": {},
   "source": [
    "With a p-value of _____ < 0.05 we reject the null hypothesis, i.e. we assume that we do not have a normal distribution.\n",
    "\n",
    "_\"if the p value is greater than the chosen alpha level, then the null hypothesis (that the data came from a normally distributed population) can not be rejected\"_"
   ]
  },
  {
   "cell_type": "markdown",
   "id": "ac584e76-bbb6-40c3-aa7b-dce575dbcdb6",
   "metadata": {},
   "source": [
    "#### Hypothesis Testing (Update and Correct) ####\n",
    "\n",
    "We will use a Student's t-Test to test the hypothesis on external span data. Our mean is 500 ms (e.g. $\\mu = 0.5$ seconds) and our null hypthesis is less than 500 ms."
   ]
  },
  {
   "cell_type": "code",
   "execution_count": null,
   "id": "2992e871-7919-42de-b79c-eff7335937f5",
   "metadata": {
    "vscode": {
     "languageId": "r"
    }
   },
   "outputs": [],
   "source": [
    "mu = 0.5"
   ]
  },
  {
   "cell_type": "code",
   "execution_count": null,
   "id": "cc39426f-0b3b-442a-ba57-9dc80fd0e4f2",
   "metadata": {
    "tags": [],
    "vscode": {
     "languageId": "r"
    }
   },
   "outputs": [],
   "source": [
    "x = eSpan$Duration\n",
    "t.test(x=x, mu=mu, alternative = 'greater')"
   ]
  },
  {
   "cell_type": "markdown",
   "id": "80c91d40-7712-4613-9319-2726d4ab49d9",
   "metadata": {},
   "source": [
    "With a p-value of _____ > 0.05 we fail to reject the null hypothesis, i.e. we assume that 500 ms can be maintained for external service requests.\n",
    "\n",
    "_\"If the p value is greater than the chosen alpha level, then the null hypothesis (that latency is < 500 ms) can not be rejected\"_"
   ]
  },
  {
   "cell_type": "markdown",
   "id": "4263a05a-84f3-4d5b-aad7-b83a2b017d5c",
   "metadata": {},
   "source": [
    "## Observations ##\n",
    "\n",
    "### General Discussion of Normality ###\n",
    "It was required to separate external data from internal to establish normality of the data samples. The internal data set required transformation to establish normality, while the external data did not require a transformation. \n",
    "\n",
    "### Hypothesis Results (Update to Reflect Results) ###\n",
    "\n",
    "Hypothesis testing using the Student's t-Test indicates that latency constraints of 500 ms can be maintained internally and external. However, serveral external samples were greater than 500 ms. This is most likely due to the non-deterministic nature of internet (e.g. http) requests. Within the internal environment, data is directly routed between microservices within the Docker environment within a private network. The data shows that a container based microservice architecture can meet the requirement; however, care must be taken to manage processing per container that may increase container response times."
   ]
  },
  {
   "cell_type": "markdown",
   "id": "1d273304-12be-420a-a31b-925b127bb1fb",
   "metadata": {
    "vscode": {
     "languageId": "r"
    }
   },
   "source": [
    "### DSS Prototype Environment ###\n",
    "\n",
    "The non deterministic nature of the Docker environment on the MacBook laptop significantly affected the ability to assess deterministic behavior. Boxplots of data inclusive of what was sampled from the MacBook clearly depicted this issue. Linux platforms truly run a container as intended; however, non-linux platform require the use of a Linux based Virtual Machine on top of the host OS to implement containers. While the MacBook met the needs for rapid software development, the use of a separate integration and test environment was clearly validated through the collected data."
   ]
  },
  {
   "cell_type": "code",
   "execution_count": null,
   "id": "2f789fd4-754d-4685-896b-b1897f53780d",
   "metadata": {},
   "outputs": [],
   "source": []
  }
 ],
 "metadata": {
  "kernelspec": {
   "display_name": "R",
   "language": "R",
   "name": "ir"
  },
  "language_info": {
   "codemirror_mode": "r",
   "file_extension": ".r",
   "mimetype": "text/x-r-source",
   "name": "R",
   "pygments_lexer": "r",
   "version": "4.1.3"
  },
  "toc-autonumbering": false,
  "toc-showmarkdowntxt": false
 },
 "nbformat": 4,
 "nbformat_minor": 5
}
