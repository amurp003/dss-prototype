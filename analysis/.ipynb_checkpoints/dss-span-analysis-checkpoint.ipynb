{
 "cells": [
  {
   "cell_type": "markdown",
   "id": "8d529777-9c5d-4129-b33e-98722c66f0d2",
   "metadata": {},
   "source": [
    "## Decision Support System (DSS) Span Analysis ##\n",
    "\n",
    "https://github.com/jupyter/docker-stacks  \n",
    "https://hub.docker.com/r/jupyter/r-notebook/tags/  \n",
    "\n",
    "_(optional) docker pull jupyter/r-notebook:latest_  \n",
    "\n",
    "We want to make the DDS Prototype ~/analysis/ directory to the Juypter container. Use the following to mount the analysis directory (i.e. current working directory) as a volume in the Juypter container. Note that the directory needed to be added via the Docker Desktop Dashboard on Mac.\n",
    "\n",
    "_docker run -it --rm -d -p 10000:8888 -v ${PWD}:/home/jovyan/work --name notebook jupyter/r-notebook:latest_  \n",
    "\n",
    "To find the token from the container:  \n",
    "_docker exec -it notebook jupyter server list_\n",
    "\n",
    "Navigate to the container UI and enter the token:\n",
    "http://localhost:10000"
   ]
  },
  {
   "cell_type": "code",
   "execution_count": 1,
   "id": "34346fcc-3f2b-42c8-b503-3349365c2006",
   "metadata": {},
   "outputs": [],
   "source": [
    "setwd('/home/jovyan/work/data')"
   ]
  },
  {
   "cell_type": "code",
   "execution_count": 5,
   "id": "415c2bc6-7a06-4e6b-9e58-350ab7c4dcdc",
   "metadata": {},
   "outputs": [
    {
     "name": "stderr",
     "output_type": "stream",
     "text": [
      "The following objects are masked from SpanData:\n",
      "\n",
      "    Duration, Start.time, Trace.ID, Trace.name\n",
      "\n",
      "\n"
     ]
    }
   ],
   "source": [
    "options(warn=-1)\n",
    "spanData <- read.csv('Span Data Table-data-2022-03-15 09_39_20.csv', header = TRUE)\n",
    "attach(spanData)"
   ]
  },
  {
   "cell_type": "code",
   "execution_count": 4,
   "id": "7185c833-da1e-4437-86f7-54e904857ed3",
   "metadata": {},
   "outputs": [
    {
     "data": {
      "text/html": [
       "<table class=\"dataframe\">\n",
       "<caption>A data.frame: 24 × 4</caption>\n",
       "<thead>\n",
       "\t<tr><th scope=col>Trace.ID</th><th scope=col>Trace.name</th><th scope=col>Start.time</th><th scope=col>Duration</th></tr>\n",
       "\t<tr><th scope=col>&lt;chr&gt;</th><th scope=col>&lt;chr&gt;</th><th scope=col>&lt;chr&gt;</th><th scope=col>&lt;chr&gt;</th></tr>\n",
       "</thead>\n",
       "<tbody>\n",
       "\t<tr><td>bbd7fdfbd0f7128c5e6a453cd635af9c</td><td>dss-prototype: /tracks                </td><td>2022-03-15 09:24:30.600</td><td>4.90 ms</td></tr>\n",
       "\t<tr><td>d7ea41738c7310c1d29026b3071a8a01</td><td>dss-prototype: /tracks                </td><td>2022-03-15 09:24:29.495</td><td>4.57 ms</td></tr>\n",
       "\t<tr><td>cb15fcbf08f58813accf06ef2a800591</td><td>dss-prototype: /tracks                </td><td>2022-03-15 09:24:28.578</td><td>4.57 ms</td></tr>\n",
       "\t<tr><td>bf8dd6a37dc36d99ef54442defe39545</td><td>dss-prototype: /tracks                </td><td>2022-03-15 09:24:27.625</td><td>4.39 ms</td></tr>\n",
       "\t<tr><td>327b571f1f9016efce77e24f3d3681a8</td><td>dss-prototype: /tracks                </td><td>2022-03-15 09:24:26.654</td><td>4.49 ms</td></tr>\n",
       "\t<tr><td>54eda0119e8a9f60a0d086cff97ec642</td><td>dss-prototype: /tracks                </td><td>2022-03-15 09:24:25.177</td><td>4.77 ms</td></tr>\n",
       "\t<tr><td>6908801874372733e884cbae2ebc26da</td><td>dss-prototype: /tracks                </td><td>2022-03-15 09:24:21.780</td><td>4.87 ms</td></tr>\n",
       "\t<tr><td>daeed6104ac410b60abdb41f957a7d78</td><td>dss-prototype: /tracks                </td><td>2022-03-15 09:24:20.504</td><td>5.03 ms</td></tr>\n",
       "\t<tr><td>c176da443e34bae29a5deabc195c87dc</td><td>dss-prototype: /tracks                </td><td>2022-03-15 09:24:19.469</td><td>5.10 ms</td></tr>\n",
       "\t<tr><td>0967a74339362035c319de6f991797bd</td><td>dss-prototype: /tracks                </td><td>2022-03-15 09:24:17.480</td><td>4.72 ms</td></tr>\n",
       "\t<tr><td>29bdcb7e4c1b7379c33ca4c7040e4bce</td><td>dss-prototype: /IAD                   </td><td>2022-03-15 09:24:12.774</td><td>531 ms </td></tr>\n",
       "\t<tr><td>b25ca9665ae6d14f277da32307eafb32</td><td>dss-prototype: /IAD                   </td><td>2022-03-15 09:24:10.901</td><td>520 ms </td></tr>\n",
       "\t<tr><td>d968c7fb2a5d71b9f9dd35b269914c81</td><td>dss-prototype: /IAD                   </td><td>2022-03-15 09:24:08.613</td><td>428 ms </td></tr>\n",
       "\t<tr><td>3ff9b3b56ea0d11bccec6621ea4cc582</td><td>dss-prototype: /IAD                   </td><td>2022-03-15 09:24:06.823</td><td>362 ms </td></tr>\n",
       "\t<tr><td>d519e9e23018e6e714ac989128d05332</td><td>dss-prototype: /IAD                   </td><td>2022-03-15 09:24:04.699</td><td>412 ms </td></tr>\n",
       "\t<tr><td>b13ce3346a462696741d7d615440eea5</td><td>dss-prototype: /RIC                   </td><td>2022-03-15 09:24:01.446</td><td>367 ms </td></tr>\n",
       "\t<tr><td>2ad10e2ef665b0607a68b05adac3659c</td><td>dss-prototype: /RIC                   </td><td>2022-03-15 09:23:59.688</td><td>364 ms </td></tr>\n",
       "\t<tr><td>f271321d75a11f3c0e419b2917bc06eb</td><td>dss-prototype: /RIC                   </td><td>2022-03-15 09:23:58.312</td><td>523 ms </td></tr>\n",
       "\t<tr><td>e05aeb1095fa6601f2438cbba6e6a66a</td><td>dss-prototype: /RIC                   </td><td>2022-03-15 09:23:55.218</td><td>328 ms </td></tr>\n",
       "\t<tr><td>60e2ef6ae2c326bcf49eda6ec6e2f41c</td><td>dss-prototype: /RIC                   </td><td>2022-03-15 09:23:51.230</td><td>354 ms </td></tr>\n",
       "\t<tr><td>04e13d80640174cec8d89c5d7f7cd727</td><td>dss-prototype: /static/&lt;path:filename&gt;</td><td>2022-03-15 09:23:49.680</td><td>950 µs </td></tr>\n",
       "\t<tr><td>5cfc24420bc0d5c2aa79080cca8aa005</td><td>dss-prototype: /static/&lt;path:filename&gt;</td><td>2022-03-15 09:23:49.543</td><td>1.09 ms</td></tr>\n",
       "\t<tr><td>e761312e741205b6421a4c13a39f1052</td><td>dss-prototype: /static/&lt;path:filename&gt;</td><td>2022-03-15 09:23:49.532</td><td>1.47 ms</td></tr>\n",
       "\t<tr><td>b51925b0d6286e0d4ce157aff8548653</td><td>dss-prototype: /                      </td><td>2022-03-15 09:23:49.467</td><td>969 µs </td></tr>\n",
       "</tbody>\n",
       "</table>\n"
      ],
      "text/latex": [
       "A data.frame: 24 × 4\n",
       "\\begin{tabular}{llll}\n",
       " Trace.ID & Trace.name & Start.time & Duration\\\\\n",
       " <chr> & <chr> & <chr> & <chr>\\\\\n",
       "\\hline\n",
       "\t bbd7fdfbd0f7128c5e6a453cd635af9c & dss-prototype: /tracks                 & 2022-03-15 09:24:30.600 & 4.90 ms\\\\\n",
       "\t d7ea41738c7310c1d29026b3071a8a01 & dss-prototype: /tracks                 & 2022-03-15 09:24:29.495 & 4.57 ms\\\\\n",
       "\t cb15fcbf08f58813accf06ef2a800591 & dss-prototype: /tracks                 & 2022-03-15 09:24:28.578 & 4.57 ms\\\\\n",
       "\t bf8dd6a37dc36d99ef54442defe39545 & dss-prototype: /tracks                 & 2022-03-15 09:24:27.625 & 4.39 ms\\\\\n",
       "\t 327b571f1f9016efce77e24f3d3681a8 & dss-prototype: /tracks                 & 2022-03-15 09:24:26.654 & 4.49 ms\\\\\n",
       "\t 54eda0119e8a9f60a0d086cff97ec642 & dss-prototype: /tracks                 & 2022-03-15 09:24:25.177 & 4.77 ms\\\\\n",
       "\t 6908801874372733e884cbae2ebc26da & dss-prototype: /tracks                 & 2022-03-15 09:24:21.780 & 4.87 ms\\\\\n",
       "\t daeed6104ac410b60abdb41f957a7d78 & dss-prototype: /tracks                 & 2022-03-15 09:24:20.504 & 5.03 ms\\\\\n",
       "\t c176da443e34bae29a5deabc195c87dc & dss-prototype: /tracks                 & 2022-03-15 09:24:19.469 & 5.10 ms\\\\\n",
       "\t 0967a74339362035c319de6f991797bd & dss-prototype: /tracks                 & 2022-03-15 09:24:17.480 & 4.72 ms\\\\\n",
       "\t 29bdcb7e4c1b7379c33ca4c7040e4bce & dss-prototype: /IAD                    & 2022-03-15 09:24:12.774 & 531 ms \\\\\n",
       "\t b25ca9665ae6d14f277da32307eafb32 & dss-prototype: /IAD                    & 2022-03-15 09:24:10.901 & 520 ms \\\\\n",
       "\t d968c7fb2a5d71b9f9dd35b269914c81 & dss-prototype: /IAD                    & 2022-03-15 09:24:08.613 & 428 ms \\\\\n",
       "\t 3ff9b3b56ea0d11bccec6621ea4cc582 & dss-prototype: /IAD                    & 2022-03-15 09:24:06.823 & 362 ms \\\\\n",
       "\t d519e9e23018e6e714ac989128d05332 & dss-prototype: /IAD                    & 2022-03-15 09:24:04.699 & 412 ms \\\\\n",
       "\t b13ce3346a462696741d7d615440eea5 & dss-prototype: /RIC                    & 2022-03-15 09:24:01.446 & 367 ms \\\\\n",
       "\t 2ad10e2ef665b0607a68b05adac3659c & dss-prototype: /RIC                    & 2022-03-15 09:23:59.688 & 364 ms \\\\\n",
       "\t f271321d75a11f3c0e419b2917bc06eb & dss-prototype: /RIC                    & 2022-03-15 09:23:58.312 & 523 ms \\\\\n",
       "\t e05aeb1095fa6601f2438cbba6e6a66a & dss-prototype: /RIC                    & 2022-03-15 09:23:55.218 & 328 ms \\\\\n",
       "\t 60e2ef6ae2c326bcf49eda6ec6e2f41c & dss-prototype: /RIC                    & 2022-03-15 09:23:51.230 & 354 ms \\\\\n",
       "\t 04e13d80640174cec8d89c5d7f7cd727 & dss-prototype: /static/<path:filename> & 2022-03-15 09:23:49.680 & 950 µs \\\\\n",
       "\t 5cfc24420bc0d5c2aa79080cca8aa005 & dss-prototype: /static/<path:filename> & 2022-03-15 09:23:49.543 & 1.09 ms\\\\\n",
       "\t e761312e741205b6421a4c13a39f1052 & dss-prototype: /static/<path:filename> & 2022-03-15 09:23:49.532 & 1.47 ms\\\\\n",
       "\t b51925b0d6286e0d4ce157aff8548653 & dss-prototype: /                       & 2022-03-15 09:23:49.467 & 969 µs \\\\\n",
       "\\end{tabular}\n"
      ],
      "text/markdown": [
       "\n",
       "A data.frame: 24 × 4\n",
       "\n",
       "| Trace.ID &lt;chr&gt; | Trace.name &lt;chr&gt; | Start.time &lt;chr&gt; | Duration &lt;chr&gt; |\n",
       "|---|---|---|---|\n",
       "| bbd7fdfbd0f7128c5e6a453cd635af9c | dss-prototype: /tracks                 | 2022-03-15 09:24:30.600 | 4.90 ms |\n",
       "| d7ea41738c7310c1d29026b3071a8a01 | dss-prototype: /tracks                 | 2022-03-15 09:24:29.495 | 4.57 ms |\n",
       "| cb15fcbf08f58813accf06ef2a800591 | dss-prototype: /tracks                 | 2022-03-15 09:24:28.578 | 4.57 ms |\n",
       "| bf8dd6a37dc36d99ef54442defe39545 | dss-prototype: /tracks                 | 2022-03-15 09:24:27.625 | 4.39 ms |\n",
       "| 327b571f1f9016efce77e24f3d3681a8 | dss-prototype: /tracks                 | 2022-03-15 09:24:26.654 | 4.49 ms |\n",
       "| 54eda0119e8a9f60a0d086cff97ec642 | dss-prototype: /tracks                 | 2022-03-15 09:24:25.177 | 4.77 ms |\n",
       "| 6908801874372733e884cbae2ebc26da | dss-prototype: /tracks                 | 2022-03-15 09:24:21.780 | 4.87 ms |\n",
       "| daeed6104ac410b60abdb41f957a7d78 | dss-prototype: /tracks                 | 2022-03-15 09:24:20.504 | 5.03 ms |\n",
       "| c176da443e34bae29a5deabc195c87dc | dss-prototype: /tracks                 | 2022-03-15 09:24:19.469 | 5.10 ms |\n",
       "| 0967a74339362035c319de6f991797bd | dss-prototype: /tracks                 | 2022-03-15 09:24:17.480 | 4.72 ms |\n",
       "| 29bdcb7e4c1b7379c33ca4c7040e4bce | dss-prototype: /IAD                    | 2022-03-15 09:24:12.774 | 531 ms  |\n",
       "| b25ca9665ae6d14f277da32307eafb32 | dss-prototype: /IAD                    | 2022-03-15 09:24:10.901 | 520 ms  |\n",
       "| d968c7fb2a5d71b9f9dd35b269914c81 | dss-prototype: /IAD                    | 2022-03-15 09:24:08.613 | 428 ms  |\n",
       "| 3ff9b3b56ea0d11bccec6621ea4cc582 | dss-prototype: /IAD                    | 2022-03-15 09:24:06.823 | 362 ms  |\n",
       "| d519e9e23018e6e714ac989128d05332 | dss-prototype: /IAD                    | 2022-03-15 09:24:04.699 | 412 ms  |\n",
       "| b13ce3346a462696741d7d615440eea5 | dss-prototype: /RIC                    | 2022-03-15 09:24:01.446 | 367 ms  |\n",
       "| 2ad10e2ef665b0607a68b05adac3659c | dss-prototype: /RIC                    | 2022-03-15 09:23:59.688 | 364 ms  |\n",
       "| f271321d75a11f3c0e419b2917bc06eb | dss-prototype: /RIC                    | 2022-03-15 09:23:58.312 | 523 ms  |\n",
       "| e05aeb1095fa6601f2438cbba6e6a66a | dss-prototype: /RIC                    | 2022-03-15 09:23:55.218 | 328 ms  |\n",
       "| 60e2ef6ae2c326bcf49eda6ec6e2f41c | dss-prototype: /RIC                    | 2022-03-15 09:23:51.230 | 354 ms  |\n",
       "| 04e13d80640174cec8d89c5d7f7cd727 | dss-prototype: /static/&lt;path:filename&gt; | 2022-03-15 09:23:49.680 | 950 µs  |\n",
       "| 5cfc24420bc0d5c2aa79080cca8aa005 | dss-prototype: /static/&lt;path:filename&gt; | 2022-03-15 09:23:49.543 | 1.09 ms |\n",
       "| e761312e741205b6421a4c13a39f1052 | dss-prototype: /static/&lt;path:filename&gt; | 2022-03-15 09:23:49.532 | 1.47 ms |\n",
       "| b51925b0d6286e0d4ce157aff8548653 | dss-prototype: /                       | 2022-03-15 09:23:49.467 | 969 µs  |\n",
       "\n"
      ],
      "text/plain": [
       "   Trace.ID                         Trace.name                            \n",
       "1  bbd7fdfbd0f7128c5e6a453cd635af9c dss-prototype: /tracks                \n",
       "2  d7ea41738c7310c1d29026b3071a8a01 dss-prototype: /tracks                \n",
       "3  cb15fcbf08f58813accf06ef2a800591 dss-prototype: /tracks                \n",
       "4  bf8dd6a37dc36d99ef54442defe39545 dss-prototype: /tracks                \n",
       "5  327b571f1f9016efce77e24f3d3681a8 dss-prototype: /tracks                \n",
       "6  54eda0119e8a9f60a0d086cff97ec642 dss-prototype: /tracks                \n",
       "7  6908801874372733e884cbae2ebc26da dss-prototype: /tracks                \n",
       "8  daeed6104ac410b60abdb41f957a7d78 dss-prototype: /tracks                \n",
       "9  c176da443e34bae29a5deabc195c87dc dss-prototype: /tracks                \n",
       "10 0967a74339362035c319de6f991797bd dss-prototype: /tracks                \n",
       "11 29bdcb7e4c1b7379c33ca4c7040e4bce dss-prototype: /IAD                   \n",
       "12 b25ca9665ae6d14f277da32307eafb32 dss-prototype: /IAD                   \n",
       "13 d968c7fb2a5d71b9f9dd35b269914c81 dss-prototype: /IAD                   \n",
       "14 3ff9b3b56ea0d11bccec6621ea4cc582 dss-prototype: /IAD                   \n",
       "15 d519e9e23018e6e714ac989128d05332 dss-prototype: /IAD                   \n",
       "16 b13ce3346a462696741d7d615440eea5 dss-prototype: /RIC                   \n",
       "17 2ad10e2ef665b0607a68b05adac3659c dss-prototype: /RIC                   \n",
       "18 f271321d75a11f3c0e419b2917bc06eb dss-prototype: /RIC                   \n",
       "19 e05aeb1095fa6601f2438cbba6e6a66a dss-prototype: /RIC                   \n",
       "20 60e2ef6ae2c326bcf49eda6ec6e2f41c dss-prototype: /RIC                   \n",
       "21 04e13d80640174cec8d89c5d7f7cd727 dss-prototype: /static/<path:filename>\n",
       "22 5cfc24420bc0d5c2aa79080cca8aa005 dss-prototype: /static/<path:filename>\n",
       "23 e761312e741205b6421a4c13a39f1052 dss-prototype: /static/<path:filename>\n",
       "24 b51925b0d6286e0d4ce157aff8548653 dss-prototype: /                      \n",
       "   Start.time              Duration\n",
       "1  2022-03-15 09:24:30.600 4.90 ms \n",
       "2  2022-03-15 09:24:29.495 4.57 ms \n",
       "3  2022-03-15 09:24:28.578 4.57 ms \n",
       "4  2022-03-15 09:24:27.625 4.39 ms \n",
       "5  2022-03-15 09:24:26.654 4.49 ms \n",
       "6  2022-03-15 09:24:25.177 4.77 ms \n",
       "7  2022-03-15 09:24:21.780 4.87 ms \n",
       "8  2022-03-15 09:24:20.504 5.03 ms \n",
       "9  2022-03-15 09:24:19.469 5.10 ms \n",
       "10 2022-03-15 09:24:17.480 4.72 ms \n",
       "11 2022-03-15 09:24:12.774 531 ms  \n",
       "12 2022-03-15 09:24:10.901 520 ms  \n",
       "13 2022-03-15 09:24:08.613 428 ms  \n",
       "14 2022-03-15 09:24:06.823 362 ms  \n",
       "15 2022-03-15 09:24:04.699 412 ms  \n",
       "16 2022-03-15 09:24:01.446 367 ms  \n",
       "17 2022-03-15 09:23:59.688 364 ms  \n",
       "18 2022-03-15 09:23:58.312 523 ms  \n",
       "19 2022-03-15 09:23:55.218 328 ms  \n",
       "20 2022-03-15 09:23:51.230 354 ms  \n",
       "21 2022-03-15 09:23:49.680 950 µs  \n",
       "22 2022-03-15 09:23:49.543 1.09 ms \n",
       "23 2022-03-15 09:23:49.532 1.47 ms \n",
       "24 2022-03-15 09:23:49.467 969 µs  "
      ]
     },
     "metadata": {},
     "output_type": "display_data"
    }
   ],
   "source": [
    "spanData"
   ]
  },
  {
   "cell_type": "code",
   "execution_count": null,
   "id": "e296ce1f-f449-4091-a473-bc34da58635f",
   "metadata": {},
   "outputs": [],
   "source": [
    "summary(spanData)"
   ]
  }
 ],
 "metadata": {
  "kernelspec": {
   "display_name": "R",
   "language": "R",
   "name": "ir"
  },
  "language_info": {
   "codemirror_mode": "r",
   "file_extension": ".r",
   "mimetype": "text/x-r-source",
   "name": "R",
   "pygments_lexer": "r",
   "version": "4.1.2"
  }
 },
 "nbformat": 4,
 "nbformat_minor": 5
}
