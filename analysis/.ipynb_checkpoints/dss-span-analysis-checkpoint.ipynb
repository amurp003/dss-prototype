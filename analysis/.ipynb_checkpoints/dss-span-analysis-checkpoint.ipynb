{
 "cells": [
  {
   "cell_type": "markdown",
   "id": "8d529777-9c5d-4129-b33e-98722c66f0d2",
   "metadata": {},
   "source": [
    "## Decision Support System (DSS) Span Analysis ##\n",
    "\n",
    "https://github.com/jupyter/docker-stacks  \n",
    "https://hub.docker.com/r/jupyter/r-notebook/tags/  \n",
    "\n",
    "_(optional) docker pull jupyter/r-notebook:latest_  \n",
    "\n",
    "We want to make the DDS Prototype ~/analysis/ directory to the Juypter container. Use the following to mount the analysis directory (i.e. current working directory) as a volume in the Juypter container. Note that the directory needed to be added via the Docker Desktop Dashboard on Mac.\n",
    "\n",
    "_docker run -it --rm -d -p 10000:8888 -v ${PWD}:/home/jovyan/work --name notebook jupyter/r-notebook:latest_  \n",
    "\n",
    "To find the token from the container:  \n",
    "_docker exec -it notebook jupyter server list_\n",
    "\n",
    "Navigate to the container UI and enter the token:\n",
    "http://localhost:10000"
   ]
  },
  {
   "cell_type": "code",
   "execution_count": 1,
   "id": "5a467067-4f2a-4c53-b642-24ef116433a6",
   "metadata": {},
   "outputs": [
    {
     "name": "stderr",
     "output_type": "stream",
     "text": [
      "Updating HTML index of packages in '.Library'\n",
      "\n",
      "Making 'packages.html' ...\n",
      " done\n",
      "\n"
     ]
    }
   ],
   "source": [
    "install.packages(\"stringr\")                # Install stringr package in R\n",
    "library(\"stringr\")                         # Load stringr package"
   ]
  },
  {
   "cell_type": "code",
   "execution_count": 2,
   "id": "34346fcc-3f2b-42c8-b503-3349365c2006",
   "metadata": {},
   "outputs": [],
   "source": [
    "setwd('/home/jovyan/work/data')"
   ]
  },
  {
   "cell_type": "code",
   "execution_count": 3,
   "id": "415c2bc6-7a06-4e6b-9e58-350ab7c4dcdc",
   "metadata": {},
   "outputs": [],
   "source": [
    "options(warn=-1)\n",
    "spanData <- read.csv('Span Data Table-data-2022-03-15 09_39_20.csv', header = TRUE)\n",
    "attach(spanData)"
   ]
  },
  {
   "cell_type": "markdown",
   "id": "1649d658-7b52-46ce-be4b-5b56201cfb82",
   "metadata": {},
   "source": [
    "# Exploratory Data Analysis #"
   ]
  },
  {
   "cell_type": "code",
   "execution_count": 4,
   "id": "7185c833-da1e-4437-86f7-54e904857ed3",
   "metadata": {},
   "outputs": [
    {
     "data": {
      "text/html": [
       "<table class=\"dataframe\">\n",
       "<caption>A data.frame: 6 × 4</caption>\n",
       "<thead>\n",
       "\t<tr><th></th><th scope=col>Trace.ID</th><th scope=col>Trace.name</th><th scope=col>Start.time</th><th scope=col>Duration</th></tr>\n",
       "\t<tr><th></th><th scope=col>&lt;chr&gt;</th><th scope=col>&lt;chr&gt;</th><th scope=col>&lt;chr&gt;</th><th scope=col>&lt;chr&gt;</th></tr>\n",
       "</thead>\n",
       "<tbody>\n",
       "\t<tr><th scope=row>1</th><td>bbd7fdfbd0f7128c5e6a453cd635af9c</td><td>dss-prototype: /tracks</td><td>2022-03-15 09:24:30.600</td><td>4.90 ms</td></tr>\n",
       "\t<tr><th scope=row>2</th><td>d7ea41738c7310c1d29026b3071a8a01</td><td>dss-prototype: /tracks</td><td>2022-03-15 09:24:29.495</td><td>4.57 ms</td></tr>\n",
       "\t<tr><th scope=row>3</th><td>cb15fcbf08f58813accf06ef2a800591</td><td>dss-prototype: /tracks</td><td>2022-03-15 09:24:28.578</td><td>4.57 ms</td></tr>\n",
       "\t<tr><th scope=row>4</th><td>bf8dd6a37dc36d99ef54442defe39545</td><td>dss-prototype: /tracks</td><td>2022-03-15 09:24:27.625</td><td>4.39 ms</td></tr>\n",
       "\t<tr><th scope=row>5</th><td>327b571f1f9016efce77e24f3d3681a8</td><td>dss-prototype: /tracks</td><td>2022-03-15 09:24:26.654</td><td>4.49 ms</td></tr>\n",
       "\t<tr><th scope=row>6</th><td>54eda0119e8a9f60a0d086cff97ec642</td><td>dss-prototype: /tracks</td><td>2022-03-15 09:24:25.177</td><td>4.77 ms</td></tr>\n",
       "</tbody>\n",
       "</table>\n"
      ],
      "text/latex": [
       "A data.frame: 6 × 4\n",
       "\\begin{tabular}{r|llll}\n",
       "  & Trace.ID & Trace.name & Start.time & Duration\\\\\n",
       "  & <chr> & <chr> & <chr> & <chr>\\\\\n",
       "\\hline\n",
       "\t1 & bbd7fdfbd0f7128c5e6a453cd635af9c & dss-prototype: /tracks & 2022-03-15 09:24:30.600 & 4.90 ms\\\\\n",
       "\t2 & d7ea41738c7310c1d29026b3071a8a01 & dss-prototype: /tracks & 2022-03-15 09:24:29.495 & 4.57 ms\\\\\n",
       "\t3 & cb15fcbf08f58813accf06ef2a800591 & dss-prototype: /tracks & 2022-03-15 09:24:28.578 & 4.57 ms\\\\\n",
       "\t4 & bf8dd6a37dc36d99ef54442defe39545 & dss-prototype: /tracks & 2022-03-15 09:24:27.625 & 4.39 ms\\\\\n",
       "\t5 & 327b571f1f9016efce77e24f3d3681a8 & dss-prototype: /tracks & 2022-03-15 09:24:26.654 & 4.49 ms\\\\\n",
       "\t6 & 54eda0119e8a9f60a0d086cff97ec642 & dss-prototype: /tracks & 2022-03-15 09:24:25.177 & 4.77 ms\\\\\n",
       "\\end{tabular}\n"
      ],
      "text/markdown": [
       "\n",
       "A data.frame: 6 × 4\n",
       "\n",
       "| <!--/--> | Trace.ID &lt;chr&gt; | Trace.name &lt;chr&gt; | Start.time &lt;chr&gt; | Duration &lt;chr&gt; |\n",
       "|---|---|---|---|---|\n",
       "| 1 | bbd7fdfbd0f7128c5e6a453cd635af9c | dss-prototype: /tracks | 2022-03-15 09:24:30.600 | 4.90 ms |\n",
       "| 2 | d7ea41738c7310c1d29026b3071a8a01 | dss-prototype: /tracks | 2022-03-15 09:24:29.495 | 4.57 ms |\n",
       "| 3 | cb15fcbf08f58813accf06ef2a800591 | dss-prototype: /tracks | 2022-03-15 09:24:28.578 | 4.57 ms |\n",
       "| 4 | bf8dd6a37dc36d99ef54442defe39545 | dss-prototype: /tracks | 2022-03-15 09:24:27.625 | 4.39 ms |\n",
       "| 5 | 327b571f1f9016efce77e24f3d3681a8 | dss-prototype: /tracks | 2022-03-15 09:24:26.654 | 4.49 ms |\n",
       "| 6 | 54eda0119e8a9f60a0d086cff97ec642 | dss-prototype: /tracks | 2022-03-15 09:24:25.177 | 4.77 ms |\n",
       "\n"
      ],
      "text/plain": [
       "  Trace.ID                         Trace.name            \n",
       "1 bbd7fdfbd0f7128c5e6a453cd635af9c dss-prototype: /tracks\n",
       "2 d7ea41738c7310c1d29026b3071a8a01 dss-prototype: /tracks\n",
       "3 cb15fcbf08f58813accf06ef2a800591 dss-prototype: /tracks\n",
       "4 bf8dd6a37dc36d99ef54442defe39545 dss-prototype: /tracks\n",
       "5 327b571f1f9016efce77e24f3d3681a8 dss-prototype: /tracks\n",
       "6 54eda0119e8a9f60a0d086cff97ec642 dss-prototype: /tracks\n",
       "  Start.time              Duration\n",
       "1 2022-03-15 09:24:30.600 4.90 ms \n",
       "2 2022-03-15 09:24:29.495 4.57 ms \n",
       "3 2022-03-15 09:24:28.578 4.57 ms \n",
       "4 2022-03-15 09:24:27.625 4.39 ms \n",
       "5 2022-03-15 09:24:26.654 4.49 ms \n",
       "6 2022-03-15 09:24:25.177 4.77 ms "
      ]
     },
     "metadata": {},
     "output_type": "display_data"
    }
   ],
   "source": [
    "head(spanData)"
   ]
  },
  {
   "cell_type": "code",
   "execution_count": 5,
   "id": "e296ce1f-f449-4091-a473-bc34da58635f",
   "metadata": {},
   "outputs": [
    {
     "data": {
      "text/plain": [
       "   Trace.ID          Trace.name         Start.time          Duration        \n",
       " Length:24          Length:24          Length:24          Length:24         \n",
       " Class :character   Class :character   Class :character   Class :character  \n",
       " Mode  :character   Mode  :character   Mode  :character   Mode  :character  "
      ]
     },
     "metadata": {},
     "output_type": "display_data"
    }
   ],
   "source": [
    "summary(spanData)"
   ]
  },
  {
   "cell_type": "code",
   "execution_count": 6,
   "id": "e147f0cd-2736-4439-806f-801380a2a595",
   "metadata": {},
   "outputs": [
    {
     "data": {
      "text/html": [
       "<table class=\"dataframe\">\n",
       "<caption>A data.frame: 6 × 4</caption>\n",
       "<thead>\n",
       "\t<tr><th></th><th scope=col>Trace.ID</th><th scope=col>Trace.name</th><th scope=col>Start.time</th><th scope=col>Duration</th></tr>\n",
       "\t<tr><th></th><th scope=col>&lt;chr&gt;</th><th scope=col>&lt;chr&gt;</th><th scope=col>&lt;dbl&gt;</th><th scope=col>&lt;dbl&gt;</th></tr>\n",
       "</thead>\n",
       "<tbody>\n",
       "\t<tr><th scope=row>1</th><td>bbd7fdfbd0f7128c5e6a453cd635af9c</td><td>dss-prototype: /tracks</td><td>1647336270</td><td>0.00490</td></tr>\n",
       "\t<tr><th scope=row>2</th><td>d7ea41738c7310c1d29026b3071a8a01</td><td>dss-prototype: /tracks</td><td>1647336269</td><td>0.00457</td></tr>\n",
       "\t<tr><th scope=row>3</th><td>cb15fcbf08f58813accf06ef2a800591</td><td>dss-prototype: /tracks</td><td>1647336268</td><td>0.00457</td></tr>\n",
       "\t<tr><th scope=row>4</th><td>bf8dd6a37dc36d99ef54442defe39545</td><td>dss-prototype: /tracks</td><td>1647336267</td><td>0.00439</td></tr>\n",
       "\t<tr><th scope=row>5</th><td>327b571f1f9016efce77e24f3d3681a8</td><td>dss-prototype: /tracks</td><td>1647336266</td><td>0.00449</td></tr>\n",
       "\t<tr><th scope=row>6</th><td>54eda0119e8a9f60a0d086cff97ec642</td><td>dss-prototype: /tracks</td><td>1647336265</td><td>0.00477</td></tr>\n",
       "</tbody>\n",
       "</table>\n"
      ],
      "text/latex": [
       "A data.frame: 6 × 4\n",
       "\\begin{tabular}{r|llll}\n",
       "  & Trace.ID & Trace.name & Start.time & Duration\\\\\n",
       "  & <chr> & <chr> & <dbl> & <dbl>\\\\\n",
       "\\hline\n",
       "\t1 & bbd7fdfbd0f7128c5e6a453cd635af9c & dss-prototype: /tracks & 1647336270 & 0.00490\\\\\n",
       "\t2 & d7ea41738c7310c1d29026b3071a8a01 & dss-prototype: /tracks & 1647336269 & 0.00457\\\\\n",
       "\t3 & cb15fcbf08f58813accf06ef2a800591 & dss-prototype: /tracks & 1647336268 & 0.00457\\\\\n",
       "\t4 & bf8dd6a37dc36d99ef54442defe39545 & dss-prototype: /tracks & 1647336267 & 0.00439\\\\\n",
       "\t5 & 327b571f1f9016efce77e24f3d3681a8 & dss-prototype: /tracks & 1647336266 & 0.00449\\\\\n",
       "\t6 & 54eda0119e8a9f60a0d086cff97ec642 & dss-prototype: /tracks & 1647336265 & 0.00477\\\\\n",
       "\\end{tabular}\n"
      ],
      "text/markdown": [
       "\n",
       "A data.frame: 6 × 4\n",
       "\n",
       "| <!--/--> | Trace.ID &lt;chr&gt; | Trace.name &lt;chr&gt; | Start.time &lt;dbl&gt; | Duration &lt;dbl&gt; |\n",
       "|---|---|---|---|---|\n",
       "| 1 | bbd7fdfbd0f7128c5e6a453cd635af9c | dss-prototype: /tracks | 1647336270 | 0.00490 |\n",
       "| 2 | d7ea41738c7310c1d29026b3071a8a01 | dss-prototype: /tracks | 1647336269 | 0.00457 |\n",
       "| 3 | cb15fcbf08f58813accf06ef2a800591 | dss-prototype: /tracks | 1647336268 | 0.00457 |\n",
       "| 4 | bf8dd6a37dc36d99ef54442defe39545 | dss-prototype: /tracks | 1647336267 | 0.00439 |\n",
       "| 5 | 327b571f1f9016efce77e24f3d3681a8 | dss-prototype: /tracks | 1647336266 | 0.00449 |\n",
       "| 6 | 54eda0119e8a9f60a0d086cff97ec642 | dss-prototype: /tracks | 1647336265 | 0.00477 |\n",
       "\n"
      ],
      "text/plain": [
       "  Trace.ID                         Trace.name             Start.time Duration\n",
       "1 bbd7fdfbd0f7128c5e6a453cd635af9c dss-prototype: /tracks 1647336270 0.00490 \n",
       "2 d7ea41738c7310c1d29026b3071a8a01 dss-prototype: /tracks 1647336269 0.00457 \n",
       "3 cb15fcbf08f58813accf06ef2a800591 dss-prototype: /tracks 1647336268 0.00457 \n",
       "4 bf8dd6a37dc36d99ef54442defe39545 dss-prototype: /tracks 1647336267 0.00439 \n",
       "5 327b571f1f9016efce77e24f3d3681a8 dss-prototype: /tracks 1647336266 0.00449 \n",
       "6 54eda0119e8a9f60a0d086cff97ec642 dss-prototype: /tracks 1647336265 0.00477 "
      ]
     },
     "metadata": {},
     "output_type": "display_data"
    },
    {
     "data": {
      "text/html": [
       "<table class=\"dataframe\">\n",
       "<caption>A data.frame: 6 × 4</caption>\n",
       "<thead>\n",
       "\t<tr><th></th><th scope=col>Trace.ID</th><th scope=col>Trace.name</th><th scope=col>Start.time</th><th scope=col>Duration</th></tr>\n",
       "\t<tr><th></th><th scope=col>&lt;chr&gt;</th><th scope=col>&lt;chr&gt;</th><th scope=col>&lt;dbl&gt;</th><th scope=col>&lt;dbl&gt;</th></tr>\n",
       "</thead>\n",
       "<tbody>\n",
       "\t<tr><th scope=row>19</th><td>e05aeb1095fa6601f2438cbba6e6a66a</td><td>dss-prototype: /RIC                   </td><td>1647336235</td><td>0.328000</td></tr>\n",
       "\t<tr><th scope=row>20</th><td>60e2ef6ae2c326bcf49eda6ec6e2f41c</td><td>dss-prototype: /RIC                   </td><td>1647336231</td><td>0.354000</td></tr>\n",
       "\t<tr><th scope=row>21</th><td>04e13d80640174cec8d89c5d7f7cd727</td><td>dss-prototype: /static/&lt;path:filename&gt;</td><td>1647336229</td><td>0.000950</td></tr>\n",
       "\t<tr><th scope=row>22</th><td>5cfc24420bc0d5c2aa79080cca8aa005</td><td>dss-prototype: /static/&lt;path:filename&gt;</td><td>1647336229</td><td>0.001090</td></tr>\n",
       "\t<tr><th scope=row>23</th><td>e761312e741205b6421a4c13a39f1052</td><td>dss-prototype: /static/&lt;path:filename&gt;</td><td>1647336229</td><td>0.001470</td></tr>\n",
       "\t<tr><th scope=row>24</th><td>b51925b0d6286e0d4ce157aff8548653</td><td>dss-prototype: /                      </td><td>1647336229</td><td>0.000969</td></tr>\n",
       "</tbody>\n",
       "</table>\n"
      ],
      "text/latex": [
       "A data.frame: 6 × 4\n",
       "\\begin{tabular}{r|llll}\n",
       "  & Trace.ID & Trace.name & Start.time & Duration\\\\\n",
       "  & <chr> & <chr> & <dbl> & <dbl>\\\\\n",
       "\\hline\n",
       "\t19 & e05aeb1095fa6601f2438cbba6e6a66a & dss-prototype: /RIC                    & 1647336235 & 0.328000\\\\\n",
       "\t20 & 60e2ef6ae2c326bcf49eda6ec6e2f41c & dss-prototype: /RIC                    & 1647336231 & 0.354000\\\\\n",
       "\t21 & 04e13d80640174cec8d89c5d7f7cd727 & dss-prototype: /static/<path:filename> & 1647336229 & 0.000950\\\\\n",
       "\t22 & 5cfc24420bc0d5c2aa79080cca8aa005 & dss-prototype: /static/<path:filename> & 1647336229 & 0.001090\\\\\n",
       "\t23 & e761312e741205b6421a4c13a39f1052 & dss-prototype: /static/<path:filename> & 1647336229 & 0.001470\\\\\n",
       "\t24 & b51925b0d6286e0d4ce157aff8548653 & dss-prototype: /                       & 1647336229 & 0.000969\\\\\n",
       "\\end{tabular}\n"
      ],
      "text/markdown": [
       "\n",
       "A data.frame: 6 × 4\n",
       "\n",
       "| <!--/--> | Trace.ID &lt;chr&gt; | Trace.name &lt;chr&gt; | Start.time &lt;dbl&gt; | Duration &lt;dbl&gt; |\n",
       "|---|---|---|---|---|\n",
       "| 19 | e05aeb1095fa6601f2438cbba6e6a66a | dss-prototype: /RIC                    | 1647336235 | 0.328000 |\n",
       "| 20 | 60e2ef6ae2c326bcf49eda6ec6e2f41c | dss-prototype: /RIC                    | 1647336231 | 0.354000 |\n",
       "| 21 | 04e13d80640174cec8d89c5d7f7cd727 | dss-prototype: /static/&lt;path:filename&gt; | 1647336229 | 0.000950 |\n",
       "| 22 | 5cfc24420bc0d5c2aa79080cca8aa005 | dss-prototype: /static/&lt;path:filename&gt; | 1647336229 | 0.001090 |\n",
       "| 23 | e761312e741205b6421a4c13a39f1052 | dss-prototype: /static/&lt;path:filename&gt; | 1647336229 | 0.001470 |\n",
       "| 24 | b51925b0d6286e0d4ce157aff8548653 | dss-prototype: /                       | 1647336229 | 0.000969 |\n",
       "\n"
      ],
      "text/plain": [
       "   Trace.ID                         Trace.name                            \n",
       "19 e05aeb1095fa6601f2438cbba6e6a66a dss-prototype: /RIC                   \n",
       "20 60e2ef6ae2c326bcf49eda6ec6e2f41c dss-prototype: /RIC                   \n",
       "21 04e13d80640174cec8d89c5d7f7cd727 dss-prototype: /static/<path:filename>\n",
       "22 5cfc24420bc0d5c2aa79080cca8aa005 dss-prototype: /static/<path:filename>\n",
       "23 e761312e741205b6421a4c13a39f1052 dss-prototype: /static/<path:filename>\n",
       "24 b51925b0d6286e0d4ce157aff8548653 dss-prototype: /                      \n",
       "   Start.time Duration\n",
       "19 1647336235 0.328000\n",
       "20 1647336231 0.354000\n",
       "21 1647336229 0.000950\n",
       "22 1647336229 0.001090\n",
       "23 1647336229 0.001470\n",
       "24 1647336229 0.000969"
      ]
     },
     "metadata": {},
     "output_type": "display_data"
    },
    {
     "data": {
      "text/plain": [
       "   Trace.ID          Trace.name          Start.time           Duration       \n",
       " Length:24          Length:24          Min.   :1.647e+09   Min.   :0.000950  \n",
       " Class :character   Class :character   1st Qu.:1.647e+09   1st Qu.:0.004550  \n",
       " Mode  :character   Mode  :character   Median :1.647e+09   Median :0.004965  \n",
       "                                       Mean   :1.647e+09   Mean   :0.176704  \n",
       "                                       3rd Qu.:1.647e+09   3rd Qu.:0.364750  \n",
       "                                       Max.   :1.647e+09   Max.   :0.531000  "
      ]
     },
     "metadata": {},
     "output_type": "display_data"
    }
   ],
   "source": [
    "# Convert character data into numeric metrics\n",
    "\n",
    "spanMetrics <- spanData\n",
    "\n",
    "for(i in 1:nrow(spanMetrics)) {       # for-loop over rows\n",
    "    \n",
    "    # Convert span duration\n",
    "    \n",
    "    char = spanMetrics[i,4]\n",
    "    len = str_length(char)\n",
    "    duration = str_sub(char,1,(len-3))\n",
    "    units = str_sub(char,(len-2),len)\n",
    "    duration = as.numeric(duration)\n",
    "\n",
    "    if(units == ' ms') {\n",
    "        duration = duration / 1000              # Convert to ms\n",
    "    } else if (units == ' µs') {\n",
    "        duration = duration / 1000000           # Convert to µs\n",
    "    } else {\n",
    "        print ('Unable to find specified units')\n",
    "    }\n",
    "    spanMetrics[i,4] = duration\n",
    "    \n",
    "    # Convert time\n",
    "\n",
    "    time = spanMetrics[i,3]\n",
    "    epoch <- as.POSIXct(time)\n",
    "    epoch_int <- as.integer(epoch)\n",
    "    spanMetrics[i,3] = epoch_int\n",
    "}\n",
    "\n",
    "# Convert columns for char to numeric\n",
    "\n",
    "spanMetrics$Duration = as.numeric(spanMetrics$Duration)\n",
    "spanMetrics$Start.time = as.numeric(spanMetrics$Start.time)\n",
    "\n",
    "head(spanMetrics)\n",
    "tail(spanMetrics)\n",
    "summary(spanMetrics)"
   ]
  },
  {
   "cell_type": "markdown",
   "id": "0db55c77-6ae0-4242-84b0-af815cde095a",
   "metadata": {},
   "source": [
    "## Search for outliers"
   ]
  },
  {
   "cell_type": "code",
   "execution_count": 16,
   "id": "d44d8ade-adaf-4c9f-b95a-39aafabf55a6",
   "metadata": {},
   "outputs": [
    {
     "data": {
      "image/png": "[encoded data removed]",
      "text/plain": [
       "plot without title"
      ]
     },
     "metadata": {
      "image/png": {
       "height": 420,
       "width": 420
      }
     },
     "output_type": "display_data"
    }
   ],
   "source": [
    "boxplot(spanMetrics$Duration~spanMetrics$Trace.name)"
   ]
  },
  {
   "cell_type": "code",
   "execution_count": 17,
   "id": "0125d00f-6db5-42a6-a039-5e7dc3760ce6",
   "metadata": {},
   "outputs": [],
   "source": [
    "## Use this to get the values of the statistical outliers in trk_update_data from R\n",
    "# outliers <- boxplot(spanMetrics$Duration, plot = FALSE)$out\n",
    "# outliers\n",
    "# spanMetrics$Duration[which(spanMetrics$Duration %in% outliers),]"
   ]
  },
  {
   "cell_type": "code",
   "execution_count": 7,
   "id": "48d5e70a-afc4-4219-bded-f119a0bfc6a8",
   "metadata": {},
   "outputs": [
    {
     "data": {
      "image/png": "[encoded data removed]",
      "text/plain": [
       "Plot with title “Histogram of spanMetrics$Duration”"
      ]
     },
     "metadata": {
      "image/png": {
       "height": 420,
       "width": 420
      }
     },
     "output_type": "display_data"
    }
   ],
   "source": [
    "# par(mfrow=c(2,2))\n",
    "\n",
    "hist(spanMetrics$Duration)"
   ]
  },
  {
   "cell_type": "code",
   "execution_count": 8,
   "id": "efc6629c-3f55-4cf0-b04e-0a525b72ba5e",
   "metadata": {},
   "outputs": [],
   "source": [
    "# plot(Duration~factor(Trace.name))"
   ]
  },
  {
   "cell_type": "markdown",
   "id": "3d20ff80-c77a-46c7-a5dd-f8c4a86d64d3",
   "metadata": {},
   "source": [
    "## Q-Q Plot\n",
    "\n",
    "The Q-Q plot, or quantile-quantile plot, is a graphical tool to help us assess if a set of data plausibly came from some theoretical distribution such as a normal or exponential. A Q-Q plot is a scatterplot created by plotting two sets of quantiles against one another. If both sets of quantiles came from the same distribution, we should see the points forming a line that’s roughly straight."
   ]
  },
  {
   "cell_type": "code",
   "execution_count": 9,
   "id": "9d2a9f17-192b-4caa-a056-ec92919909c0",
   "metadata": {},
   "outputs": [
    {
     "data": {
      "image/png": "[encoded data removed]",
      "text/plain": [
       "Plot with title “Span Duration Q-Q Norm Plot”"
      ]
     },
     "metadata": {
      "image/png": {
       "height": 420,
       "width": 420
      }
     },
     "output_type": "display_data"
    }
   ],
   "source": [
    "qqnorm(spanMetrics$Duration,main=\"Span Duration Q-Q Norm Plot\")\n",
    "qqline(spanMetrics$Duration)"
   ]
  },
  {
   "cell_type": "markdown",
   "id": "e359f33d-468f-4404-96cc-788056dd15bb",
   "metadata": {},
   "source": [
    "## Autocorrelation ##\n",
    "\n",
    "Autocorrelation plots are a commonly-used tool for checking randomness in a data set. This randomness is ascertained by computing autocorrelations for data values at varying time lags. If random, such autocorrelations should be near zero for any and all time-lag separations. If non-random, then one or more of the autocorrelations will be significantly non-zero."
   ]
  },
  {
   "cell_type": "code",
   "execution_count": 10,
   "id": "24c6f7f8-10b9-4e5a-a99b-08d765312ff4",
   "metadata": {},
   "outputs": [
    {
     "data": {
      "image/png": "[encoded data removed]",
      "text/plain": [
       "Plot with title “ACF of Duration”"
      ]
     },
     "metadata": {
      "image/png": {
       "height": 420,
       "width": 420
      }
     },
     "output_type": "display_data"
    }
   ],
   "source": [
    "acf(spanMetrics$Duration, main=\"ACF of Duration\")"
   ]
  },
  {
   "cell_type": "markdown",
   "id": "bf4fa3af-53f9-4b68-9c26-977e1bd4ab1b",
   "metadata": {},
   "source": [
    "# Hypothesis Testing # \n",
    "\n",
    "Modern DevSecOps architectures can be designed to meet hard-real-time latency (μ) requirements using modern computing environments and computing infrastructure:\n",
    "\n",
    "H0: μ ≤ tbd ms with jitter within latency bounds  \n",
    "Ha: μ > tbd ms with jitter exceeding latency bounds  \n",
    "∝ = 0.05\n",
    "\n",
    "We will use 500 ms; i.e. tbd will be set to 0.5.\n",
    "\n"
   ]
  },
  {
   "cell_type": "markdown",
   "id": "1408b47f-ad82-4ffd-9986-60d1961889e9",
   "metadata": {},
   "source": [
    "## Shapiro test to establish normality\n",
    "\n",
    "Null hypothesis: the data are normally distributed  \n",
    "Alternative hypothesis: the data are not normally distributed"
   ]
  },
  {
   "cell_type": "code",
   "execution_count": 11,
   "id": "19599864-49b5-4c12-86d6-1355f23baa3c",
   "metadata": {},
   "outputs": [
    {
     "data": {
      "text/plain": [
       "\n",
       "\tShapiro-Wilk normality test\n",
       "\n",
       "data:  spanMetrics$Duration\n",
       "W = 0.72547, p-value = 2.229e-05\n"
      ]
     },
     "metadata": {},
     "output_type": "display_data"
    }
   ],
   "source": [
    "shapiro.test(spanMetrics$Duration)"
   ]
  },
  {
   "cell_type": "markdown",
   "id": "9023ae90-92d6-450c-a975-a1bd86adf7f4",
   "metadata": {},
   "source": [
    "**REVIEW** p-value = 0.071 > 0.05; fail to reject the null hypothesis that the data is normally distributed."
   ]
  },
  {
   "cell_type": "markdown",
   "id": "fd5f328e-5548-4e45-a9b6-826f5f146b9b",
   "metadata": {},
   "source": [
    "## T-Test ##"
   ]
  },
  {
   "cell_type": "code",
   "execution_count": 12,
   "id": "7a3ddaf6-f15e-4f29-b446-dc911e381127",
   "metadata": {},
   "outputs": [
    {
     "data": {
      "text/plain": [
       "\n",
       "\tOne Sample t-test\n",
       "\n",
       "data:  x\n",
       "t = -7.3749, df = 23, p-value = 1\n",
       "alternative hypothesis: true mean is greater than 0.5\n",
       "95 percent confidence interval:\n",
       " 0.1015717       Inf\n",
       "sample estimates:\n",
       "mean of x \n",
       "0.1767037 \n"
      ]
     },
     "metadata": {},
     "output_type": "display_data"
    }
   ],
   "source": [
    "x = spanMetrics$Duration\n",
    "t.test(x=x, mu=0.5, alternative = 'greater')"
   ]
  },
  {
   "cell_type": "code",
   "execution_count": null,
   "id": "c3c2c8a7-4d81-4b80-ae21-c4567e87f089",
   "metadata": {},
   "outputs": [],
   "source": []
  }
 ],
 "metadata": {
  "kernelspec": {
   "display_name": "R",
   "language": "R",
   "name": "ir"
  },
  "language_info": {
   "codemirror_mode": "r",
   "file_extension": ".r",
   "mimetype": "text/x-r-source",
   "name": "R",
   "pygments_lexer": "r",
   "version": "4.1.2"
  }
 },
 "nbformat": 4,
 "nbformat_minor": 5
}
