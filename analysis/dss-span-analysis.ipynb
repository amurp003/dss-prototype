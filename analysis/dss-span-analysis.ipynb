{
 "cells": [
  {
   "cell_type": "markdown",
   "id": "8d529777-9c5d-4129-b33e-98722c66f0d2",
   "metadata": {},
   "source": [
    "## Decision Support System (DSS) Span Analysis ##\n",
    "\n",
    "https://github.com/jupyter/docker-stacks  \n",
    "https://hub.docker.com/r/jupyter/r-notebook/tags/  \n",
    "\n",
    "_(optional) docker pull jupyter/r-notebook:latest_  \n",
    "\n",
    "We want to make the DDS Prototype ~/analysis/ directory to the Juypter container. Use the following to mount the analysis directory (i.e. current working directory) as a volume in the Juypter container. Note that the directory needed to be added via the Docker Desktop Dashboard on Mac.\n",
    "\n",
    "_docker run -it --rm -d -p 10000:8888 -v ${PWD}:/home/jovyan/work --name notebook jupyter/r-notebook:latest_  \n",
    "\n",
    "To find the token from the container:  \n",
    "_docker exec -it notebook jupyter server list_\n",
    "\n",
    "Navigate to the container UI and enter the token:\n",
    "http://localhost:10000"
   ]
  },
  {
   "cell_type": "code",
   "execution_count": 1,
   "id": "5a467067-4f2a-4c53-b642-24ef116433a6",
   "metadata": {},
   "outputs": [
    {
     "name": "stderr",
     "output_type": "stream",
     "text": [
      "Updating HTML index of packages in '.Library'\n",
      "\n",
      "Making 'packages.html' ...\n",
      " done\n",
      "\n"
     ]
    }
   ],
   "source": [
    "install.packages(\"stringr\")                # Install stringr package in R\n",
    "library(\"stringr\")                         # Load stringr package"
   ]
  },
  {
   "cell_type": "code",
   "execution_count": 2,
   "id": "34346fcc-3f2b-42c8-b503-3349365c2006",
   "metadata": {},
   "outputs": [],
   "source": [
    "setwd('/home/jovyan/work/data')"
   ]
  },
  {
   "cell_type": "code",
   "execution_count": 3,
   "id": "415c2bc6-7a06-4e6b-9e58-350ab7c4dcdc",
   "metadata": {},
   "outputs": [],
   "source": [
    "options(warn=-1)\n",
    "spanData <- read.csv('DSS Span Data-data-2022-04-08 15_47_24.csv', header = TRUE)\n",
    "attach(spanData)"
   ]
  },
  {
   "cell_type": "markdown",
   "id": "1649d658-7b52-46ce-be4b-5b56201cfb82",
   "metadata": {},
   "source": [
    "# Exploratory Data Analysis #"
   ]
  },
  {
   "cell_type": "code",
   "execution_count": 4,
   "id": "7185c833-da1e-4437-86f7-54e904857ed3",
   "metadata": {},
   "outputs": [
    {
     "data": {
      "text/html": [
       "<table class=\"dataframe\">\n",
       "<caption>A data.frame: 6 × 4</caption>\n",
       "<thead>\n",
       "\t<tr><th></th><th scope=col>Trace.ID</th><th scope=col>Trace.name</th><th scope=col>Start.time</th><th scope=col>Duration</th></tr>\n",
       "\t<tr><th></th><th scope=col>&lt;chr&gt;</th><th scope=col>&lt;chr&gt;</th><th scope=col>&lt;chr&gt;</th><th scope=col>&lt;chr&gt;</th></tr>\n",
       "</thead>\n",
       "<tbody>\n",
       "\t<tr><th scope=row>1</th><td>d036dfc6fef1bd91b2e3ecd741f421af</td><td>dss-prototype: /tracks</td><td>2022-04-08 19:35:20.546</td><td>13.7 ms</td></tr>\n",
       "\t<tr><th scope=row>2</th><td>e59f4e0f2b3ad304bfaf3c2006318f42</td><td>dss-prototype: /tracks</td><td>2022-04-08 19:35:19.519</td><td>15.6 ms</td></tr>\n",
       "\t<tr><th scope=row>3</th><td>dfdab2d9498f4733bc0aeba343bcfa00</td><td>dss-prototype: /tracks</td><td>2022-04-08 19:35:18.477</td><td>28.0 ms</td></tr>\n",
       "\t<tr><th scope=row>4</th><td>3661c5545c07f352098efcfc9af5772e</td><td>dss-prototype: /tracks</td><td>2022-04-08 19:35:17.414</td><td>23.5 ms</td></tr>\n",
       "\t<tr><th scope=row>5</th><td>8209cdcbd0665dc95e3d3a4f71818af6</td><td>dss-prototype: /tracks</td><td>2022-04-08 19:35:16.366</td><td>29.8 ms</td></tr>\n",
       "\t<tr><th scope=row>6</th><td>479b8b28a4c033cbf1ce650364bc63c1</td><td>dss-prototype: /tracks</td><td>2022-04-08 19:35:15.343</td><td>11.2 ms</td></tr>\n",
       "</tbody>\n",
       "</table>\n"
      ],
      "text/latex": [
       "A data.frame: 6 × 4\n",
       "\\begin{tabular}{r|llll}\n",
       "  & Trace.ID & Trace.name & Start.time & Duration\\\\\n",
       "  & <chr> & <chr> & <chr> & <chr>\\\\\n",
       "\\hline\n",
       "\t1 & d036dfc6fef1bd91b2e3ecd741f421af & dss-prototype: /tracks & 2022-04-08 19:35:20.546 & 13.7 ms\\\\\n",
       "\t2 & e59f4e0f2b3ad304bfaf3c2006318f42 & dss-prototype: /tracks & 2022-04-08 19:35:19.519 & 15.6 ms\\\\\n",
       "\t3 & dfdab2d9498f4733bc0aeba343bcfa00 & dss-prototype: /tracks & 2022-04-08 19:35:18.477 & 28.0 ms\\\\\n",
       "\t4 & 3661c5545c07f352098efcfc9af5772e & dss-prototype: /tracks & 2022-04-08 19:35:17.414 & 23.5 ms\\\\\n",
       "\t5 & 8209cdcbd0665dc95e3d3a4f71818af6 & dss-prototype: /tracks & 2022-04-08 19:35:16.366 & 29.8 ms\\\\\n",
       "\t6 & 479b8b28a4c033cbf1ce650364bc63c1 & dss-prototype: /tracks & 2022-04-08 19:35:15.343 & 11.2 ms\\\\\n",
       "\\end{tabular}\n"
      ],
      "text/markdown": [
       "\n",
       "A data.frame: 6 × 4\n",
       "\n",
       "| <!--/--> | Trace.ID &lt;chr&gt; | Trace.name &lt;chr&gt; | Start.time &lt;chr&gt; | Duration &lt;chr&gt; |\n",
       "|---|---|---|---|---|\n",
       "| 1 | d036dfc6fef1bd91b2e3ecd741f421af | dss-prototype: /tracks | 2022-04-08 19:35:20.546 | 13.7 ms |\n",
       "| 2 | e59f4e0f2b3ad304bfaf3c2006318f42 | dss-prototype: /tracks | 2022-04-08 19:35:19.519 | 15.6 ms |\n",
       "| 3 | dfdab2d9498f4733bc0aeba343bcfa00 | dss-prototype: /tracks | 2022-04-08 19:35:18.477 | 28.0 ms |\n",
       "| 4 | 3661c5545c07f352098efcfc9af5772e | dss-prototype: /tracks | 2022-04-08 19:35:17.414 | 23.5 ms |\n",
       "| 5 | 8209cdcbd0665dc95e3d3a4f71818af6 | dss-prototype: /tracks | 2022-04-08 19:35:16.366 | 29.8 ms |\n",
       "| 6 | 479b8b28a4c033cbf1ce650364bc63c1 | dss-prototype: /tracks | 2022-04-08 19:35:15.343 | 11.2 ms |\n",
       "\n"
      ],
      "text/plain": [
       "  Trace.ID                         Trace.name            \n",
       "1 d036dfc6fef1bd91b2e3ecd741f421af dss-prototype: /tracks\n",
       "2 e59f4e0f2b3ad304bfaf3c2006318f42 dss-prototype: /tracks\n",
       "3 dfdab2d9498f4733bc0aeba343bcfa00 dss-prototype: /tracks\n",
       "4 3661c5545c07f352098efcfc9af5772e dss-prototype: /tracks\n",
       "5 8209cdcbd0665dc95e3d3a4f71818af6 dss-prototype: /tracks\n",
       "6 479b8b28a4c033cbf1ce650364bc63c1 dss-prototype: /tracks\n",
       "  Start.time              Duration\n",
       "1 2022-04-08 19:35:20.546 13.7 ms \n",
       "2 2022-04-08 19:35:19.519 15.6 ms \n",
       "3 2022-04-08 19:35:18.477 28.0 ms \n",
       "4 2022-04-08 19:35:17.414 23.5 ms \n",
       "5 2022-04-08 19:35:16.366 29.8 ms \n",
       "6 2022-04-08 19:35:15.343 11.2 ms "
      ]
     },
     "metadata": {},
     "output_type": "display_data"
    }
   ],
   "source": [
    "head(spanData)"
   ]
  },
  {
   "cell_type": "code",
   "execution_count": 5,
   "id": "e296ce1f-f449-4091-a473-bc34da58635f",
   "metadata": {},
   "outputs": [
    {
     "data": {
      "text/plain": [
       "   Trace.ID          Trace.name         Start.time          Duration        \n",
       " Length:100         Length:100         Length:100         Length:100        \n",
       " Class :character   Class :character   Class :character   Class :character  \n",
       " Mode  :character   Mode  :character   Mode  :character   Mode  :character  "
      ]
     },
     "metadata": {},
     "output_type": "display_data"
    }
   ],
   "source": [
    "summary(spanData)"
   ]
  },
  {
   "cell_type": "code",
   "execution_count": 6,
   "id": "e147f0cd-2736-4439-806f-801380a2a595",
   "metadata": {},
   "outputs": [
    {
     "data": {
      "text/html": [
       "<table class=\"dataframe\">\n",
       "<caption>A data.frame: 6 × 4</caption>\n",
       "<thead>\n",
       "\t<tr><th></th><th scope=col>Trace.ID</th><th scope=col>Trace.name</th><th scope=col>Start.time</th><th scope=col>Duration</th></tr>\n",
       "\t<tr><th></th><th scope=col>&lt;chr&gt;</th><th scope=col>&lt;chr&gt;</th><th scope=col>&lt;dbl&gt;</th><th scope=col>&lt;dbl&gt;</th></tr>\n",
       "</thead>\n",
       "<tbody>\n",
       "\t<tr><th scope=row>1</th><td>d036dfc6fef1bd91b2e3ecd741f421af</td><td>dss-prototype: /tracks</td><td>1649446520</td><td>0.0137</td></tr>\n",
       "\t<tr><th scope=row>2</th><td>e59f4e0f2b3ad304bfaf3c2006318f42</td><td>dss-prototype: /tracks</td><td>1649446519</td><td>0.0156</td></tr>\n",
       "\t<tr><th scope=row>3</th><td>dfdab2d9498f4733bc0aeba343bcfa00</td><td>dss-prototype: /tracks</td><td>1649446518</td><td>0.0280</td></tr>\n",
       "\t<tr><th scope=row>4</th><td>3661c5545c07f352098efcfc9af5772e</td><td>dss-prototype: /tracks</td><td>1649446517</td><td>0.0235</td></tr>\n",
       "\t<tr><th scope=row>5</th><td>8209cdcbd0665dc95e3d3a4f71818af6</td><td>dss-prototype: /tracks</td><td>1649446516</td><td>0.0298</td></tr>\n",
       "\t<tr><th scope=row>6</th><td>479b8b28a4c033cbf1ce650364bc63c1</td><td>dss-prototype: /tracks</td><td>1649446515</td><td>0.0112</td></tr>\n",
       "</tbody>\n",
       "</table>\n"
      ],
      "text/latex": [
       "A data.frame: 6 × 4\n",
       "\\begin{tabular}{r|llll}\n",
       "  & Trace.ID & Trace.name & Start.time & Duration\\\\\n",
       "  & <chr> & <chr> & <dbl> & <dbl>\\\\\n",
       "\\hline\n",
       "\t1 & d036dfc6fef1bd91b2e3ecd741f421af & dss-prototype: /tracks & 1649446520 & 0.0137\\\\\n",
       "\t2 & e59f4e0f2b3ad304bfaf3c2006318f42 & dss-prototype: /tracks & 1649446519 & 0.0156\\\\\n",
       "\t3 & dfdab2d9498f4733bc0aeba343bcfa00 & dss-prototype: /tracks & 1649446518 & 0.0280\\\\\n",
       "\t4 & 3661c5545c07f352098efcfc9af5772e & dss-prototype: /tracks & 1649446517 & 0.0235\\\\\n",
       "\t5 & 8209cdcbd0665dc95e3d3a4f71818af6 & dss-prototype: /tracks & 1649446516 & 0.0298\\\\\n",
       "\t6 & 479b8b28a4c033cbf1ce650364bc63c1 & dss-prototype: /tracks & 1649446515 & 0.0112\\\\\n",
       "\\end{tabular}\n"
      ],
      "text/markdown": [
       "\n",
       "A data.frame: 6 × 4\n",
       "\n",
       "| <!--/--> | Trace.ID &lt;chr&gt; | Trace.name &lt;chr&gt; | Start.time &lt;dbl&gt; | Duration &lt;dbl&gt; |\n",
       "|---|---|---|---|---|\n",
       "| 1 | d036dfc6fef1bd91b2e3ecd741f421af | dss-prototype: /tracks | 1649446520 | 0.0137 |\n",
       "| 2 | e59f4e0f2b3ad304bfaf3c2006318f42 | dss-prototype: /tracks | 1649446519 | 0.0156 |\n",
       "| 3 | dfdab2d9498f4733bc0aeba343bcfa00 | dss-prototype: /tracks | 1649446518 | 0.0280 |\n",
       "| 4 | 3661c5545c07f352098efcfc9af5772e | dss-prototype: /tracks | 1649446517 | 0.0235 |\n",
       "| 5 | 8209cdcbd0665dc95e3d3a4f71818af6 | dss-prototype: /tracks | 1649446516 | 0.0298 |\n",
       "| 6 | 479b8b28a4c033cbf1ce650364bc63c1 | dss-prototype: /tracks | 1649446515 | 0.0112 |\n",
       "\n"
      ],
      "text/plain": [
       "  Trace.ID                         Trace.name             Start.time Duration\n",
       "1 d036dfc6fef1bd91b2e3ecd741f421af dss-prototype: /tracks 1649446520 0.0137  \n",
       "2 e59f4e0f2b3ad304bfaf3c2006318f42 dss-prototype: /tracks 1649446519 0.0156  \n",
       "3 dfdab2d9498f4733bc0aeba343bcfa00 dss-prototype: /tracks 1649446518 0.0280  \n",
       "4 3661c5545c07f352098efcfc9af5772e dss-prototype: /tracks 1649446517 0.0235  \n",
       "5 8209cdcbd0665dc95e3d3a4f71818af6 dss-prototype: /tracks 1649446516 0.0298  \n",
       "6 479b8b28a4c033cbf1ce650364bc63c1 dss-prototype: /tracks 1649446515 0.0112  "
      ]
     },
     "metadata": {},
     "output_type": "display_data"
    },
    {
     "data": {
      "text/html": [
       "<table class=\"dataframe\">\n",
       "<caption>A data.frame: 6 × 4</caption>\n",
       "<thead>\n",
       "\t<tr><th></th><th scope=col>Trace.ID</th><th scope=col>Trace.name</th><th scope=col>Start.time</th><th scope=col>Duration</th></tr>\n",
       "\t<tr><th></th><th scope=col>&lt;chr&gt;</th><th scope=col>&lt;chr&gt;</th><th scope=col>&lt;dbl&gt;</th><th scope=col>&lt;dbl&gt;</th></tr>\n",
       "</thead>\n",
       "<tbody>\n",
       "\t<tr><th scope=row>95</th><td>294ee9dc4875561fee99dadef067be9b</td><td>dss-prototype: /RIC   </td><td>1649446414</td><td>0.3750</td></tr>\n",
       "\t<tr><th scope=row>96</th><td>5e9c6090e8998e7a5e4b18ca0ff0f1d1</td><td>dss-prototype: /tracks</td><td>1649446413</td><td>0.0135</td></tr>\n",
       "\t<tr><th scope=row>97</th><td>0a7ed38f92b97ad5687800c768e3f039</td><td>dss-prototype: /tracks</td><td>1649446412</td><td>0.0136</td></tr>\n",
       "\t<tr><th scope=row>98</th><td>5b0ec8951447c56678d66475f5a98205</td><td>dss-prototype: /tracks</td><td>1649446411</td><td>0.0196</td></tr>\n",
       "\t<tr><th scope=row>99</th><td>74f6017636090bfec52e74ab46a13ed2</td><td>dss-prototype: /tracks</td><td>1649446410</td><td>0.0191</td></tr>\n",
       "\t<tr><th scope=row>100</th><td>e1bc41ad1aa94c7c80d49a612f185229</td><td>dss-prototype: /tracks</td><td>1649446409</td><td>0.0270</td></tr>\n",
       "</tbody>\n",
       "</table>\n"
      ],
      "text/latex": [
       "A data.frame: 6 × 4\n",
       "\\begin{tabular}{r|llll}\n",
       "  & Trace.ID & Trace.name & Start.time & Duration\\\\\n",
       "  & <chr> & <chr> & <dbl> & <dbl>\\\\\n",
       "\\hline\n",
       "\t95 & 294ee9dc4875561fee99dadef067be9b & dss-prototype: /RIC    & 1649446414 & 0.3750\\\\\n",
       "\t96 & 5e9c6090e8998e7a5e4b18ca0ff0f1d1 & dss-prototype: /tracks & 1649446413 & 0.0135\\\\\n",
       "\t97 & 0a7ed38f92b97ad5687800c768e3f039 & dss-prototype: /tracks & 1649446412 & 0.0136\\\\\n",
       "\t98 & 5b0ec8951447c56678d66475f5a98205 & dss-prototype: /tracks & 1649446411 & 0.0196\\\\\n",
       "\t99 & 74f6017636090bfec52e74ab46a13ed2 & dss-prototype: /tracks & 1649446410 & 0.0191\\\\\n",
       "\t100 & e1bc41ad1aa94c7c80d49a612f185229 & dss-prototype: /tracks & 1649446409 & 0.0270\\\\\n",
       "\\end{tabular}\n"
      ],
      "text/markdown": [
       "\n",
       "A data.frame: 6 × 4\n",
       "\n",
       "| <!--/--> | Trace.ID &lt;chr&gt; | Trace.name &lt;chr&gt; | Start.time &lt;dbl&gt; | Duration &lt;dbl&gt; |\n",
       "|---|---|---|---|---|\n",
       "| 95 | 294ee9dc4875561fee99dadef067be9b | dss-prototype: /RIC    | 1649446414 | 0.3750 |\n",
       "| 96 | 5e9c6090e8998e7a5e4b18ca0ff0f1d1 | dss-prototype: /tracks | 1649446413 | 0.0135 |\n",
       "| 97 | 0a7ed38f92b97ad5687800c768e3f039 | dss-prototype: /tracks | 1649446412 | 0.0136 |\n",
       "| 98 | 5b0ec8951447c56678d66475f5a98205 | dss-prototype: /tracks | 1649446411 | 0.0196 |\n",
       "| 99 | 74f6017636090bfec52e74ab46a13ed2 | dss-prototype: /tracks | 1649446410 | 0.0191 |\n",
       "| 100 | e1bc41ad1aa94c7c80d49a612f185229 | dss-prototype: /tracks | 1649446409 | 0.0270 |\n",
       "\n"
      ],
      "text/plain": [
       "    Trace.ID                         Trace.name             Start.time Duration\n",
       "95  294ee9dc4875561fee99dadef067be9b dss-prototype: /RIC    1649446414 0.3750  \n",
       "96  5e9c6090e8998e7a5e4b18ca0ff0f1d1 dss-prototype: /tracks 1649446413 0.0135  \n",
       "97  0a7ed38f92b97ad5687800c768e3f039 dss-prototype: /tracks 1649446412 0.0136  \n",
       "98  5b0ec8951447c56678d66475f5a98205 dss-prototype: /tracks 1649446411 0.0196  \n",
       "99  74f6017636090bfec52e74ab46a13ed2 dss-prototype: /tracks 1649446410 0.0191  \n",
       "100 e1bc41ad1aa94c7c80d49a612f185229 dss-prototype: /tracks 1649446409 0.0270  "
      ]
     },
     "metadata": {},
     "output_type": "display_data"
    },
    {
     "data": {
      "text/plain": [
       "   Trace.ID          Trace.name          Start.time           Duration      \n",
       " Length:100         Length:100         Min.   :1.649e+09   Min.   :0.01050  \n",
       " Class :character   Class :character   1st Qu.:1.649e+09   1st Qu.:0.01550  \n",
       " Mode  :character   Mode  :character   Median :1.649e+09   Median :0.02155  \n",
       "                                       Mean   :1.649e+09   Mean   :0.09738  \n",
       "                                       3rd Qu.:1.649e+09   3rd Qu.:0.04088  \n",
       "                                       Max.   :1.649e+09   Max.   :0.81200  "
      ]
     },
     "metadata": {},
     "output_type": "display_data"
    }
   ],
   "source": [
    "# Convert character data into numeric metrics\n",
    "\n",
    "spanMetrics <- spanData\n",
    "\n",
    "for(i in 1:nrow(spanMetrics)) {       # for-loop over rows\n",
    "    \n",
    "    # Convert span duration\n",
    "    \n",
    "    char = spanMetrics[i,4]\n",
    "    len = str_length(char)\n",
    "    duration = str_sub(char,1,(len-3))\n",
    "    units = str_sub(char,(len-2),len)\n",
    "    duration = as.numeric(duration)\n",
    "\n",
    "    if(units == ' ms') {\n",
    "        duration = duration / 1000              # Convert to ms\n",
    "    } else if (units == ' µs') {\n",
    "        duration = duration / 1000000           # Convert to µs\n",
    "    } else {\n",
    "        print ('Unable to find specified units')\n",
    "    }\n",
    "    spanMetrics[i,4] = duration\n",
    "    \n",
    "    # Convert time\n",
    "\n",
    "    time = spanMetrics[i,3]\n",
    "    epoch <- as.POSIXct(time)\n",
    "    epoch_int <- as.integer(epoch)\n",
    "    spanMetrics[i,3] = epoch_int\n",
    "}\n",
    "\n",
    "# Convert columns for char to numeric\n",
    "\n",
    "spanMetrics$Duration = as.numeric(spanMetrics$Duration)\n",
    "spanMetrics$Start.time = as.numeric(spanMetrics$Start.time)\n",
    "\n",
    "head(spanMetrics)\n",
    "tail(spanMetrics)\n",
    "summary(spanMetrics)"
   ]
  },
  {
   "cell_type": "markdown",
   "id": "0db55c77-6ae0-4242-84b0-af815cde095a",
   "metadata": {},
   "source": [
    "## Search for outliers"
   ]
  },
  {
   "cell_type": "code",
   "execution_count": 7,
   "id": "d44d8ade-adaf-4c9f-b95a-39aafabf55a6",
   "metadata": {},
   "outputs": [
    {
     "data": {
      "image/png": "[encoded data removed]",
      "text/plain": [
       "plot without title"
      ]
     },
     "metadata": {
      "image/png": {
       "height": 420,
       "width": 420
      }
     },
     "output_type": "display_data"
    }
   ],
   "source": [
    "boxplot(spanMetrics$Duration~spanMetrics$Trace.name)"
   ]
  },
  {
   "cell_type": "code",
   "execution_count": 8,
   "id": "0125d00f-6db5-42a6-a039-5e7dc3760ce6",
   "metadata": {},
   "outputs": [
    {
     "data": {
      "text/html": [
       "<style>\n",
       ".list-inline {list-style: none; margin:0; padding: 0}\n",
       ".list-inline>li {display: inline-block}\n",
       ".list-inline>li:not(:last-child)::after {content: \"\\00b7\"; padding: 0 .5ex}\n",
       "</style>\n",
       "<ol class=list-inline><li>0.422</li><li>0.387</li><li>0.658</li><li>0.377</li><li>0.453</li><li>0.412</li><li>0.408</li><li>0.466</li><li>0.47</li><li>0.43</li><li>0.483</li><li>0.812</li><li>0.393</li><li>0.536</li><li>0.609</li><li>0.375</li></ol>\n"
      ],
      "text/latex": [
       "\\begin{enumerate*}\n",
       "\\item 0.422\n",
       "\\item 0.387\n",
       "\\item 0.658\n",
       "\\item 0.377\n",
       "\\item 0.453\n",
       "\\item 0.412\n",
       "\\item 0.408\n",
       "\\item 0.466\n",
       "\\item 0.47\n",
       "\\item 0.43\n",
       "\\item 0.483\n",
       "\\item 0.812\n",
       "\\item 0.393\n",
       "\\item 0.536\n",
       "\\item 0.609\n",
       "\\item 0.375\n",
       "\\end{enumerate*}\n"
      ],
      "text/markdown": [
       "1. 0.422\n",
       "2. 0.387\n",
       "3. 0.658\n",
       "4. 0.377\n",
       "5. 0.453\n",
       "6. 0.412\n",
       "7. 0.408\n",
       "8. 0.466\n",
       "9. 0.47\n",
       "10. 0.43\n",
       "11. 0.483\n",
       "12. 0.812\n",
       "13. 0.393\n",
       "14. 0.536\n",
       "15. 0.609\n",
       "16. 0.375\n",
       "\n",
       "\n"
      ],
      "text/plain": [
       " [1] 0.422 0.387 0.658 0.377 0.453 0.412 0.408 0.466 0.470 0.430 0.483 0.812\n",
       "[13] 0.393 0.536 0.609 0.375"
      ]
     },
     "metadata": {},
     "output_type": "display_data"
    }
   ],
   "source": [
    "## Use this to get the values of the statistical outliers in trk_update_data from R\n",
    "outliers <- boxplot(spanMetrics$Duration, plot = FALSE)$out\n",
    "outliers\n",
    "# spanMetrics$Duration[which(spanMetrics$Duration %in% outliers),]"
   ]
  },
  {
   "cell_type": "code",
   "execution_count": 9,
   "id": "48d5e70a-afc4-4219-bded-f119a0bfc6a8",
   "metadata": {},
   "outputs": [
    {
     "data": {
      "image/png": "[encoded data removed]",
      "text/plain": [
       "Plot with title “Histogram of spanMetrics$Duration”"
      ]
     },
     "metadata": {
      "image/png": {
       "height": 420,
       "width": 420
      }
     },
     "output_type": "display_data"
    }
   ],
   "source": [
    "# par(mfrow=c(2,2))\n",
    "\n",
    "hist(spanMetrics$Duration)"
   ]
  },
  {
   "cell_type": "code",
   "execution_count": 10,
   "id": "efc6629c-3f55-4cf0-b04e-0a525b72ba5e",
   "metadata": {},
   "outputs": [],
   "source": [
    "# plot(Duration~factor(Trace.name))"
   ]
  },
  {
   "cell_type": "markdown",
   "id": "3d20ff80-c77a-46c7-a5dd-f8c4a86d64d3",
   "metadata": {},
   "source": [
    "## Q-Q Plot\n",
    "\n",
    "The Q-Q plot, or quantile-quantile plot, is a graphical tool to help us assess if a set of data plausibly came from some theoretical distribution such as a normal or exponential. A Q-Q plot is a scatterplot created by plotting two sets of quantiles against one another. If both sets of quantiles came from the same distribution, we should see the points forming a line that’s roughly straight."
   ]
  },
  {
   "cell_type": "code",
   "execution_count": 11,
   "id": "9d2a9f17-192b-4caa-a056-ec92919909c0",
   "metadata": {},
   "outputs": [
    {
     "data": {
      "image/png": "[encoded data removed]",
      "text/plain": [
       "Plot with title “Span Duration Q-Q Norm Plot”"
      ]
     },
     "metadata": {
      "image/png": {
       "height": 420,
       "width": 420
      }
     },
     "output_type": "display_data"
    }
   ],
   "source": [
    "qqnorm(spanMetrics$Duration,main=\"Span Duration Q-Q Norm Plot\")\n",
    "qqline(spanMetrics$Duration)"
   ]
  },
  {
   "cell_type": "markdown",
   "id": "e359f33d-468f-4404-96cc-788056dd15bb",
   "metadata": {},
   "source": [
    "## Autocorrelation ##\n",
    "\n",
    "Autocorrelation plots are a commonly-used tool for checking randomness in a data set. This randomness is ascertained by computing autocorrelations for data values at varying time lags. If random, such autocorrelations should be near zero for any and all time-lag separations. If non-random, then one or more of the autocorrelations will be significantly non-zero."
   ]
  },
  {
   "cell_type": "code",
   "execution_count": 12,
   "id": "24c6f7f8-10b9-4e5a-a99b-08d765312ff4",
   "metadata": {},
   "outputs": [
    {
     "data": {
      "image/png": "[encoded data removed]",
      "text/plain": [
       "Plot with title “ACF of Duration”"
      ]
     },
     "metadata": {
      "image/png": {
       "height": 420,
       "width": 420
      }
     },
     "output_type": "display_data"
    }
   ],
   "source": [
    "acf(spanMetrics$Duration, main=\"ACF of Duration\")"
   ]
  },
  {
   "cell_type": "markdown",
   "id": "bf4fa3af-53f9-4b68-9c26-977e1bd4ab1b",
   "metadata": {},
   "source": [
    "# Hypothesis Testing # \n",
    "\n",
    "Modern DevSecOps architectures can be designed to meet hard-real-time latency (μ) requirements using modern computing environments and computing infrastructure:\n",
    "\n",
    "H0: μ ≤ tbd ms with jitter within latency bounds  \n",
    "Ha: μ > tbd ms with jitter exceeding latency bounds  \n",
    "∝ = 0.05\n",
    "\n",
    "We will use 500 ms; i.e. tbd will be set to 0.5.\n",
    "\n"
   ]
  },
  {
   "cell_type": "markdown",
   "id": "1408b47f-ad82-4ffd-9986-60d1961889e9",
   "metadata": {},
   "source": [
    "## Shapiro test to establish normality\n",
    "\n",
    "Null hypothesis: the data are normally distributed  \n",
    "Alternative hypothesis: the data are not normally distributed"
   ]
  },
  {
   "cell_type": "code",
   "execution_count": 13,
   "id": "19599864-49b5-4c12-86d6-1355f23baa3c",
   "metadata": {},
   "outputs": [
    {
     "data": {
      "text/plain": [
       "\n",
       "\tShapiro-Wilk normality test\n",
       "\n",
       "data:  spanMetrics$Duration\n",
       "W = 0.53184, p-value = 2.587e-16\n"
      ]
     },
     "metadata": {},
     "output_type": "display_data"
    }
   ],
   "source": [
    "shapiro.test(spanMetrics$Duration)"
   ]
  },
  {
   "cell_type": "markdown",
   "id": "9023ae90-92d6-450c-a975-a1bd86adf7f4",
   "metadata": {},
   "source": [
    "**REVIEW** p-value = 0.071 > 0.05; fail to reject the null hypothesis that the data is normally distributed."
   ]
  },
  {
   "cell_type": "markdown",
   "id": "fd5f328e-5548-4e45-a9b6-826f5f146b9b",
   "metadata": {},
   "source": [
    "## T-Test ##"
   ]
  },
  {
   "cell_type": "code",
   "execution_count": 14,
   "id": "7a3ddaf6-f15e-4f29-b446-dc911e381127",
   "metadata": {},
   "outputs": [
    {
     "data": {
      "text/plain": [
       "\n",
       "\tOne Sample t-test\n",
       "\n",
       "data:  x\n",
       "t = -22.992, df = 99, p-value = 1\n",
       "alternative hypothesis: true mean is greater than 0.5\n",
       "95 percent confidence interval:\n",
       " 0.06830602        Inf\n",
       "sample estimates:\n",
       "mean of x \n",
       " 0.097381 \n"
      ]
     },
     "metadata": {},
     "output_type": "display_data"
    }
   ],
   "source": [
    "x = spanMetrics$Duration\n",
    "t.test(x=x, mu=0.5, alternative = 'greater')"
   ]
  },
  {
   "cell_type": "code",
   "execution_count": null,
   "id": "c3c2c8a7-4d81-4b80-ae21-c4567e87f089",
   "metadata": {},
   "outputs": [],
   "source": []
  }
 ],
 "metadata": {
  "kernelspec": {
   "display_name": "R",
   "language": "R",
   "name": "ir"
  },
  "language_info": {
   "codemirror_mode": "r",
   "file_extension": ".r",
   "mimetype": "text/x-r-source",
   "name": "R",
   "pygments_lexer": "r",
   "version": "4.1.3"
  }
 },
 "nbformat": 4,
 "nbformat_minor": 5
}
