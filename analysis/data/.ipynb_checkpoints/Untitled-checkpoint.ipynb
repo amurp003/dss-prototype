{
 "cells": [
  {
   "cell_type": "markdown",
   "id": "dcac3931-e986-4b64-9566-5ce92b87a7c6",
   "metadata": {},
   "source": [
    "## Decision Support System (DSS) Span Analysis ##\n",
    "\n",
    "https://github.com/jupyter/docker-stacks  \n",
    "https://hub.docker.com/r/jupyter/r-notebook/tags/  \n",
    "\n",
    "_(optional) docker pull jupyter/r-notebook:latest_  \n",
    "_docker run -it --rm -d -p 10000:8888 -v $HOME/data:/home/jovyan/work --name notebook jupyter/r-notebook:latest_  \n",
    "\n",
    "To find the token from the container:  \n",
    "_docker exec -it notebook jupyter server list_\n"
   ]
  },
  {
   "cell_type": "code",
   "execution_count": null,
   "id": "377ee5a4-b48f-4d36-a7ac-de8e7d476d0a",
   "metadata": {},
   "outputs": [],
   "source": []
  }
 ],
 "metadata": {
  "kernelspec": {
   "display_name": "R",
   "language": "R",
   "name": "ir"
  },
  "language_info": {
   "codemirror_mode": "r",
   "file_extension": ".r",
   "mimetype": "text/x-r-source",
   "name": "R",
   "pygments_lexer": "r",
   "version": "4.1.2"
  }
 },
 "nbformat": 4,
 "nbformat_minor": 5
}
