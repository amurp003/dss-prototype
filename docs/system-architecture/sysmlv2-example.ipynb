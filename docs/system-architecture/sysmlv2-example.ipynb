{
 "cells": [
  {
   "cell_type": "markdown",
   "id": "77c7d7d3",
   "metadata": {},
   "source": [
    "# SysML v2 Sample Model\n",
    "\n",
    "This model was build from a SysML training demo to learn how to develop the various diagrams. The video can be found here:\n",
    "\n",
    "https://youtu.be/vj5BOy5G8ho"
   ]
  },
  {
   "cell_type": "code",
   "execution_count": 43,
   "id": "e2c099c6",
   "metadata": {},
   "outputs": [
    {
     "data": {
      "text/plain": [
       "Package Package Example (45c7a64e-e01f-4719-bc30-1959fb0fe44b)\n"
      ]
     },
     "execution_count": 43,
     "metadata": {},
     "output_type": "execute_result"
    }
   ],
   "source": [
    "package 'Package Example' {\n",
    "    import ISQ::*;\n",
    "    import ScalarValues::*;\n",
    "    // import Definitions::*; \n",
    "    // import AttributeDefinitions::*;\n",
    "    \n",
    "    part def Automobile;\n",
    "    \n",
    "    alias Car for Automobile;\n",
    "    alias Torque for ISQ::TorqueValue;\n",
    "}"
   ]
  },
  {
   "cell_type": "code",
   "execution_count": 44,
   "id": "db938788",
   "metadata": {},
   "outputs": [
    {
     "data": {
      "text/plain": [
       "PartDefinition Engine (be0612f9-8cee-420b-8798-790077607157)\n",
       "PartDefinition Person (040bd9d5-6fe8-4078-a75f-4f2f4bc7c39e)\n",
       "PartDefinition Speedometer (705c4ecb-c74f-4196-8fd9-1f1b1e5431fb)\n",
       "PartDefinition Software (eebf3cc8-2b1e-4ac6-b896-cebba7842e4d)\n",
       "PartDefinition CruiseController (57bb02f6-f674-4784-aa42-e166ccc9525c)\n",
       "PartDefinition Vehicle (b2e2e8a4-254e-4a65-930d-e1975b9d51cc)\n",
       "AttributeDefinition VehicleStatus (77125120-33c4-497f-b4f2-d7a3c2722e6e)\n"
      ]
     },
     "execution_count": 44,
     "metadata": {},
     "output_type": "execute_result"
    }
   ],
   "source": [
    "part def Engine;\n",
    "part def Person;\n",
    "part def Speedometer;\n",
    "abstract part def Software;\n",
    "part def CruiseController:>Software;  // :>Software is a classifier\n",
    "\n",
    "part def Vehicle {\n",
    "    attribute mass : ScalarValues::Real;\n",
    "    \n",
    "    part speedometer : Speedometer {\n",
    "        event occurrence sensedSpeedSent;\n",
    "    }\n",
    "    \n",
    "    part engine : Engine {\n",
    "    event occurrence fuelCommandReceived;\n",
    "    }\n",
    "    \n",
    "    part cruiseController : CruiseController {\n",
    "        event occurrence setSpeedReceived;\n",
    "        then event occurrence sensedSpeedReceived;\n",
    "        then event occurrence fuelCommandSent;\n",
    "    }\n",
    "    \n",
    "    ref part driver : Person;\n",
    "}\n",
    "\n",
    "attribute def VehicleStatus {\n",
    "    import ScalarValues::*;\n",
    "    \n",
    "    attribute gearSetting : Integer;\n",
    "    attribute acceleratorPosition : Real;\n",
    "}\n"
   ]
  },
  {
   "cell_type": "code",
   "execution_count": 45,
   "id": "9522a266",
   "metadata": {},
   "outputs": [
    {
     "data": {
      "text/plain": [
       "PartUsage driver (8b59bd96-8fbd-4147-b110-8cad558af3f8)\n",
       "PartUsage vehicle (e3d9d117-98a1-41c6-8ea5-48e86894c380)\n"
      ]
     },
     "execution_count": 45,
     "metadata": {},
     "output_type": "execute_result"
    }
   ],
   "source": [
    "// Define PartUsage\n",
    "part driver : Person {\n",
    "    event occurrence setSpeedSent;\n",
    "}\n",
    "\n",
    "part vehicle : Vehicle;"
   ]
  },
  {
   "cell_type": "code",
   "execution_count": 46,
   "id": "3f406105",
   "metadata": {},
   "outputs": [
    {
     "data": {
      "text/plain": [
       "AttributeDefinition SetSpeed (734da9f9-bb7d-4226-99f3-963bbcda57c4)\n",
       "AttributeDefinition SensedSpeed (1df86373-e2bc-40a4-a71e-78c71875a479)\n",
       "AttributeDefinition FuelCommand (2b2ca086-44cc-4392-9013-404218ce02b7)\n"
      ]
     },
     "execution_count": 46,
     "metadata": {},
     "output_type": "execute_result"
    }
   ],
   "source": [
    "// Revisit these from the VehicleModel\n",
    "\n",
    "attribute def SetSpeed;\n",
    "attribute def SensedSpeed;\n",
    "attribute def FuelCommand;"
   ]
  },
  {
   "cell_type": "code",
   "execution_count": 47,
   "id": "c1378d00",
   "metadata": {},
   "outputs": [
    {
     "data": {
      "text/plain": [
       "OccurrenceDefinition CruiseControlInteraction (b8eccf36-72d0-484f-a47d-b1e0b65e65bd)\n"
      ]
     },
     "execution_count": 47,
     "metadata": {},
     "output_type": "execute_result"
    }
   ],
   "source": [
    "occurrence def CruiseControlInteraction {\n",
    "//    ref part :>> driver;\n",
    "//    ref part :>> vehicle;\n",
    "    \n",
    "    message setSpeedMessage of SetSpeed\n",
    "        from driver.setSpeedSent\n",
    "        to vehicle.cruiseController.setSpeedReceived;\n",
    "    \n",
    "    message sensedSpeedMessage of SensedSpeed\n",
    "        from vehicle.speedometer.sensedSpeedSent\n",
    "        to vehicle.cruiseController.sensedSpeedReceived;\n",
    "    \n",
    "    message fuelCommandMessage of FuelCommand\n",
    "        from vehicle.cruiseController.fuelCommandSent\n",
    "        to vehicle.engine.fuelCommandReceived;\n",
    "    \n",
    "//    first setSpeedMessage then sensedSpeedMessage;\n",
    "// The line above created duplicate signals\n",
    "}"
   ]
  },
  {
   "cell_type": "code",
   "execution_count": 48,
   "id": "75e5b420",
   "metadata": {},
   "outputs": [
    {
     "data": {
      "image/svg+xml": "<?xml version=\"1.0\" encoding=\"UTF-8\" standalone=\"no\"?><svg xmlns=\"http://www.w3.org/2000/svg\" xmlns:xlink=\"http://www.w3.org/1999/xlink\" contentScriptType=\"application/ecmascript\" contentStyleType=\"text/css\" height=\"191px\" preserveAspectRatio=\"none\" style=\"width:487px;height:191px;\" version=\"1.1\" viewBox=\"0 0 487 191\" width=\"487px\" zoomAndPan=\"magnify\"><defs/><g><rect fill=\"#FFFFFF\" height=\"169.2188\" rx=\"10\" ry=\"10\" style=\"stroke: #383838; stroke-width: 1.0;\" width=\"452\" x=\"24\" y=\"4\"/><text fill=\"#000000\" font-family=\"sans-serif\" font-size=\"13\" font-weight=\"bold\" lengthAdjust=\"spacingAndGlyphs\" textLength=\"165\" x=\"167.5\" y=\"16.5684\">CruiseControlInteraction</text><line style=\"stroke: #383838; stroke-width: 1.0; stroke-dasharray: 5.0,5.0;\" x1=\"56\" x2=\"56\" y1=\"71.2871\" y2=\"179.2188\"/><line style=\"stroke: #383838; stroke-width: 1.0; stroke-dasharray: 5.0,5.0;\" x1=\"189.5\" x2=\"189.5\" y1=\"71.2871\" y2=\"179.2188\"/><line style=\"stroke: #383838; stroke-width: 1.0; stroke-dasharray: 5.0,5.0;\" x1=\"349\" x2=\"349\" y1=\"71.2871\" y2=\"179.2188\"/><line style=\"stroke: #383838; stroke-width: 1.0; stroke-dasharray: 5.0,5.0;\" x1=\"441\" x2=\"441\" y1=\"71.2871\" y2=\"179.2188\"/><a href=\"psysml:aac87b10-53b1-4f4f-92ae-b3a5a46a7fa3\" target=\"_top\" title=\"psysml:aac87b10-53b1-4f4f-92ae-b3a5a46a7fa3\" xlink:actuate=\"onRequest\" xlink:href=\"psysml:aac87b10-53b1-4f4f-92ae-b3a5a46a7fa3\" xlink:show=\"new\" xlink:title=\"psysml:aac87b10-53b1-4f4f-92ae-b3a5a46a7fa3\" xlink:type=\"simple\"><rect fill=\"#F8F8F8\" height=\"46.9766\" rx=\"10\" ry=\"10\" style=\"stroke: #383838; stroke-width: 1.5;\" width=\"56\" x=\"28\" y=\"23.3105\"/><text fill=\"#000000\" font-family=\"sans-serif\" font-size=\"14\" font-style=\"italic\" lengthAdjust=\"spacingAndGlyphs\" textLength=\"42\" x=\"35\" y=\"43.8457\">«part»</text><text fill=\"#000000\" font-family=\"sans-serif\" font-size=\"14\" lengthAdjust=\"spacingAndGlyphs\" textLength=\"40\" x=\"36\" y=\"60.334\">driver</text></a><a href=\"psysml:b6a83c07-a999-4da2-b85c-4d8327a36e7d\" target=\"_top\" title=\"psysml:b6a83c07-a999-4da2-b85c-4d8327a36e7d\" xlink:actuate=\"onRequest\" xlink:href=\"psysml:b6a83c07-a999-4da2-b85c-4d8327a36e7d\" xlink:show=\"new\" xlink:title=\"psysml:b6a83c07-a999-4da2-b85c-4d8327a36e7d\" xlink:type=\"simple\"><rect fill=\"#F8F8F8\" height=\"46.9766\" rx=\"10\" ry=\"10\" style=\"stroke: #383838; stroke-width: 1.5;\" width=\"125\" x=\"127.5\" y=\"23.3105\"/><text fill=\"#000000\" font-family=\"sans-serif\" font-size=\"14\" font-style=\"italic\" lengthAdjust=\"spacingAndGlyphs\" textLength=\"42\" x=\"169\" y=\"43.8457\">«part»</text><text fill=\"#000000\" font-family=\"sans-serif\" font-size=\"14\" lengthAdjust=\"spacingAndGlyphs\" textLength=\"111\" x=\"134.5\" y=\"60.334\">cruiseController</text></a><a href=\"psysml:87700d8a-942f-4907-8901-377a63e60ce1\" target=\"_top\" title=\"psysml:87700d8a-942f-4907-8901-377a63e60ce1\" xlink:actuate=\"onRequest\" xlink:href=\"psysml:87700d8a-942f-4907-8901-377a63e60ce1\" xlink:show=\"new\" xlink:title=\"psysml:87700d8a-942f-4907-8901-377a63e60ce1\" xlink:type=\"simple\"><rect fill=\"#F8F8F8\" height=\"46.9766\" rx=\"10\" ry=\"10\" style=\"stroke: #383838; stroke-width: 1.5;\" width=\"104\" x=\"297\" y=\"23.3105\"/><text fill=\"#000000\" font-family=\"sans-serif\" font-size=\"14\" font-style=\"italic\" lengthAdjust=\"spacingAndGlyphs\" textLength=\"42\" x=\"328\" y=\"43.8457\">«part»</text><text fill=\"#000000\" font-family=\"sans-serif\" font-size=\"14\" lengthAdjust=\"spacingAndGlyphs\" textLength=\"90\" x=\"304\" y=\"60.334\">speedometer</text></a><a href=\"psysml:34b95f81-d311-4fd2-a9bc-3ad9b6c68e19\" target=\"_top\" title=\"psysml:34b95f81-d311-4fd2-a9bc-3ad9b6c68e19\" xlink:actuate=\"onRequest\" xlink:href=\"psysml:34b95f81-d311-4fd2-a9bc-3ad9b6c68e19\" xlink:show=\"new\" xlink:title=\"psysml:34b95f81-d311-4fd2-a9bc-3ad9b6c68e19\" xlink:type=\"simple\"><rect fill=\"#F8F8F8\" height=\"46.9766\" rx=\"10\" ry=\"10\" style=\"stroke: #383838; stroke-width: 1.5;\" width=\"61\" x=\"411\" y=\"23.3105\"/><text fill=\"#000000\" font-family=\"sans-serif\" font-size=\"14\" font-style=\"italic\" lengthAdjust=\"spacingAndGlyphs\" textLength=\"42\" x=\"420.5\" y=\"43.8457\">«part»</text><text fill=\"#000000\" font-family=\"sans-serif\" font-size=\"14\" lengthAdjust=\"spacingAndGlyphs\" textLength=\"47\" x=\"418\" y=\"60.334\">engine</text></a><a href=\"psysml:dfda9ebf-0824-4672-8339-6376ce358a1e\" target=\"_top\" title=\"psysml:dfda9ebf-0824-4672-8339-6376ce358a1e\" xlink:actuate=\"onRequest\" xlink:href=\"psysml:dfda9ebf-0824-4672-8339-6376ce358a1e\" xlink:show=\"new\" xlink:title=\"psysml:dfda9ebf-0824-4672-8339-6376ce358a1e\" xlink:type=\"simple\"><line style=\"stroke: #383838; stroke-width: 1.0;\" x1=\"188\" x2=\"178\" y1=\"102.5977\" y2=\"98.5977\"/><line style=\"stroke: #383838; stroke-width: 1.0;\" x1=\"188\" x2=\"178\" y1=\"102.5977\" y2=\"106.5977\"/><line style=\"stroke: #383838; stroke-width: 1.0;\" x1=\"56\" x2=\"189\" y1=\"102.5977\" y2=\"102.5977\"/><text fill=\"#000000\" font-family=\"sans-serif\" font-size=\"13\" lengthAdjust=\"spacingAndGlyphs\" textLength=\"110\" x=\"63\" y=\"97.8555\">setSpeedMessage</text></a><a href=\"psysml:2227d01d-e1e6-4b7a-b58a-b566d8ab1f7a\" target=\"_top\" title=\"psysml:2227d01d-e1e6-4b7a-b58a-b566d8ab1f7a\" xlink:actuate=\"onRequest\" xlink:href=\"psysml:2227d01d-e1e6-4b7a-b58a-b566d8ab1f7a\" xlink:show=\"new\" xlink:title=\"psysml:2227d01d-e1e6-4b7a-b58a-b566d8ab1f7a\" xlink:type=\"simple\"><line style=\"stroke: #383838; stroke-width: 1.0;\" x1=\"190\" x2=\"200\" y1=\"131.9082\" y2=\"127.9082\"/><line style=\"stroke: #383838; stroke-width: 1.0;\" x1=\"190\" x2=\"200\" y1=\"131.9082\" y2=\"135.9082\"/><line style=\"stroke: #383838; stroke-width: 1.0;\" x1=\"190\" x2=\"348\" y1=\"131.9082\" y2=\"131.9082\"/><text fill=\"#000000\" font-family=\"sans-serif\" font-size=\"13\" lengthAdjust=\"spacingAndGlyphs\" textLength=\"135\" x=\"207\" y=\"127.166\">sensedSpeedMessage</text></a><a href=\"psysml:1b486e0e-6d9f-4c5c-896e-43e63f0fa24d\" target=\"_top\" title=\"psysml:1b486e0e-6d9f-4c5c-896e-43e63f0fa24d\" xlink:actuate=\"onRequest\" xlink:href=\"psysml:1b486e0e-6d9f-4c5c-896e-43e63f0fa24d\" xlink:show=\"new\" xlink:title=\"psysml:1b486e0e-6d9f-4c5c-896e-43e63f0fa24d\" xlink:type=\"simple\"><line style=\"stroke: #383838; stroke-width: 1.0;\" x1=\"439.5\" x2=\"429.5\" y1=\"161.2188\" y2=\"157.2188\"/><line style=\"stroke: #383838; stroke-width: 1.0;\" x1=\"439.5\" x2=\"429.5\" y1=\"161.2188\" y2=\"165.2188\"/><line style=\"stroke: #383838; stroke-width: 1.0;\" x1=\"190\" x2=\"440.5\" y1=\"161.2188\" y2=\"161.2188\"/><text fill=\"#000000\" font-family=\"sans-serif\" font-size=\"13\" lengthAdjust=\"spacingAndGlyphs\" textLength=\"142\" x=\"197\" y=\"156.4766\">fuelCommandMessage</text></a><!--MD5=[f2928c858f9ac621b3e00706655c3c64]\n@startuml\r\nskinparam roundcorner 20\r\nskinparam BoxPadding 20\r\nskinparam SequenceBoxBackgroundColor #white\r\nskinparam style strictuml\r\nskinparam maxMessageSize 100\r\nskinparam monochrome true\r\nskinparam classbackgroundcolor white\r\nskinparam shadowing false\r\nskinparam wrapWidth 300\r\nhide circle\r\n\r\nbox \"CruiseControlInteraction\"\r\nparticipant \"driver\" as E1 << part>> [[psysml:aac87b10-53b1-4f4f-92ae-b3a5a46a7fa3 ]] \r\nparticipant \"cruiseController\" as E2 << part>> [[psysml:b6a83c07-a999-4da2-b85c-4d8327a36e7d ]] \r\nparticipant \"speedometer\" as E3 << part>> [[psysml:87700d8a-942f-4907-8901-377a63e60ce1 ]] \r\nparticipant \"engine\" as E4 << part>> [[psysml:34b95f81-d311-4fd2-a9bc-3ad9b6c68e19 ]] \r\nend box\r\nE1 ->> E2 [[psysml:dfda9ebf-0824-4672-8339-6376ce358a1e ]] : setSpeedMessage\r\nE3 ->> E2 [[psysml:2227d01d-e1e6-4b7a-b58a-b566d8ab1f7a ]] : sensedSpeedMessage\r\nE2 ->> E4 [[psysml:1b486e0e-6d9f-4c5c-896e-43e63f0fa24d ]] : fuelCommandMessage\r\n@enduml\r\n\nPlantUML version 1.2020.13(Sat Jun 13 08:26:38 EDT 2020)\n(EPL source distribution)\nJava Runtime: OpenJDK Runtime Environment\nJVM: OpenJDK 64-Bit Server VM\nDefault Encoding: UTF-8\nLanguage: en\nCountry: US\n--></g></svg>"
     },
     "execution_count": 48,
     "metadata": {},
     "output_type": "execute_result"
    }
   ],
   "source": [
    "%viz CruiseControlInteraction"
   ]
  },
  {
   "cell_type": "code",
   "execution_count": 49,
   "id": "bb52657f",
   "metadata": {},
   "outputs": [
    {
     "data": {
      "text/plain": []
     },
     "execution_count": 49,
     "metadata": {},
     "output_type": "execute_result"
    }
   ],
   "source": [
    "// occurrence def CruiseControlInteraction {\n",
    "//     ref part driver : Person {\n",
    "//         event setSpeedMessage::source;\n",
    "//     }\n",
    "    \n",
    "//     ref part vehicle : Vehicle;\n",
    "    \n",
    "// //     ref part vehicle : Vehicle {\n",
    "// //         part cruiseController : CruiseController {\n",
    "// //             event setSpeedMessage::target;\n",
    "// //             then event sensedSpeedMessage::target;\n",
    "// //             then event fuelCommandMessage::source;\n",
    "// //         }\n",
    "// //         part speedometer : Speedometer {\n",
    "// //             event sensedSpeedMessage::source;\n",
    "// //         }\n",
    "// //         part engine : Engine {\n",
    "// //             event fuelCommandMessage::target;\n",
    "// //         }\n",
    "// //     }\n",
    "    \n",
    "//     message setSpeedMessage of SetSpeed;\n",
    "//     then message sensedSpeedMessage of SensedSpeed;\n",
    "//     message fuelCommandMessage of FuelCommand;\n",
    "// }"
   ]
  },
  {
   "cell_type": "code",
   "execution_count": 50,
   "id": "58f25218",
   "metadata": {},
   "outputs": [
    {
     "data": {
      "text/plain": []
     },
     "execution_count": 50,
     "metadata": {},
     "output_type": "execute_result"
    }
   ],
   "source": [
    "// %viz CruiseControlInteraction"
   ]
  },
  {
   "cell_type": "code",
   "execution_count": 51,
   "id": "f27876d9",
   "metadata": {},
   "outputs": [
    {
     "data": {
      "text/plain": [
       "Package EventOccurrenceExample (18332ba0-aef5-4698-adbc-c971018400d3)\n"
      ]
     },
     "execution_count": 51,
     "metadata": {},
     "output_type": "execute_result"
    }
   ],
   "source": [
    "package 'EventOccurrenceExample' {\t\n",
    "\tpart def Driver;\n",
    "\tpart def CruiseController;\n",
    "\tpart def Speedometer;\n",
    "\tpart def Engine;\n",
    "\tpart def Vehicle;\n",
    "\t\n",
    "\tpart driver : Driver {\n",
    "\t\tevent occurrence setSpeedSent;\n",
    "\t}\n",
    "\t\n",
    "\tpart vehicle : Vehicle {\n",
    "\t\n",
    "\t\tpart cruiseController : CruiseController {\n",
    "\t\t\tevent occurrence setSpeedReceived;\t\t\n",
    "\t\t\tthen event occurrence sensedSpeedReceived;\t\t\n",
    "\t\t\tthen event occurrence fuelCommandSent;\n",
    "\t\t}\n",
    "\t\t\n",
    "\t\tpart speedometer : Speedometer {\n",
    "\t\t\tevent occurrence sensedSpeedSent;\n",
    "\t\t}\n",
    "\t\t\n",
    "\t\tpart engine : Engine {\n",
    "\t\t\tevent occurrence fuelCommandReceived;\n",
    "\t\t}\n",
    "\t\n",
    "\t}\n",
    "}"
   ]
  },
  {
   "cell_type": "code",
   "execution_count": 52,
   "id": "ace9be57",
   "metadata": {},
   "outputs": [
    {
     "data": {
      "text/plain": [
       "Package InteractionExample_1 (9d95619d-3b56-47ee-bd57-9947aca301fa)\n"
      ]
     },
     "execution_count": 52,
     "metadata": {},
     "output_type": "execute_result"
    }
   ],
   "source": [
    "package 'InteractionExample_1' {\n",
    "\timport 'EventOccurrenceExample'::*;\n",
    "\t\n",
    "\tattribute def SetSpeed;\n",
    "\tattribute def SensedSpeed;\n",
    "\tattribute def FuelCommand;\n",
    "\t\n",
    "\toccurrence def CruiseControlInteraction {\t\t\n",
    "\t\tref part :>> driver;\t\t\n",
    "\t\tref part :>> vehicle;\n",
    "\t\t\n",
    "\t\tmessage setSpeedMessage of SetSpeed \n",
    "\t\t\tfrom driver.setSpeedSent to vehicle.cruiseController.setSpeedReceived;\n",
    "\t\t\t\n",
    "\t\tmessage sensedSpeedMessage of SensedSpeed \n",
    "\t\t\tfrom vehicle.speedometer.sensedSpeedSent to vehicle.cruiseController.sensedSpeedReceived;\n",
    "\t\t\t\n",
    "\t\tmessage fuelCommandMessage of FuelCommand \n",
    "\t\t\tfrom vehicle.cruiseController.fuelCommandSent to vehicle.engine.fuelCommandReceived;\n",
    "\t\t\n",
    "\t\tfirst setSpeedMessage then sensedSpeedMessage;\n",
    "\t}\n",
    "}"
   ]
  },
  {
   "cell_type": "code",
   "execution_count": 53,
   "id": "9ff6da5e",
   "metadata": {},
   "outputs": [
    {
     "data": {
      "image/svg+xml": "<?xml version=\"1.0\" encoding=\"UTF-8\" standalone=\"no\"?><svg xmlns=\"http://www.w3.org/2000/svg\" xmlns:xlink=\"http://www.w3.org/1999/xlink\" contentScriptType=\"application/ecmascript\" contentStyleType=\"text/css\" height=\"191px\" preserveAspectRatio=\"none\" style=\"width:487px;height:191px;\" version=\"1.1\" viewBox=\"0 0 487 191\" width=\"487px\" zoomAndPan=\"magnify\"><defs/><g><rect fill=\"#FFFFFF\" height=\"169.2188\" rx=\"10\" ry=\"10\" style=\"stroke: #383838; stroke-width: 1.0;\" width=\"452\" x=\"24\" y=\"4\"/><text fill=\"#000000\" font-family=\"sans-serif\" font-size=\"13\" font-weight=\"bold\" lengthAdjust=\"spacingAndGlyphs\" textLength=\"165\" x=\"167.5\" y=\"16.5684\">CruiseControlInteraction</text><line style=\"stroke: #383838; stroke-width: 1.0; stroke-dasharray: 5.0,5.0;\" x1=\"56\" x2=\"56\" y1=\"71.2871\" y2=\"179.2188\"/><line style=\"stroke: #383838; stroke-width: 1.0; stroke-dasharray: 5.0,5.0;\" x1=\"189.5\" x2=\"189.5\" y1=\"71.2871\" y2=\"179.2188\"/><line style=\"stroke: #383838; stroke-width: 1.0; stroke-dasharray: 5.0,5.0;\" x1=\"349\" x2=\"349\" y1=\"71.2871\" y2=\"179.2188\"/><line style=\"stroke: #383838; stroke-width: 1.0; stroke-dasharray: 5.0,5.0;\" x1=\"441\" x2=\"441\" y1=\"71.2871\" y2=\"179.2188\"/><a href=\"psysml:aac87b10-53b1-4f4f-92ae-b3a5a46a7fa3\" target=\"_top\" title=\"psysml:aac87b10-53b1-4f4f-92ae-b3a5a46a7fa3\" xlink:actuate=\"onRequest\" xlink:href=\"psysml:aac87b10-53b1-4f4f-92ae-b3a5a46a7fa3\" xlink:show=\"new\" xlink:title=\"psysml:aac87b10-53b1-4f4f-92ae-b3a5a46a7fa3\" xlink:type=\"simple\"><rect fill=\"#F8F8F8\" height=\"46.9766\" rx=\"10\" ry=\"10\" style=\"stroke: #383838; stroke-width: 1.5;\" width=\"56\" x=\"28\" y=\"23.3105\"/><text fill=\"#000000\" font-family=\"sans-serif\" font-size=\"14\" font-style=\"italic\" lengthAdjust=\"spacingAndGlyphs\" textLength=\"42\" x=\"35\" y=\"43.8457\">«part»</text><text fill=\"#000000\" font-family=\"sans-serif\" font-size=\"14\" lengthAdjust=\"spacingAndGlyphs\" textLength=\"40\" x=\"36\" y=\"60.334\">driver</text></a><a href=\"psysml:b6a83c07-a999-4da2-b85c-4d8327a36e7d\" target=\"_top\" title=\"psysml:b6a83c07-a999-4da2-b85c-4d8327a36e7d\" xlink:actuate=\"onRequest\" xlink:href=\"psysml:b6a83c07-a999-4da2-b85c-4d8327a36e7d\" xlink:show=\"new\" xlink:title=\"psysml:b6a83c07-a999-4da2-b85c-4d8327a36e7d\" xlink:type=\"simple\"><rect fill=\"#F8F8F8\" height=\"46.9766\" rx=\"10\" ry=\"10\" style=\"stroke: #383838; stroke-width: 1.5;\" width=\"125\" x=\"127.5\" y=\"23.3105\"/><text fill=\"#000000\" font-family=\"sans-serif\" font-size=\"14\" font-style=\"italic\" lengthAdjust=\"spacingAndGlyphs\" textLength=\"42\" x=\"169\" y=\"43.8457\">«part»</text><text fill=\"#000000\" font-family=\"sans-serif\" font-size=\"14\" lengthAdjust=\"spacingAndGlyphs\" textLength=\"111\" x=\"134.5\" y=\"60.334\">cruiseController</text></a><a href=\"psysml:87700d8a-942f-4907-8901-377a63e60ce1\" target=\"_top\" title=\"psysml:87700d8a-942f-4907-8901-377a63e60ce1\" xlink:actuate=\"onRequest\" xlink:href=\"psysml:87700d8a-942f-4907-8901-377a63e60ce1\" xlink:show=\"new\" xlink:title=\"psysml:87700d8a-942f-4907-8901-377a63e60ce1\" xlink:type=\"simple\"><rect fill=\"#F8F8F8\" height=\"46.9766\" rx=\"10\" ry=\"10\" style=\"stroke: #383838; stroke-width: 1.5;\" width=\"104\" x=\"297\" y=\"23.3105\"/><text fill=\"#000000\" font-family=\"sans-serif\" font-size=\"14\" font-style=\"italic\" lengthAdjust=\"spacingAndGlyphs\" textLength=\"42\" x=\"328\" y=\"43.8457\">«part»</text><text fill=\"#000000\" font-family=\"sans-serif\" font-size=\"14\" lengthAdjust=\"spacingAndGlyphs\" textLength=\"90\" x=\"304\" y=\"60.334\">speedometer</text></a><a href=\"psysml:34b95f81-d311-4fd2-a9bc-3ad9b6c68e19\" target=\"_top\" title=\"psysml:34b95f81-d311-4fd2-a9bc-3ad9b6c68e19\" xlink:actuate=\"onRequest\" xlink:href=\"psysml:34b95f81-d311-4fd2-a9bc-3ad9b6c68e19\" xlink:show=\"new\" xlink:title=\"psysml:34b95f81-d311-4fd2-a9bc-3ad9b6c68e19\" xlink:type=\"simple\"><rect fill=\"#F8F8F8\" height=\"46.9766\" rx=\"10\" ry=\"10\" style=\"stroke: #383838; stroke-width: 1.5;\" width=\"61\" x=\"411\" y=\"23.3105\"/><text fill=\"#000000\" font-family=\"sans-serif\" font-size=\"14\" font-style=\"italic\" lengthAdjust=\"spacingAndGlyphs\" textLength=\"42\" x=\"420.5\" y=\"43.8457\">«part»</text><text fill=\"#000000\" font-family=\"sans-serif\" font-size=\"14\" lengthAdjust=\"spacingAndGlyphs\" textLength=\"47\" x=\"418\" y=\"60.334\">engine</text></a><a href=\"psysml:dfda9ebf-0824-4672-8339-6376ce358a1e\" target=\"_top\" title=\"psysml:dfda9ebf-0824-4672-8339-6376ce358a1e\" xlink:actuate=\"onRequest\" xlink:href=\"psysml:dfda9ebf-0824-4672-8339-6376ce358a1e\" xlink:show=\"new\" xlink:title=\"psysml:dfda9ebf-0824-4672-8339-6376ce358a1e\" xlink:type=\"simple\"><line style=\"stroke: #383838; stroke-width: 1.0;\" x1=\"188\" x2=\"178\" y1=\"102.5977\" y2=\"98.5977\"/><line style=\"stroke: #383838; stroke-width: 1.0;\" x1=\"188\" x2=\"178\" y1=\"102.5977\" y2=\"106.5977\"/><line style=\"stroke: #383838; stroke-width: 1.0;\" x1=\"56\" x2=\"189\" y1=\"102.5977\" y2=\"102.5977\"/><text fill=\"#000000\" font-family=\"sans-serif\" font-size=\"13\" lengthAdjust=\"spacingAndGlyphs\" textLength=\"110\" x=\"63\" y=\"97.8555\">setSpeedMessage</text></a><a href=\"psysml:2227d01d-e1e6-4b7a-b58a-b566d8ab1f7a\" target=\"_top\" title=\"psysml:2227d01d-e1e6-4b7a-b58a-b566d8ab1f7a\" xlink:actuate=\"onRequest\" xlink:href=\"psysml:2227d01d-e1e6-4b7a-b58a-b566d8ab1f7a\" xlink:show=\"new\" xlink:title=\"psysml:2227d01d-e1e6-4b7a-b58a-b566d8ab1f7a\" xlink:type=\"simple\"><line style=\"stroke: #383838; stroke-width: 1.0;\" x1=\"190\" x2=\"200\" y1=\"131.9082\" y2=\"127.9082\"/><line style=\"stroke: #383838; stroke-width: 1.0;\" x1=\"190\" x2=\"200\" y1=\"131.9082\" y2=\"135.9082\"/><line style=\"stroke: #383838; stroke-width: 1.0;\" x1=\"190\" x2=\"348\" y1=\"131.9082\" y2=\"131.9082\"/><text fill=\"#000000\" font-family=\"sans-serif\" font-size=\"13\" lengthAdjust=\"spacingAndGlyphs\" textLength=\"135\" x=\"207\" y=\"127.166\">sensedSpeedMessage</text></a><a href=\"psysml:1b486e0e-6d9f-4c5c-896e-43e63f0fa24d\" target=\"_top\" title=\"psysml:1b486e0e-6d9f-4c5c-896e-43e63f0fa24d\" xlink:actuate=\"onRequest\" xlink:href=\"psysml:1b486e0e-6d9f-4c5c-896e-43e63f0fa24d\" xlink:show=\"new\" xlink:title=\"psysml:1b486e0e-6d9f-4c5c-896e-43e63f0fa24d\" xlink:type=\"simple\"><line style=\"stroke: #383838; stroke-width: 1.0;\" x1=\"439.5\" x2=\"429.5\" y1=\"161.2188\" y2=\"157.2188\"/><line style=\"stroke: #383838; stroke-width: 1.0;\" x1=\"439.5\" x2=\"429.5\" y1=\"161.2188\" y2=\"165.2188\"/><line style=\"stroke: #383838; stroke-width: 1.0;\" x1=\"190\" x2=\"440.5\" y1=\"161.2188\" y2=\"161.2188\"/><text fill=\"#000000\" font-family=\"sans-serif\" font-size=\"13\" lengthAdjust=\"spacingAndGlyphs\" textLength=\"142\" x=\"197\" y=\"156.4766\">fuelCommandMessage</text></a><!--MD5=[f2928c858f9ac621b3e00706655c3c64]\n@startuml\r\nskinparam roundcorner 20\r\nskinparam BoxPadding 20\r\nskinparam SequenceBoxBackgroundColor #white\r\nskinparam style strictuml\r\nskinparam maxMessageSize 100\r\nskinparam monochrome true\r\nskinparam classbackgroundcolor white\r\nskinparam shadowing false\r\nskinparam wrapWidth 300\r\nhide circle\r\n\r\nbox \"CruiseControlInteraction\"\r\nparticipant \"driver\" as E1 << part>> [[psysml:aac87b10-53b1-4f4f-92ae-b3a5a46a7fa3 ]] \r\nparticipant \"cruiseController\" as E2 << part>> [[psysml:b6a83c07-a999-4da2-b85c-4d8327a36e7d ]] \r\nparticipant \"speedometer\" as E3 << part>> [[psysml:87700d8a-942f-4907-8901-377a63e60ce1 ]] \r\nparticipant \"engine\" as E4 << part>> [[psysml:34b95f81-d311-4fd2-a9bc-3ad9b6c68e19 ]] \r\nend box\r\nE1 ->> E2 [[psysml:dfda9ebf-0824-4672-8339-6376ce358a1e ]] : setSpeedMessage\r\nE3 ->> E2 [[psysml:2227d01d-e1e6-4b7a-b58a-b566d8ab1f7a ]] : sensedSpeedMessage\r\nE2 ->> E4 [[psysml:1b486e0e-6d9f-4c5c-896e-43e63f0fa24d ]] : fuelCommandMessage\r\n@enduml\r\n\nPlantUML version 1.2020.13(Sat Jun 13 08:26:38 EDT 2020)\n(EPL source distribution)\nJava Runtime: OpenJDK Runtime Environment\nJVM: OpenJDK 64-Bit Server VM\nDefault Encoding: UTF-8\nLanguage: en\nCountry: US\n--></g></svg>"
     },
     "execution_count": 53,
     "metadata": {},
     "output_type": "execute_result"
    }
   ],
   "source": [
    "%viz CruiseControlInteraction"
   ]
  },
  {
   "cell_type": "code",
   "execution_count": 54,
   "id": "aaa4796e",
   "metadata": {},
   "outputs": [
    {
     "data": {
      "text/plain": [
       "Package InteractionRealization_1 (b11b55ae-c781-453d-891b-7f11e9a2a7c4)\n"
      ]
     },
     "execution_count": 54,
     "metadata": {},
     "output_type": "execute_result"
    }
   ],
   "source": [
    "package 'InteractionRealization_1' {\n",
    "\timport 'InteractionExample_1'::*;\n",
    "\t\n",
    "\tpart driver_a : Driver {\n",
    "\t\tperform action driverBehavior {\n",
    "\t\t\taction sendSetSpeed send SetSpeed() to vehicle_a;\n",
    "\t\t}\n",
    "\t}\n",
    "\t\n",
    "\tpart vehicle_a : Vehicle {\n",
    "\t\tpart cruiseController_a : CruiseController {\n",
    "\t\t\tperform action controllerBehavior {\n",
    "\t\t\t\taction receiveSetSpeed accept SetSpeed via vehicle_a;\n",
    "\t\t\t\tthen action receiveSensedSpeed accept SensedSpeed via cruiseController_a;\n",
    "\t\t\t\tthen action sendFuelCommand send FuelCommand() to engine_a;\n",
    "\t\t\t}\n",
    "\t\t}\n",
    "\t\t\n",
    "\t\tpart speedometer_a : Speedometer {\n",
    "\t\t\tperform action speedometerBehavior {\n",
    "\t\t\t\taction sendSensedSpeed send SensedSpeed() to cruiseController_a;\n",
    "\t\t\t}\n",
    "\t\t}\n",
    "\t\t\n",
    "\t\tpart engine_a : Engine {\n",
    "\t\t\tperform action engineBehavior {\n",
    "\t\t\t\taction receiveFuelCommand accept FuelCommand via engine_a;\n",
    "\t\t\t}\n",
    "\t\t}\n",
    "\t}\n",
    "\t\n",
    "\toccurrence cruiseControlInteraction_a : CruiseControlInteraction {\n",
    "\t\tpart :>> driver :>> driver_a {\n",
    "\t\t\tevent driverBehavior.sendSetSpeed[1] :>> setSpeedSent;\n",
    "\t\t}\n",
    "\t\t\n",
    "\t\tpart :>> vehicle :>> vehicle_a {\n",
    "\t\t\tpart :>> cruiseController :>> cruiseController_a {\n",
    "\t\t\t\tevent controllerBehavior.receiveSetSpeed[1] :>> setSpeedReceived;\n",
    "\t\t\t\tevent controllerBehavior.receiveSensedSpeed[1] :>> sensedSpeedReceived;\n",
    "\t\t\t\tevent controllerBehavior.sendFuelCommand[1] :>> fuelCommandSent;\n",
    "\t\t\t}\n",
    "\t\t\tpart :>> speedometer :>> speedometer_a {\n",
    "\t\t\t\tevent speedometerBehavior.sendSensedSpeed[1] :>> sensedSpeedSent;\n",
    "\t\t\t}\n",
    "\t\t\tpart :>> engine :>> engine_a {\n",
    "\t\t\t\tevent engineBehavior.receiveFuelCommand[1] :>> fuelCommandReceived;\n",
    "\t\t\t}\n",
    "\t\t}\n",
    "\t\t\n",
    "\t\tmessage :> driver_a.driverBehavior.sendSetSpeed.outgoingTransfer :>> setSpeedMessage;\n",
    "\t\tmessage :> vehicle_a.speedometer_a.speedometerBehavior.sendSensedSpeed.outgoingTransfer :>> sensedSpeedMessage;\n",
    "\t\tmessage :> vehicle_a.cruiseController_a.controllerBehavior.sendFuelCommand.outgoingTransfer :>> fuelCommandMessage;\n",
    "\t}\n",
    "}"
   ]
  },
  {
   "cell_type": "code",
   "execution_count": 56,
   "id": "1c9a2c27",
   "metadata": {},
   "outputs": [
    {
     "data": {
      "image/svg+xml": "<?xml version=\"1.0\" encoding=\"UTF-8\" standalone=\"no\"?><svg xmlns=\"http://www.w3.org/2000/svg\" xmlns:xlink=\"http://www.w3.org/1999/xlink\" contentScriptType=\"application/ecmascript\" contentStyleType=\"text/css\" height=\"1140px\" preserveAspectRatio=\"none\" style=\"width:1719px;height:1140px;\" version=\"1.1\" viewBox=\"0 0 1719 1140\" width=\"1719px\" zoomAndPan=\"magnify\"><defs/><g><!--MD5=[fbc87193dbaf4d95561dea2c320d4a47]\ncluster E1--><a href=\"psysml:b741747c-24ef-4f5e-9e71-fa06d6f6b5ed\" target=\"_top\" title=\"psysml:b741747c-24ef-4f5e-9e71-fa06d6f6b5ed\" xlink:actuate=\"onRequest\" xlink:href=\"psysml:b741747c-24ef-4f5e-9e71-fa06d6f6b5ed\" xlink:show=\"new\" xlink:title=\"psysml:b741747c-24ef-4f5e-9e71-fa06d6f6b5ed\" xlink:type=\"simple\"><polygon fill=\"#FFFFFF\" points=\"16,6,197,6,204,28.4883,1697,28.4883,1697,1128,16,1128,16,6\" style=\"stroke: #000000; stroke-width: 1.5;\"/><line style=\"stroke: #000000; stroke-width: 1.5;\" x1=\"16\" x2=\"204\" y1=\"28.4883\" y2=\"28.4883\"/><text fill=\"#000000\" font-family=\"sans-serif\" font-size=\"14\" font-weight=\"bold\" lengthAdjust=\"spacingAndGlyphs\" textLength=\"175\" x=\"20\" y=\"21.5352\">InteractionRealization_1</text></a><!--MD5=[d5e69f78d87373223dbae638b30a9c99]\ncluster E3--><a href=\"psysml:c2e46006-5125-45cc-bd3b-4a31bc304a5e\" target=\"_top\" title=\"psysml:c2e46006-5125-45cc-bd3b-4a31bc304a5e\" xlink:actuate=\"onRequest\" xlink:href=\"psysml:c2e46006-5125-45cc-bd3b-4a31bc304a5e\" xlink:show=\"new\" xlink:title=\"psysml:c2e46006-5125-45cc-bd3b-4a31bc304a5e\" xlink:type=\"simple\"><rect fill=\"#FFFFFF\" height=\"138\" id=\"E3\" rx=\"10\" ry=\"10\" style=\"stroke: #383838; stroke-width: 1.5;\" width=\"189\" x=\"918\" y=\"451\"/><rect fill=\"#F8F8F8\" height=\"38.2656\" rx=\"10\" ry=\"10\" style=\"stroke: #F8F8F8; stroke-width: 1.5;\" width=\"189\" x=\"918\" y=\"451\"/><rect fill=\"#F8F8F8\" height=\"10\" style=\"stroke: #F8F8F8; stroke-width: 1.5;\" width=\"189\" x=\"918\" y=\"479.2656\"/><rect fill=\"none\" height=\"138\" id=\"E3\" rx=\"10\" ry=\"10\" style=\"stroke: #383838; stroke-width: 1.5;\" width=\"189\" x=\"918\" y=\"451\"/><text fill=\"#000000\" font-family=\"sans-serif\" font-size=\"12\" font-style=\"italic\" lengthAdjust=\"spacingAndGlyphs\" textLength=\"97\" x=\"964\" y=\"467.6016\">«perform action»</text><text fill=\"#000000\" font-family=\"sans-serif\" font-size=\"12\" lengthAdjust=\"spacingAndGlyphs\" textLength=\"83\" x=\"971\" y=\"481.7344\">driverBehavior</text><line style=\"stroke: #383838; stroke-width: 1.0;\" x1=\"918\" x2=\"1107\" y1=\"489.2656\" y2=\"489.2656\"/></a><!--MD5=[168fadf3d0c3fd93dd5d6da1b1d7ab76]\ncluster E7--><a href=\"psysml:49ea7f41-8a3d-4bca-a62c-112096bcd0a4\" target=\"_top\" title=\"psysml:49ea7f41-8a3d-4bca-a62c-112096bcd0a4\" xlink:actuate=\"onRequest\" xlink:href=\"psysml:49ea7f41-8a3d-4bca-a62c-112096bcd0a4\" xlink:show=\"new\" xlink:title=\"psysml:49ea7f41-8a3d-4bca-a62c-112096bcd0a4\" xlink:type=\"simple\"><rect fill=\"#FFFFFF\" height=\"544\" id=\"E7\" rx=\"10\" ry=\"10\" style=\"stroke: #383838; stroke-width: 1.5;\" width=\"208\" x=\"1457\" y=\"451\"/><rect fill=\"#F8F8F8\" height=\"38.2656\" rx=\"10\" ry=\"10\" style=\"stroke: #F8F8F8; stroke-width: 1.5;\" width=\"208\" x=\"1457\" y=\"451\"/><rect fill=\"#F8F8F8\" height=\"10\" style=\"stroke: #F8F8F8; stroke-width: 1.5;\" width=\"208\" x=\"1457\" y=\"479.2656\"/><rect fill=\"none\" height=\"544\" id=\"E7\" rx=\"10\" ry=\"10\" style=\"stroke: #383838; stroke-width: 1.5;\" width=\"208\" x=\"1457\" y=\"451\"/><text fill=\"#000000\" font-family=\"sans-serif\" font-size=\"12\" font-style=\"italic\" lengthAdjust=\"spacingAndGlyphs\" textLength=\"97\" x=\"1512.5\" y=\"467.6016\">«perform action»</text><text fill=\"#000000\" font-family=\"sans-serif\" font-size=\"12\" lengthAdjust=\"spacingAndGlyphs\" textLength=\"103\" x=\"1509.5\" y=\"481.7344\">controllerBehavior</text><line style=\"stroke: #383838; stroke-width: 1.0;\" x1=\"1457\" x2=\"1665\" y1=\"489.2656\" y2=\"489.2656\"/></a><!--MD5=[47bea60c1a0ac6c1143df232041969c0]\ncluster E12--><a href=\"psysml:3906909f-75a3-4073-915e-afd6d5faeeeb\" target=\"_top\" title=\"psysml:3906909f-75a3-4073-915e-afd6d5faeeeb\" xlink:actuate=\"onRequest\" xlink:href=\"psysml:3906909f-75a3-4073-915e-afd6d5faeeeb\" xlink:show=\"new\" xlink:title=\"psysml:3906909f-75a3-4073-915e-afd6d5faeeeb\" xlink:type=\"simple\"><rect fill=\"#FFFFFF\" height=\"138\" id=\"E12\" rx=\"10\" ry=\"10\" style=\"stroke: #383838; stroke-width: 1.5;\" width=\"209\" x=\"1201\" y=\"654\"/><rect fill=\"#F8F8F8\" height=\"38.2656\" rx=\"10\" ry=\"10\" style=\"stroke: #F8F8F8; stroke-width: 1.5;\" width=\"209\" x=\"1201\" y=\"654\"/><rect fill=\"#F8F8F8\" height=\"10\" style=\"stroke: #F8F8F8; stroke-width: 1.5;\" width=\"209\" x=\"1201\" y=\"682.2656\"/><rect fill=\"none\" height=\"138\" id=\"E12\" rx=\"10\" ry=\"10\" style=\"stroke: #383838; stroke-width: 1.5;\" width=\"209\" x=\"1201\" y=\"654\"/><text fill=\"#000000\" font-family=\"sans-serif\" font-size=\"12\" font-style=\"italic\" lengthAdjust=\"spacingAndGlyphs\" textLength=\"97\" x=\"1257\" y=\"670.6016\">«perform action»</text><text fill=\"#000000\" font-family=\"sans-serif\" font-size=\"12\" lengthAdjust=\"spacingAndGlyphs\" textLength=\"126\" x=\"1242.5\" y=\"684.7344\">speedometerBehavior</text><line style=\"stroke: #383838; stroke-width: 1.0;\" x1=\"1201\" x2=\"1410\" y1=\"692.2656\" y2=\"692.2656\"/></a><!--MD5=[ab3548ab6224ff035c4047a4d30b7567]\ncluster E15--><a href=\"psysml:07b87886-0fbf-4c90-acba-fa2499cc4d48\" target=\"_top\" title=\"psysml:07b87886-0fbf-4c90-acba-fa2499cc4d48\" xlink:actuate=\"onRequest\" xlink:href=\"psysml:07b87886-0fbf-4c90-acba-fa2499cc4d48\" xlink:show=\"new\" xlink:title=\"psysml:07b87886-0fbf-4c90-acba-fa2499cc4d48\" xlink:type=\"simple\"><rect fill=\"#FFFFFF\" height=\"138\" id=\"E15\" rx=\"10\" ry=\"10\" style=\"stroke: #383838; stroke-width: 1.5;\" width=\"209\" x=\"728\" y=\"857\"/><rect fill=\"#F8F8F8\" height=\"38.2656\" rx=\"10\" ry=\"10\" style=\"stroke: #F8F8F8; stroke-width: 1.5;\" width=\"209\" x=\"728\" y=\"857\"/><rect fill=\"#F8F8F8\" height=\"10\" style=\"stroke: #F8F8F8; stroke-width: 1.5;\" width=\"209\" x=\"728\" y=\"885.2656\"/><rect fill=\"none\" height=\"138\" id=\"E15\" rx=\"10\" ry=\"10\" style=\"stroke: #383838; stroke-width: 1.5;\" width=\"209\" x=\"728\" y=\"857\"/><text fill=\"#000000\" font-family=\"sans-serif\" font-size=\"12\" font-style=\"italic\" lengthAdjust=\"spacingAndGlyphs\" textLength=\"97\" x=\"784\" y=\"873.6016\">«perform action»</text><text fill=\"#000000\" font-family=\"sans-serif\" font-size=\"12\" lengthAdjust=\"spacingAndGlyphs\" textLength=\"87\" x=\"789\" y=\"887.7344\">engineBehavior</text><line style=\"stroke: #383838; stroke-width: 1.0;\" x1=\"728\" x2=\"937\" y1=\"895.2656\" y2=\"895.2656\"/></a><!--MD5=[b4997ac47864f28c2f74865a473b2911]\nclass E2--><a href=\"psysml:4f1237a5-9fa5-480f-9b0b-0c7f3cdb0c4c\" target=\"_top\" title=\"psysml:4f1237a5-9fa5-480f-9b0b-0c7f3cdb0c4c\" xlink:actuate=\"onRequest\" xlink:href=\"psysml:4f1237a5-9fa5-480f-9b0b-0c7f3cdb0c4c\" xlink:show=\"new\" xlink:title=\"psysml:4f1237a5-9fa5-480f-9b0b-0c7f3cdb0c4c\" xlink:type=\"simple\"><rect fill=\"#FFFFFF\" height=\"46.2656\" id=\"E2\" rx=\"10\" ry=\"10\" style=\"stroke: #383838; stroke-width: 1.5;\" width=\"100\" x=\"864\" y=\"350\"/><text fill=\"#000000\" font-family=\"sans-serif\" font-size=\"12\" font-style=\"italic\" lengthAdjust=\"spacingAndGlyphs\" textLength=\"36\" x=\"896\" y=\"366.6016\">«part»</text><text fill=\"#000000\" font-family=\"sans-serif\" font-size=\"12\" lengthAdjust=\"spacingAndGlyphs\" textLength=\"90\" x=\"867\" y=\"380.7344\">driver_a: Driver</text><line style=\"stroke: #383838; stroke-width: 1.5;\" x1=\"865\" x2=\"963\" y1=\"388.2656\" y2=\"388.2656\"/></a><!--MD5=[270fce915f116d4de14055a7c1d9a0f3]\nclass E5--><a href=\"psysml:d603a8a6-32af-44be-b66f-148eece7f9cd\" target=\"_top\" title=\"psysml:d603a8a6-32af-44be-b66f-148eece7f9cd\" xlink:actuate=\"onRequest\" xlink:href=\"psysml:d603a8a6-32af-44be-b66f-148eece7f9cd\" xlink:show=\"new\" xlink:title=\"psysml:d603a8a6-32af-44be-b66f-148eece7f9cd\" xlink:type=\"simple\"><rect fill=\"#FFFFFF\" height=\"46.2656\" id=\"E5\" rx=\"10\" ry=\"10\" style=\"stroke: #383838; stroke-width: 1.5;\" width=\"111\" x=\"1046.5\" y=\"717.5\"/><text fill=\"#000000\" font-family=\"sans-serif\" font-size=\"12\" font-style=\"italic\" lengthAdjust=\"spacingAndGlyphs\" textLength=\"36\" x=\"1084\" y=\"734.1016\">«part»</text><text fill=\"#000000\" font-family=\"sans-serif\" font-size=\"12\" lengthAdjust=\"spacingAndGlyphs\" textLength=\"101\" x=\"1049.5\" y=\"748.2344\">vehicle_a: Vehicle</text><line style=\"stroke: #383838; stroke-width: 1.5;\" x1=\"1047.5\" x2=\"1156.5\" y1=\"755.7656\" y2=\"755.7656\"/></a><!--MD5=[60a26617385b1d2d0262a64233df1f8d]\nclass E6--><a href=\"psysml:740b64de-19a2-4e5b-935d-8565a2a270c8\" target=\"_top\" title=\"psysml:740b64de-19a2-4e5b-935d-8565a2a270c8\" xlink:actuate=\"onRequest\" xlink:href=\"psysml:740b64de-19a2-4e5b-935d-8565a2a270c8\" xlink:show=\"new\" xlink:title=\"psysml:740b64de-19a2-4e5b-935d-8565a2a270c8\" xlink:type=\"simple\"><rect fill=\"#FFFFFF\" height=\"46.2656\" id=\"E6\" rx=\"10\" ry=\"10\" style=\"stroke: #383838; stroke-width: 1.5;\" width=\"213\" x=\"1219.5\" y=\"920.5\"/><text fill=\"#000000\" font-family=\"sans-serif\" font-size=\"12\" font-style=\"italic\" lengthAdjust=\"spacingAndGlyphs\" textLength=\"36\" x=\"1308\" y=\"937.1016\">«part»</text><text fill=\"#000000\" font-family=\"sans-serif\" font-size=\"12\" lengthAdjust=\"spacingAndGlyphs\" textLength=\"203\" x=\"1222.5\" y=\"951.2344\">cruiseController_a: CruiseController</text><line style=\"stroke: #383838; stroke-width: 1.5;\" x1=\"1220.5\" x2=\"1431.5\" y1=\"958.7656\" y2=\"958.7656\"/></a><!--MD5=[1dd1bfd58a279cf63c5f349dbc8fc6a1]\nclass E11--><a href=\"psysml:c9ceb663-6897-41fa-a0b9-9f49e177f039\" target=\"_top\" title=\"psysml:c9ceb663-6897-41fa-a0b9-9f49e177f039\" xlink:actuate=\"onRequest\" xlink:href=\"psysml:c9ceb663-6897-41fa-a0b9-9f49e177f039\" xlink:show=\"new\" xlink:title=\"psysml:c9ceb663-6897-41fa-a0b9-9f49e177f039\" xlink:type=\"simple\"><rect fill=\"#FFFFFF\" height=\"46.2656\" id=\"E11\" rx=\"10\" ry=\"10\" style=\"stroke: #383838; stroke-width: 1.5;\" width=\"185\" x=\"961.5\" y=\"920.5\"/><text fill=\"#000000\" font-family=\"sans-serif\" font-size=\"12\" font-style=\"italic\" lengthAdjust=\"spacingAndGlyphs\" textLength=\"36\" x=\"1036\" y=\"937.1016\">«part»</text><text fill=\"#000000\" font-family=\"sans-serif\" font-size=\"12\" lengthAdjust=\"spacingAndGlyphs\" textLength=\"175\" x=\"964.5\" y=\"951.2344\">speedometer_a: Speedometer</text><line style=\"stroke: #383838; stroke-width: 1.5;\" x1=\"962.5\" x2=\"1145.5\" y1=\"958.7656\" y2=\"958.7656\"/></a><!--MD5=[bee11217b2f71d958a27249dc326068c]\nclass E14--><a href=\"psysml:a1e55bc2-78a0-4413-a302-d84a6834021f\" target=\"_top\" title=\"psysml:a1e55bc2-78a0-4413-a302-d84a6834021f\" xlink:actuate=\"onRequest\" xlink:href=\"psysml:a1e55bc2-78a0-4413-a302-d84a6834021f\" xlink:show=\"new\" xlink:title=\"psysml:a1e55bc2-78a0-4413-a302-d84a6834021f\" xlink:type=\"simple\"><rect fill=\"#FFFFFF\" height=\"46.2656\" id=\"E14\" rx=\"10\" ry=\"10\" style=\"stroke: #383838; stroke-width: 1.5;\" width=\"107\" x=\"788.5\" y=\"1066\"/><text fill=\"#000000\" font-family=\"sans-serif\" font-size=\"12\" font-style=\"italic\" lengthAdjust=\"spacingAndGlyphs\" textLength=\"36\" x=\"824\" y=\"1082.6016\">«part»</text><text fill=\"#000000\" font-family=\"sans-serif\" font-size=\"12\" lengthAdjust=\"spacingAndGlyphs\" textLength=\"97\" x=\"791.5\" y=\"1096.7344\">engine_a: Engine</text><line style=\"stroke: #383838; stroke-width: 1.5;\" x1=\"789.5\" x2=\"894.5\" y1=\"1104.2656\" y2=\"1104.2656\"/></a><!--MD5=[60e55a4a9b2f0dc0a36787c5a2095786]\nclass E17--><a href=\"psysml:8d748969-4053-4ecd-8485-9ea6a44c1ad5\" target=\"_top\" title=\"psysml:8d748969-4053-4ecd-8485-9ea6a44c1ad5\" xlink:actuate=\"onRequest\" xlink:href=\"psysml:8d748969-4053-4ecd-8485-9ea6a44c1ad5\" xlink:show=\"new\" xlink:title=\"psysml:8d748969-4053-4ecd-8485-9ea6a44c1ad5\" xlink:type=\"simple\"><rect fill=\"#FFFFFF\" height=\"140.9512\" id=\"E17\" rx=\"10\" ry=\"10\" style=\"stroke: #383838; stroke-width: 1.5;\" width=\"303\" x=\"586.5\" y=\"41\"/><text fill=\"#000000\" font-family=\"sans-serif\" font-size=\"12\" font-style=\"italic\" lengthAdjust=\"spacingAndGlyphs\" textLength=\"75\" x=\"700.5\" y=\"57.6016\">«occurrence»</text><text fill=\"#000000\" font-family=\"sans-serif\" font-size=\"12\" lengthAdjust=\"spacingAndGlyphs\" textLength=\"293\" x=\"589.5\" y=\"71.7344\">cruiseControlInteraction_a: CruiseControlInteraction</text><line style=\"stroke: #383838; stroke-width: 1.5;\" x1=\"587.5\" x2=\"888.5\" y1=\"79.2656\" y2=\"79.2656\"/><text fill=\"#000000\" font-family=\"sans-serif\" font-size=\"11\" lengthAdjust=\"spacingAndGlyphs\" textLength=\"94\" x=\"592.5\" y=\"110.8555\">setSpeedMessage</text><text fill=\"#000000\" font-family=\"sans-serif\" font-size=\"11\" font-style=\"italic\" lengthAdjust=\"spacingAndGlyphs\" textLength=\"255\" x=\"592.5\" y=\"123.8105\">:&gt;&gt;CruiseControlInteraction::setSpeedMessage</text><text fill=\"#000000\" font-family=\"sans-serif\" font-size=\"11\" lengthAdjust=\"spacingAndGlyphs\" textLength=\"116\" x=\"592.5\" y=\"136.7656\">sensedSpeedMessage</text><text fill=\"#000000\" font-family=\"sans-serif\" font-size=\"11\" font-style=\"italic\" lengthAdjust=\"spacingAndGlyphs\" textLength=\"277\" x=\"592.5\" y=\"149.7207\">:&gt;&gt;CruiseControlInteraction::sensedSpeedMessage</text><text fill=\"#000000\" font-family=\"sans-serif\" font-size=\"11\" lengthAdjust=\"spacingAndGlyphs\" textLength=\"121\" x=\"592.5\" y=\"162.6758\">fuelCommandMessage</text><text fill=\"#000000\" font-family=\"sans-serif\" font-size=\"11\" font-style=\"italic\" lengthAdjust=\"spacingAndGlyphs\" textLength=\"282\" x=\"592.5\" y=\"175.6309\">:&gt;&gt;CruiseControlInteraction::fuelCommandMessage</text><line style=\"stroke: #383838; stroke-width: 1.0;\" x1=\"587.5\" x2=\"724\" y1=\"93.7432\" y2=\"93.7432\"/><text fill=\"#000000\" font-family=\"sans-serif\" font-size=\"11\" lengthAdjust=\"spacingAndGlyphs\" textLength=\"28\" x=\"724\" y=\"97.4004\">flows</text><line style=\"stroke: #383838; stroke-width: 1.0;\" x1=\"752\" x2=\"888.5\" y1=\"93.7432\" y2=\"93.7432\"/></a><!--MD5=[e3af68e2095dcd46cf4beab32f25c64b]\nclass E18--><a href=\"psysml:c3208aca-68cf-416d-8175-6dce109f92d1\" target=\"_top\" title=\"psysml:c3208aca-68cf-416d-8175-6dce109f92d1\" xlink:actuate=\"onRequest\" xlink:href=\"psysml:c3208aca-68cf-416d-8175-6dce109f92d1\" xlink:show=\"new\" xlink:title=\"psysml:c3208aca-68cf-416d-8175-6dce109f92d1\" xlink:type=\"simple\"><rect fill=\"#FFFFFF\" height=\"46.2656\" id=\"E18\" rx=\"10\" ry=\"10\" style=\"stroke: #383838; stroke-width: 1.5;\" width=\"44\" x=\"892\" y=\"243\"/><text fill=\"#000000\" font-family=\"sans-serif\" font-size=\"12\" font-style=\"italic\" lengthAdjust=\"spacingAndGlyphs\" textLength=\"36\" x=\"896\" y=\"259.6016\">«part»</text><text fill=\"#000000\" font-family=\"sans-serif\" font-size=\"12\" lengthAdjust=\"spacingAndGlyphs\" textLength=\"34\" x=\"895\" y=\"273.7344\">driver</text><line style=\"stroke: #383838; stroke-width: 1.5;\" x1=\"893\" x2=\"935\" y1=\"281.2656\" y2=\"281.2656\"/></a><!--MD5=[2afd267d199484aabbd2f23ded056bb0]\nclass E19--><a href=\"psysml:51c3e209-fe10-47ae-95a8-c9872383623f\" target=\"_top\" title=\"psysml:51c3e209-fe10-47ae-95a8-c9872383623f\" xlink:actuate=\"onRequest\" xlink:href=\"psysml:51c3e209-fe10-47ae-95a8-c9872383623f\" xlink:show=\"new\" xlink:title=\"psysml:51c3e209-fe10-47ae-95a8-c9872383623f\" xlink:type=\"simple\"><rect fill=\"#FFFFFF\" height=\"46.2656\" id=\"E19\" rx=\"10\" ry=\"10\" style=\"stroke: #383838; stroke-width: 1.5;\" width=\"112\" x=\"999\" y=\"350\"/><text fill=\"#000000\" font-family=\"sans-serif\" font-size=\"12\" font-style=\"italic\" lengthAdjust=\"spacingAndGlyphs\" textLength=\"110\" x=\"1000\" y=\"366.6016\">«event occurrence»</text><text fill=\"#000000\" font-family=\"sans-serif\" font-size=\"12\" lengthAdjust=\"spacingAndGlyphs\" textLength=\"77\" x=\"1014.5\" y=\"380.7344\">setSpeedSent</text><line style=\"stroke: #383838; stroke-width: 1.5;\" x1=\"1000\" x2=\"1110\" y1=\"388.2656\" y2=\"388.2656\"/></a><!--MD5=[98c62f1084e4f84a692d89b659ad1ae4]\nclass E20--><a href=\"psysml:d8a27209-195e-46c4-8962-62beaade5328\" target=\"_top\" title=\"psysml:d8a27209-195e-46c4-8962-62beaade5328\" xlink:actuate=\"onRequest\" xlink:href=\"psysml:d8a27209-195e-46c4-8962-62beaade5328\" xlink:show=\"new\" xlink:title=\"psysml:d8a27209-195e-46c4-8962-62beaade5328\" xlink:type=\"simple\"><rect fill=\"#FFFFFF\" height=\"46.2656\" id=\"E20\" rx=\"10\" ry=\"10\" style=\"stroke: #383838; stroke-width: 1.5;\" width=\"49\" x=\"678.5\" y=\"514.5\"/><text fill=\"#000000\" font-family=\"sans-serif\" font-size=\"12\" font-style=\"italic\" lengthAdjust=\"spacingAndGlyphs\" textLength=\"36\" x=\"685\" y=\"531.1016\">«part»</text><text fill=\"#000000\" font-family=\"sans-serif\" font-size=\"12\" lengthAdjust=\"spacingAndGlyphs\" textLength=\"39\" x=\"681.5\" y=\"545.2344\">vehicle</text><line style=\"stroke: #383838; stroke-width: 1.5;\" x1=\"679.5\" x2=\"726.5\" y1=\"552.7656\" y2=\"552.7656\"/></a><!--MD5=[0a5eafc7463fe4c3b6356fe5913c4902]\nclass E21--><a href=\"psysml:96cc55f1-8d35-4442-8ea1-fd2ce8b12e1a\" target=\"_top\" title=\"psysml:96cc55f1-8d35-4442-8ea1-fd2ce8b12e1a\" xlink:actuate=\"onRequest\" xlink:href=\"psysml:96cc55f1-8d35-4442-8ea1-fd2ce8b12e1a\" xlink:show=\"new\" xlink:title=\"psysml:96cc55f1-8d35-4442-8ea1-fd2ce8b12e1a\" xlink:type=\"simple\"><rect fill=\"#FFFFFF\" height=\"46.2656\" id=\"E21\" rx=\"10\" ry=\"10\" style=\"stroke: #383838; stroke-width: 1.5;\" width=\"100\" x=\"434\" y=\"717.5\"/><text fill=\"#000000\" font-family=\"sans-serif\" font-size=\"12\" font-style=\"italic\" lengthAdjust=\"spacingAndGlyphs\" textLength=\"36\" x=\"466\" y=\"734.1016\">«part»</text><text fill=\"#000000\" font-family=\"sans-serif\" font-size=\"12\" lengthAdjust=\"spacingAndGlyphs\" textLength=\"90\" x=\"437\" y=\"748.2344\">cruiseController</text><line style=\"stroke: #383838; stroke-width: 1.5;\" x1=\"435\" x2=\"533\" y1=\"755.7656\" y2=\"755.7656\"/></a><!--MD5=[6284cf9f06086a212f4fa89d0d29ec03]\nclass E22--><a href=\"psysml:74fd186d-4000-42a3-896f-c82c2370794a\" target=\"_top\" title=\"psysml:74fd186d-4000-42a3-896f-c82c2370794a\" xlink:actuate=\"onRequest\" xlink:href=\"psysml:74fd186d-4000-42a3-896f-c82c2370794a\" xlink:show=\"new\" xlink:title=\"psysml:74fd186d-4000-42a3-896f-c82c2370794a\" xlink:type=\"simple\"><rect fill=\"#FFFFFF\" height=\"46.2656\" id=\"E22\" rx=\"10\" ry=\"10\" style=\"stroke: #383838; stroke-width: 1.5;\" width=\"115\" x=\"264.5\" y=\"920.5\"/><text fill=\"#000000\" font-family=\"sans-serif\" font-size=\"12\" font-style=\"italic\" lengthAdjust=\"spacingAndGlyphs\" textLength=\"110\" x=\"267\" y=\"937.1016\">«event occurrence»</text><text fill=\"#000000\" font-family=\"sans-serif\" font-size=\"12\" lengthAdjust=\"spacingAndGlyphs\" textLength=\"105\" x=\"267.5\" y=\"951.2344\">setSpeedReceived</text><line style=\"stroke: #383838; stroke-width: 1.5;\" x1=\"265.5\" x2=\"378.5\" y1=\"958.7656\" y2=\"958.7656\"/></a><!--MD5=[a4184b15efaeca9fb90158e34dfc9305]\nclass E23--><a href=\"psysml:c40b93c0-4c68-4d94-aa6e-3ed2c69f61d3\" target=\"_top\" title=\"psysml:c40b93c0-4c68-4d94-aa6e-3ed2c69f61d3\" xlink:actuate=\"onRequest\" xlink:href=\"psysml:c40b93c0-4c68-4d94-aa6e-3ed2c69f61d3\" xlink:show=\"new\" xlink:title=\"psysml:c40b93c0-4c68-4d94-aa6e-3ed2c69f61d3\" xlink:type=\"simple\"><rect fill=\"#FFFFFF\" height=\"46.2656\" id=\"E23\" rx=\"10\" ry=\"10\" style=\"stroke: #383838; stroke-width: 1.5;\" width=\"139\" x=\"414.5\" y=\"920.5\"/><text fill=\"#000000\" font-family=\"sans-serif\" font-size=\"12\" font-style=\"italic\" lengthAdjust=\"spacingAndGlyphs\" textLength=\"110\" x=\"429\" y=\"937.1016\">«event occurrence»</text><text fill=\"#000000\" font-family=\"sans-serif\" font-size=\"12\" lengthAdjust=\"spacingAndGlyphs\" textLength=\"129\" x=\"417.5\" y=\"951.2344\">sensedSpeedReceived</text><line style=\"stroke: #383838; stroke-width: 1.5;\" x1=\"415.5\" x2=\"552.5\" y1=\"958.7656\" y2=\"958.7656\"/></a><!--MD5=[d961d9d5dcc77964a221abceaadb3cc6]\nclass E24--><a href=\"psysml:660605d0-78f1-4b67-a30c-ee83708238f4\" target=\"_top\" title=\"psysml:660605d0-78f1-4b67-a30c-ee83708238f4\" xlink:actuate=\"onRequest\" xlink:href=\"psysml:660605d0-78f1-4b67-a30c-ee83708238f4\" xlink:show=\"new\" xlink:title=\"psysml:660605d0-78f1-4b67-a30c-ee83708238f4\" xlink:type=\"simple\"><rect fill=\"#FFFFFF\" height=\"46.2656\" id=\"E24\" rx=\"10\" ry=\"10\" style=\"stroke: #383838; stroke-width: 1.5;\" width=\"114\" x=\"115\" y=\"920.5\"/><text fill=\"#000000\" font-family=\"sans-serif\" font-size=\"12\" font-style=\"italic\" lengthAdjust=\"spacingAndGlyphs\" textLength=\"110\" x=\"117\" y=\"937.1016\">«event occurrence»</text><text fill=\"#000000\" font-family=\"sans-serif\" font-size=\"12\" lengthAdjust=\"spacingAndGlyphs\" textLength=\"104\" x=\"118\" y=\"951.2344\">fuelCommandSent</text><line style=\"stroke: #383838; stroke-width: 1.5;\" x1=\"116\" x2=\"228\" y1=\"958.7656\" y2=\"958.7656\"/></a><!--MD5=[27602d2299176a43176dae1470eb318a]\nclass E25--><a href=\"psysml:0b539486-76a7-4766-9911-3c2b829048e3\" target=\"_top\" title=\"psysml:0b539486-76a7-4766-9911-3c2b829048e3\" xlink:actuate=\"onRequest\" xlink:href=\"psysml:0b539486-76a7-4766-9911-3c2b829048e3\" xlink:show=\"new\" xlink:title=\"psysml:0b539486-76a7-4766-9911-3c2b829048e3\" xlink:type=\"simple\"><rect fill=\"#FFFFFF\" height=\"46.2656\" id=\"E25\" rx=\"10\" ry=\"10\" style=\"stroke: #383838; stroke-width: 1.5;\" width=\"87\" x=\"659.5\" y=\"717.5\"/><text fill=\"#000000\" font-family=\"sans-serif\" font-size=\"12\" font-style=\"italic\" lengthAdjust=\"spacingAndGlyphs\" textLength=\"36\" x=\"685\" y=\"734.1016\">«part»</text><text fill=\"#000000\" font-family=\"sans-serif\" font-size=\"12\" lengthAdjust=\"spacingAndGlyphs\" textLength=\"77\" x=\"662.5\" y=\"748.2344\">speedometer</text><line style=\"stroke: #383838; stroke-width: 1.5;\" x1=\"660.5\" x2=\"745.5\" y1=\"755.7656\" y2=\"755.7656\"/></a><!--MD5=[cd9920ba5ec815a2e5c5d0d6af8dfd7b]\nclass E26--><a href=\"psysml:a59bc026-8349-4739-a758-6d2f37654196\" target=\"_top\" title=\"psysml:a59bc026-8349-4739-a758-6d2f37654196\" xlink:actuate=\"onRequest\" xlink:href=\"psysml:a59bc026-8349-4739-a758-6d2f37654196\" xlink:show=\"new\" xlink:title=\"psysml:a59bc026-8349-4739-a758-6d2f37654196\" xlink:type=\"simple\"><rect fill=\"#FFFFFF\" height=\"46.2656\" id=\"E26\" rx=\"10\" ry=\"10\" style=\"stroke: #383838; stroke-width: 1.5;\" width=\"112\" x=\"589\" y=\"920.5\"/><text fill=\"#000000\" font-family=\"sans-serif\" font-size=\"12\" font-style=\"italic\" lengthAdjust=\"spacingAndGlyphs\" textLength=\"110\" x=\"590\" y=\"937.1016\">«event occurrence»</text><text fill=\"#000000\" font-family=\"sans-serif\" font-size=\"12\" lengthAdjust=\"spacingAndGlyphs\" textLength=\"101\" x=\"592.5\" y=\"951.2344\">sensedSpeedSent</text><line style=\"stroke: #383838; stroke-width: 1.5;\" x1=\"590\" x2=\"700\" y1=\"958.7656\" y2=\"958.7656\"/></a><!--MD5=[066bc520e5788adc19ecb36845367d7b]\nclass E27--><a href=\"psysml:68e3e9aa-7e54-4a87-9c32-5018f9660784\" target=\"_top\" title=\"psysml:68e3e9aa-7e54-4a87-9c32-5018f9660784\" xlink:actuate=\"onRequest\" xlink:href=\"psysml:68e3e9aa-7e54-4a87-9c32-5018f9660784\" xlink:show=\"new\" xlink:title=\"psysml:68e3e9aa-7e54-4a87-9c32-5018f9660784\" xlink:type=\"simple\"><rect fill=\"#FFFFFF\" height=\"46.2656\" id=\"E27\" rx=\"10\" ry=\"10\" style=\"stroke: #383838; stroke-width: 1.5;\" width=\"48\" x=\"32\" y=\"920.5\"/><text fill=\"#000000\" font-family=\"sans-serif\" font-size=\"12\" font-style=\"italic\" lengthAdjust=\"spacingAndGlyphs\" textLength=\"36\" x=\"38\" y=\"937.1016\">«part»</text><text fill=\"#000000\" font-family=\"sans-serif\" font-size=\"12\" lengthAdjust=\"spacingAndGlyphs\" textLength=\"38\" x=\"35\" y=\"951.2344\">engine</text><line style=\"stroke: #383838; stroke-width: 1.5;\" x1=\"33\" x2=\"79\" y1=\"958.7656\" y2=\"958.7656\"/></a><!--MD5=[8db47f9d4d7fc0d396d3178361557c44]\nclass E28--><a href=\"psysml:a25a5fe3-2c35-4c77-9a3e-9da456700dea\" target=\"_top\" title=\"psysml:a25a5fe3-2c35-4c77-9a3e-9da456700dea\" xlink:actuate=\"onRequest\" xlink:href=\"psysml:a25a5fe3-2c35-4c77-9a3e-9da456700dea\" xlink:show=\"new\" xlink:title=\"psysml:a25a5fe3-2c35-4c77-9a3e-9da456700dea\" xlink:type=\"simple\"><rect fill=\"#FFFFFF\" height=\"46.2656\" id=\"E28\" rx=\"10\" ry=\"10\" style=\"stroke: #383838; stroke-width: 1.5;\" width=\"142\" x=\"32\" y=\"1066\"/><text fill=\"#000000\" font-family=\"sans-serif\" font-size=\"12\" font-style=\"italic\" lengthAdjust=\"spacingAndGlyphs\" textLength=\"110\" x=\"48\" y=\"1082.6016\">«event occurrence»</text><text fill=\"#000000\" font-family=\"sans-serif\" font-size=\"12\" lengthAdjust=\"spacingAndGlyphs\" textLength=\"132\" x=\"35\" y=\"1096.7344\">fuelCommandReceived</text><line style=\"stroke: #383838; stroke-width: 1.5;\" x1=\"33\" x2=\"173\" y1=\"1104.2656\" y2=\"1104.2656\"/></a><!--MD5=[961cefdc15414eaa3e87aec9d17c2188]\nentity E4--><a href=\"psysml:e43c35e8-2ad2-4c26-b98b-b2ba786a047c\" target=\"_top\" title=\"psysml:e43c35e8-2ad2-4c26-b98b-b2ba786a047c\" xlink:actuate=\"onRequest\" xlink:href=\"psysml:e43c35e8-2ad2-4c26-b98b-b2ba786a047c\" xlink:show=\"new\" xlink:title=\"psysml:e43c35e8-2ad2-4c26-b98b-b2ba786a047c\" xlink:type=\"simple\"><polygon fill=\"#F8F8F8\" points=\"961,510,961,564.9766,1063,564.9766,1083,537.4883,1063,510\" style=\"stroke: #000000; stroke-width: 1.5;\"/><text fill=\"#000000\" font-family=\"sans-serif\" font-size=\"14\" font-style=\"italic\" lengthAdjust=\"spacingAndGlyphs\" textLength=\"93\" x=\"968\" y=\"533.5352\">«send action»</text><text fill=\"#000000\" font-family=\"sans-serif\" font-size=\"14\" lengthAdjust=\"spacingAndGlyphs\" textLength=\"73\" x=\"978\" y=\"551.0234\">SetSpeed()</text></a><!--MD5=[2803005a5f354d3255b1b7bbd839bbf7]\nentity E8--><a href=\"psysml:28c40a67-9ffd-4fac-9a01-855209b32acc\" target=\"_top\" title=\"psysml:28c40a67-9ffd-4fac-9a01-855209b32acc\" xlink:actuate=\"onRequest\" xlink:href=\"psysml:28c40a67-9ffd-4fac-9a01-855209b32acc\" xlink:show=\"new\" xlink:title=\"psysml:28c40a67-9ffd-4fac-9a01-855209b32acc\" xlink:type=\"simple\"><polygon fill=\"#F8F8F8\" points=\"1500.5,510,1500.5,564.9766,1633.5,564.9766,1613.5,537.4883,1633.5,510\" style=\"stroke: #000000; stroke-width: 1.5;\"/><text fill=\"#000000\" font-family=\"sans-serif\" font-size=\"14\" font-style=\"italic\" lengthAdjust=\"spacingAndGlyphs\" textLength=\"104\" x=\"1507.5\" y=\"533.5352\">«accept action»</text><text fill=\"#000000\" font-family=\"sans-serif\" font-size=\"14\" lengthAdjust=\"spacingAndGlyphs\" textLength=\"63\" x=\"1528\" y=\"551.0234\">SetSpeed</text></a><!--MD5=[1acd208aae0a17fcb597ebec3d0ce2e2]\nentity E9--><a href=\"psysml:928b3094-ac24-44fc-96d8-d29a1f9a1e94\" target=\"_top\" title=\"psysml:928b3094-ac24-44fc-96d8-d29a1f9a1e94\" xlink:actuate=\"onRequest\" xlink:href=\"psysml:928b3094-ac24-44fc-96d8-d29a1f9a1e94\" xlink:show=\"new\" xlink:title=\"psysml:928b3094-ac24-44fc-96d8-d29a1f9a1e94\" xlink:type=\"simple\"><polygon fill=\"#F8F8F8\" points=\"1498.5,713,1498.5,767.9766,1631.5,767.9766,1611.5,740.4883,1631.5,713\" style=\"stroke: #000000; stroke-width: 1.5;\"/><text fill=\"#000000\" font-family=\"sans-serif\" font-size=\"14\" font-style=\"italic\" lengthAdjust=\"spacingAndGlyphs\" textLength=\"104\" x=\"1505.5\" y=\"736.5352\">«accept action»</text><text fill=\"#000000\" font-family=\"sans-serif\" font-size=\"14\" lengthAdjust=\"spacingAndGlyphs\" textLength=\"91\" x=\"1512\" y=\"754.0234\">SensedSpeed</text></a><!--MD5=[5f0b914479bff737ca55660e3e3698b4]\nentity E10--><a href=\"psysml:8b379bae-dcad-447d-9cd8-13274e703a30\" target=\"_top\" title=\"psysml:8b379bae-dcad-447d-9cd8-13274e703a30\" xlink:actuate=\"onRequest\" xlink:href=\"psysml:8b379bae-dcad-447d-9cd8-13274e703a30\" xlink:show=\"new\" xlink:title=\"psysml:8b379bae-dcad-447d-9cd8-13274e703a30\" xlink:type=\"simple\"><polygon fill=\"#F8F8F8\" points=\"1489.5,916,1489.5,970.9766,1620.5,970.9766,1640.5,943.4883,1620.5,916\" style=\"stroke: #000000; stroke-width: 1.5;\"/><text fill=\"#000000\" font-family=\"sans-serif\" font-size=\"14\" font-style=\"italic\" lengthAdjust=\"spacingAndGlyphs\" textLength=\"93\" x=\"1511\" y=\"939.5352\">«send action»</text><text fill=\"#000000\" font-family=\"sans-serif\" font-size=\"14\" lengthAdjust=\"spacingAndGlyphs\" textLength=\"110\" x=\"1502.5\" y=\"957.0234\">FuelCommand()</text></a><!--MD5=[3822a2a4541e754d1dc15080999c19ba]\nentity E13--><a href=\"psysml:55d68bb5-e477-4024-ab09-10021c690f34\" target=\"_top\" title=\"psysml:55d68bb5-e477-4024-ab09-10021c690f34\" xlink:actuate=\"onRequest\" xlink:href=\"psysml:55d68bb5-e477-4024-ab09-10021c690f34\" xlink:show=\"new\" xlink:title=\"psysml:55d68bb5-e477-4024-ab09-10021c690f34\" xlink:type=\"simple\"><polygon fill=\"#F8F8F8\" points=\"1244,713,1244,767.9766,1366,767.9766,1386,740.4883,1366,713\" style=\"stroke: #000000; stroke-width: 1.5;\"/><text fill=\"#000000\" font-family=\"sans-serif\" font-size=\"14\" font-style=\"italic\" lengthAdjust=\"spacingAndGlyphs\" textLength=\"93\" x=\"1261\" y=\"736.5352\">«send action»</text><text fill=\"#000000\" font-family=\"sans-serif\" font-size=\"14\" lengthAdjust=\"spacingAndGlyphs\" textLength=\"101\" x=\"1257\" y=\"754.0234\">SensedSpeed()</text></a><!--MD5=[4370a8aeb92f762c02e01c7183c3bfdd]\nentity E16--><a href=\"psysml:db67c16b-c778-472b-a483-f2c3a6f9de56\" target=\"_top\" title=\"psysml:db67c16b-c778-472b-a483-f2c3a6f9de56\" xlink:actuate=\"onRequest\" xlink:href=\"psysml:db67c16b-c778-472b-a483-f2c3a6f9de56\" xlink:show=\"new\" xlink:title=\"psysml:db67c16b-c778-472b-a483-f2c3a6f9de56\" xlink:type=\"simple\"><polygon fill=\"#F8F8F8\" points=\"771.5,916,771.5,970.9766,912.5,970.9766,892.5,943.4883,912.5,916\" style=\"stroke: #000000; stroke-width: 1.5;\"/><text fill=\"#000000\" font-family=\"sans-serif\" font-size=\"14\" font-style=\"italic\" lengthAdjust=\"spacingAndGlyphs\" textLength=\"104\" x=\"782.5\" y=\"939.5352\">«accept action»</text><text fill=\"#000000\" font-family=\"sans-serif\" font-size=\"14\" lengthAdjust=\"spacingAndGlyphs\" textLength=\"100\" x=\"784.5\" y=\"957.0234\">FuelCommand</text></a><!--MD5=[209b3feb70ccb6233bfe1053d122c12c]\nreverse link E2 to E3--><a href=\"psysml:a0ac844b-5289-464c-80c8-6c297aad4cc3\" target=\"_top\" title=\"psysml:a0ac844b-5289-464c-80c8-6c297aad4cc3\" xlink:actuate=\"onRequest\" xlink:href=\"psysml:a0ac844b-5289-464c-80c8-6c297aad4cc3\" xlink:show=\"new\" xlink:title=\"psysml:a0ac844b-5289-464c-80c8-6c297aad4cc3\" xlink:type=\"simple\"><path d=\"M919.18,409.27 C920.26,417.69 921.29,426.65 922,435 C922.2319,437.7238 922.4504,440.4898 922.6562,443.2829 C922.7591,444.6795 922.8589,446.0829 922.9556,447.4912 C923.004,448.1953 923.0515,448.9007 923.0984,449.6071 C923.1218,449.9602 923.145,450.3137 923.1681,450.6673 \" fill=\"none\" id=\"E2&lt;-E3\" style=\"stroke: #383838; stroke-width: 1.0;\"/><polygon fill=\"#FFFFFF\" points=\"917.41,396.26,914.2503,402.742,919.0184,408.1517,922.1781,401.6697,917.41,396.26\" style=\"stroke: #383838; stroke-width: 1.0;\"/><text fill=\"#000000\" font-family=\"sans-serif\" font-size=\"13\" lengthAdjust=\"spacingAndGlyphs\" textLength=\"6\" x=\"920\" y=\"533.9084\">*</text></a><!--MD5=[1b7591eae5389033d8d09a9d6721a717]\nlink E4 to E5--><a href=\"psysml:e43c35e8-2ad2-4c26-b98b-b2ba786a047c\" target=\"_top\" title=\"psysml:e43c35e8-2ad2-4c26-b98b-b2ba786a047c\" xlink:actuate=\"onRequest\" xlink:href=\"psysml:e43c35e8-2ad2-4c26-b98b-b2ba786a047c\" xlink:show=\"new\" xlink:title=\"psysml:e43c35e8-2ad2-4c26-b98b-b2ba786a047c\" xlink:type=\"simple\"><path d=\"M1032.62,565.19 C1047.5,602.58 1074.47,670.34 1090.04,709.45 \" fill=\"none\" id=\"E4-&gt;E5\" style=\"stroke: #383838; stroke-width: 1.0; stroke-dasharray: 7.0,7.0;\"/><polygon fill=\"#383838\" points=\"1093.18,717.34,1093.0085,708.7977,1087.4339,711.0168,1093.18,717.34\" style=\"stroke: #383838; stroke-width: 1.0;\"/><text fill=\"#000000\" font-family=\"sans-serif\" font-size=\"13\" lengthAdjust=\"spacingAndGlyphs\" textLength=\"61\" x=\"1058\" y=\"626.5684\">«send to»</text><text fill=\"#000000\" font-family=\"sans-serif\" font-size=\"13\" lengthAdjust=\"spacingAndGlyphs\" textLength=\"6\" x=\"1084.0034\" y=\"706.6745\">*</text></a><!--MD5=[85d356282659285ab4b2cfe2f634dd2b]\nreverse link E5 to E6--><a href=\"psysml:39c0d9a9-2628-464d-b745-fd690fd88ca0\" target=\"_top\" title=\"psysml:39c0d9a9-2628-464d-b745-fd690fd88ca0\" xlink:actuate=\"onRequest\" xlink:href=\"psysml:39c0d9a9-2628-464d-b745-fd690fd88ca0\" xlink:show=\"new\" xlink:title=\"psysml:39c0d9a9-2628-464d-b745-fd690fd88ca0\" xlink:type=\"simple\"><path d=\"M1141.12,772 C1157.7,785.22 1177.05,801.06 1194,816 C1234.01,851.26 1278.35,894.72 1304.11,920.43 \" fill=\"none\" id=\"E5&lt;-E6\" style=\"stroke: #383838; stroke-width: 1.0;\"/><polygon fill=\"#383838\" points=\"1130.69,763.73,1132.9083,770.5914,1140.0951,771.1828,1137.8768,764.3214,1130.69,763.73\" style=\"stroke: #383838; stroke-width: 1.0;\"/><text fill=\"#000000\" font-family=\"sans-serif\" font-size=\"13\" lengthAdjust=\"spacingAndGlyphs\" textLength=\"8\" x=\"1289.1521\" y=\"909.7887\">1</text></a><!--MD5=[049ab558815ccadc2a7a6ffdb8f4a5ba]\nreverse link E8 to E5--><a href=\"psysml:28c40a67-9ffd-4fac-9a01-855209b32acc\" target=\"_top\" title=\"psysml:28c40a67-9ffd-4fac-9a01-855209b32acc\" xlink:actuate=\"onRequest\" xlink:href=\"psysml:28c40a67-9ffd-4fac-9a01-855209b32acc\" xlink:show=\"new\" xlink:title=\"psysml:28c40a67-9ffd-4fac-9a01-855209b32acc\" xlink:type=\"simple\"><path d=\"M1540.71,571.45 C1528.77,584.09 1513.6,597.31 1497,605 C1435.35,633.57 1253.46,606.98 1193,638 C1158.04,655.93 1130.16,693.29 1114.87,717.33 \" fill=\"none\" id=\"E8&lt;-E5\" style=\"stroke: #383838; stroke-width: 1.0; stroke-dasharray: 7.0,7.0;\"/><polygon fill=\"#383838\" points=\"1546.3,565.32,1538.6904,569.2051,1543.1213,573.2507,1546.3,565.32\" style=\"stroke: #383838; stroke-width: 1.0;\"/><text fill=\"#000000\" font-family=\"sans-serif\" font-size=\"13\" lengthAdjust=\"spacingAndGlyphs\" textLength=\"80\" x=\"1471\" y=\"626.5684\">«receive for»</text><text fill=\"#000000\" font-family=\"sans-serif\" font-size=\"13\" lengthAdjust=\"spacingAndGlyphs\" textLength=\"6\" x=\"1111.5226\" y=\"706.6618\">*</text></a><!--MD5=[ed10624c06dd9a4fa49ccf290e8b16a8]\nlink E8 to E9--><a href=\"psysml:b3626155-f4ad-4d3e-af33-941b32abd64f\" target=\"_top\" title=\"psysml:b3626155-f4ad-4d3e-af33-941b32abd64f\" xlink:actuate=\"onRequest\" xlink:href=\"psysml:b3626155-f4ad-4d3e-af33-941b32abd64f\" xlink:show=\"new\" xlink:title=\"psysml:b3626155-f4ad-4d3e-af33-941b32abd64f\" xlink:type=\"simple\"><path d=\"M1566.73,565.19 C1566.37,601.98 1565.71,668.19 1565.32,707.56 \" fill=\"none\" id=\"E8-&gt;E9\" style=\"stroke: #383838; stroke-width: 1.0;\"/><polygon fill=\"#383838\" points=\"1565.27,712.7,1569.3726,703.7463,1565.3271,707.7003,1561.3731,703.6549,1565.27,712.7\" style=\"stroke: #383838; stroke-width: 1.0;\"/><text fill=\"#000000\" font-family=\"sans-serif\" font-size=\"13\" lengthAdjust=\"spacingAndGlyphs\" textLength=\"6\" x=\"1558.6387\" y=\"702.1439\">*</text></a><!--MD5=[33ed5083e49fa2cd1385aac0333ff634]\nreverse link E9 to E6--><a href=\"psysml:928b3094-ac24-44fc-96d8-d29a1f9a1e94\" target=\"_top\" title=\"psysml:928b3094-ac24-44fc-96d8-d29a1f9a1e94\" xlink:actuate=\"onRequest\" xlink:href=\"psysml:928b3094-ac24-44fc-96d8-d29a1f9a1e94\" xlink:show=\"new\" xlink:title=\"psysml:928b3094-ac24-44fc-96d8-d29a1f9a1e94\" xlink:type=\"simple\"><path d=\"M1536.08,773.75 C1524.21,785.64 1509.79,798.51 1495,808 C1486.94,813.17 1483.2,811.06 1475,816 C1425.01,846.12 1374.93,892.87 1347.45,920.31 \" fill=\"none\" id=\"E9&lt;-E6\" style=\"stroke: #383838; stroke-width: 1.0; stroke-dasharray: 7.0,7.0;\"/><polygon fill=\"#383838\" points=\"1541.69,768.01,1533.9526,771.6338,1538.2432,775.8279,1541.69,768.01\" style=\"stroke: #383838; stroke-width: 1.0;\"/><text fill=\"#000000\" font-family=\"sans-serif\" font-size=\"13\" lengthAdjust=\"spacingAndGlyphs\" textLength=\"80\" x=\"1476\" y=\"829.5684\">«receive for»</text><text fill=\"#000000\" font-family=\"sans-serif\" font-size=\"13\" lengthAdjust=\"spacingAndGlyphs\" textLength=\"6\" x=\"1346.4084\" y=\"909.6365\">*</text></a><!--MD5=[35e5f1cbde42fa304a029880aa2bc7f2]\nlink E9 to E10--><a href=\"psysml:abf2c8e3-bc41-4c38-ac6b-5ce1f68b8a53\" target=\"_top\" title=\"psysml:abf2c8e3-bc41-4c38-ac6b-5ce1f68b8a53\" xlink:actuate=\"onRequest\" xlink:href=\"psysml:abf2c8e3-bc41-4c38-ac6b-5ce1f68b8a53\" xlink:show=\"new\" xlink:title=\"psysml:abf2c8e3-bc41-4c38-ac6b-5ce1f68b8a53\" xlink:type=\"simple\"><path d=\"M1565,768.19 C1565,804.98 1565,871.19 1565,910.56 \" fill=\"none\" id=\"E9-&gt;E10\" style=\"stroke: #383838; stroke-width: 1.0;\"/><polygon fill=\"#383838\" points=\"1565,915.7,1569,906.7,1565,910.7,1561,906.7,1565,915.7\" style=\"stroke: #383838; stroke-width: 1.0;\"/><text fill=\"#000000\" font-family=\"sans-serif\" font-size=\"13\" lengthAdjust=\"spacingAndGlyphs\" textLength=\"6\" x=\"1558.3063\" y=\"905.1439\">*</text></a><!--MD5=[3f50a3473f1dfb74d3f76443e03635af]\nreverse link E6 to E7--><a href=\"psysml:1994c80d-1ac2-4008-bbb5-ee47906ea49e\" target=\"_top\" title=\"psysml:1994c80d-1ac2-4008-bbb5-ee47906ea49e\" xlink:actuate=\"onRequest\" xlink:href=\"psysml:1994c80d-1ac2-4008-bbb5-ee47906ea49e\" xlink:show=\"new\" xlink:title=\"psysml:1994c80d-1ac2-4008-bbb5-ee47906ea49e\" xlink:type=\"simple\"><path d=\"M1346.52,909.02 C1359.45,887.54 1376.23,858.93 1390,833 C1437.08,744.36 1415.73,710.14 1441,613 C1445.245,596.695 1451.0075,578.7075 1455.8225,564.4925 C1456.1234,563.6041 1456.4207,562.7304 1456.7136,561.8727 C1456.7868,561.6583 1456.8598,561.4449 1456.9325,561.2325 \" fill=\"none\" id=\"E6&lt;-E7\" style=\"stroke: #383838; stroke-width: 1.0;\"/><polygon fill=\"#FFFFFF\" points=\"1339.78,920.15,1346.3074,917.0851,1345.9888,909.8811,1339.4614,912.9459,1339.78,920.15\" style=\"stroke: #383838; stroke-width: 1.0;\"/><text fill=\"#000000\" font-family=\"sans-serif\" font-size=\"13\" lengthAdjust=\"spacingAndGlyphs\" textLength=\"6\" x=\"1458.96\" y=\"536.1884\">*</text></a><!--MD5=[3325ed84abf42d30cf9871854ece8e0f]\nreverse link E5 to E11--><a href=\"psysml:ff98b790-e178-47dd-b428-a4acd58be008\" target=\"_top\" title=\"psysml:ff98b790-e178-47dd-b428-a4acd58be008\" xlink:actuate=\"onRequest\" xlink:href=\"psysml:ff98b790-e178-47dd-b428-a4acd58be008\" xlink:show=\"new\" xlink:title=\"psysml:ff98b790-e178-47dd-b428-a4acd58be008\" xlink:type=\"simple\"><path d=\"M1093.65,776.48 C1083.75,817.91 1067.57,885.68 1059.27,920.43 \" fill=\"none\" id=\"E5&lt;-E11\" style=\"stroke: #383838; stroke-width: 1.0;\"/><polygon fill=\"#383838\" points=\"1096.68,763.78,1091.3988,768.6901,1093.9,775.4535,1099.1812,770.5434,1096.68,763.78\" style=\"stroke: #383838; stroke-width: 1.0;\"/><text fill=\"#000000\" font-family=\"sans-serif\" font-size=\"13\" lengthAdjust=\"spacingAndGlyphs\" textLength=\"8\" x=\"1051.6113\" y=\"909.7887\">1</text></a><!--MD5=[0d20eb053aa991a84dce839e5d0e7fec]\nlink E13 to E6--><a href=\"psysml:55d68bb5-e477-4024-ab09-10021c690f34\" target=\"_top\" title=\"psysml:55d68bb5-e477-4024-ab09-10021c690f34\" xlink:actuate=\"onRequest\" xlink:href=\"psysml:55d68bb5-e477-4024-ab09-10021c690f34\" xlink:show=\"new\" xlink:title=\"psysml:55d68bb5-e477-4024-ab09-10021c690f34\" xlink:type=\"simple\"><path d=\"M1316.46,768.19 C1318.5,805.42 1322.18,872.77 1324.33,911.96 \" fill=\"none\" id=\"E13-&gt;E6\" style=\"stroke: #383838; stroke-width: 1.0; stroke-dasharray: 7.0,7.0;\"/><polygon fill=\"#383838\" points=\"1324.79,920.34,1327.3577,912.191,1321.3663,912.5119,1324.79,920.34\" style=\"stroke: #383838; stroke-width: 1.0;\"/><text fill=\"#000000\" font-family=\"sans-serif\" font-size=\"13\" lengthAdjust=\"spacingAndGlyphs\" textLength=\"61\" x=\"1320\" y=\"829.5684\">«send to»</text><text fill=\"#000000\" font-family=\"sans-serif\" font-size=\"13\" lengthAdjust=\"spacingAndGlyphs\" textLength=\"6\" x=\"1317.6586\" y=\"909.6745\">*</text></a><!--MD5=[94adabc162ce7e41b39f13be14fbaeb3]\nreverse link E11 to E12--><a href=\"psysml:c442f20d-cef0-4d72-9f2e-cadce2cc5d1e\" target=\"_top\" title=\"psysml:c442f20d-cef0-4d72-9f2e-cadce2cc5d1e\" xlink:actuate=\"onRequest\" xlink:href=\"psysml:c442f20d-cef0-4d72-9f2e-cadce2cc5d1e\" xlink:show=\"new\" xlink:title=\"psysml:c442f20d-cef0-4d72-9f2e-cadce2cc5d1e\" xlink:type=\"simple\"><path d=\"M1103.8,913.21 C1138.81,889.62 1183.16,853.03 1205,808 C1206.565,804.7738 1207.8097,801.3538 1208.7887,797.8342 C1209.2782,796.0745 1209.7013,794.2898 1210.0648,792.4921 C1210.0875,792.3798 1210.11,792.2673 1210.1322,792.1549 \" fill=\"none\" id=\"E11&lt;-E12\" style=\"stroke: #383838; stroke-width: 1.0;\"/><polygon fill=\"#FFFFFF\" points=\"1092.8,920.4,1100.0108,920.4616,1102.8411,913.8291,1095.6302,913.7675,1092.8,920.4\" style=\"stroke: #383838; stroke-width: 1.0;\"/><text fill=\"#000000\" font-family=\"sans-serif\" font-size=\"13\" lengthAdjust=\"spacingAndGlyphs\" textLength=\"6\" x=\"1203.03\" y=\"739.1884\">*</text></a><!--MD5=[9d3fa4c4687c829319c5535c42cb4e79]\nlink E10 to E14--><a href=\"psysml:8b379bae-dcad-447d-9cd8-13274e703a30\" target=\"_top\" title=\"psysml:8b379bae-dcad-447d-9cd8-13274e703a30\" xlink:actuate=\"onRequest\" xlink:href=\"psysml:8b379bae-dcad-447d-9cd8-13274e703a30\" xlink:show=\"new\" xlink:title=\"psysml:8b379bae-dcad-447d-9cd8-13274e703a30\" xlink:type=\"simple\"><path d=\"M1540.95,971.24 C1526.49,985.5 1506.89,1001.94 1486,1011 C1382.19,1056.04 1044.4,1077.82 904.04,1085.1 \" fill=\"none\" id=\"E10-&gt;E14\" style=\"stroke: #383838; stroke-width: 1.0; stroke-dasharray: 7.0,7.0;\"/><polygon fill=\"#383838\" points=\"895.89,1085.52,904.0344,1088.1023,903.7241,1082.1103,895.89,1085.52\" style=\"stroke: #383838; stroke-width: 1.0;\"/><text fill=\"#000000\" font-family=\"sans-serif\" font-size=\"13\" lengthAdjust=\"spacingAndGlyphs\" textLength=\"61\" x=\"1459\" y=\"1032.5684\">«send to»</text><text fill=\"#000000\" font-family=\"sans-serif\" font-size=\"13\" lengthAdjust=\"spacingAndGlyphs\" textLength=\"6\" x=\"903.5346\" y=\"1098.6316\">*</text></a><!--MD5=[959e86e192c030343eccbcf55f683626]\nreverse link E5 to E14--><a href=\"psysml:dcf149b4-c943-474e-87c5-3a4d03ad6c46\" target=\"_top\" title=\"psysml:dcf149b4-c943-474e-87c5-3a4d03ad6c46\" xlink:actuate=\"onRequest\" xlink:href=\"psysml:dcf149b4-c943-474e-87c5-3a4d03ad6c46\" xlink:show=\"new\" xlink:title=\"psysml:dcf149b4-c943-474e-87c5-3a4d03ad6c46\" xlink:type=\"simple\"><path d=\"M1128.93,774.24 C1142.3,792.64 1157.06,816.74 1164,841 C1184.78,913.64 1210.8,951.69 1164,1011 C1131.15,1052.63 978.4,1074.25 895.64,1083.08 \" fill=\"none\" id=\"E5&lt;-E14\" style=\"stroke: #383838; stroke-width: 1.0;\"/><polygon fill=\"#383838\" points=\"1121.07,763.84,1121.4922,771.0387,1128.2995,773.4178,1127.8774,766.2191,1121.07,763.84\" style=\"stroke: #383838; stroke-width: 1.0;\"/><text fill=\"#000000\" font-family=\"sans-serif\" font-size=\"13\" lengthAdjust=\"spacingAndGlyphs\" textLength=\"8\" x=\"903.3854\" y=\"1078.8481\">1</text></a><!--MD5=[75350286664f00b7dda53d669a974886]\nreverse link E16 to E14--><a href=\"psysml:db67c16b-c778-472b-a483-f2c3a6f9de56\" target=\"_top\" title=\"psysml:db67c16b-c778-472b-a483-f2c3a6f9de56\" xlink:actuate=\"onRequest\" xlink:href=\"psysml:db67c16b-c778-472b-a483-f2c3a6f9de56\" xlink:show=\"new\" xlink:title=\"psysml:db67c16b-c778-472b-a483-f2c3a6f9de56\" xlink:type=\"simple\"><path d=\"M842,979.17 C842,1006.09 842,1042.59 842,1065.73 \" fill=\"none\" id=\"E16&lt;-E14\" style=\"stroke: #383838; stroke-width: 1.0; stroke-dasharray: 7.0,7.0;\"/><polygon fill=\"#383838\" points=\"842,971.15,839,979.15,845,979.15,842,971.15\" style=\"stroke: #383838; stroke-width: 1.0;\"/><text fill=\"#000000\" font-family=\"sans-serif\" font-size=\"13\" lengthAdjust=\"spacingAndGlyphs\" textLength=\"80\" x=\"843\" y=\"1032.5684\">«receive for»</text><text fill=\"#000000\" font-family=\"sans-serif\" font-size=\"13\" lengthAdjust=\"spacingAndGlyphs\" textLength=\"6\" x=\"835.2313\" y=\"1055.4193\">*</text></a><!--MD5=[17bf29720e4688890742b92d9a67fdf0]\nreverse link E14 to E15--><a href=\"psysml:6ac79cdd-13d2-4631-a173-81fdb420fb93\" target=\"_top\" title=\"psysml:6ac79cdd-13d2-4631-a173-81fdb420fb93\" xlink:actuate=\"onRequest\" xlink:href=\"psysml:6ac79cdd-13d2-4631-a173-81fdb420fb93\" xlink:show=\"new\" xlink:title=\"psysml:6ac79cdd-13d2-4631-a173-81fdb420fb93\" xlink:type=\"simple\"><path d=\"M798.24,1057.57 C782.64,1044.78 766.18,1028.75 755,1011 C753.015,1007.8512 751.2322,1004.49 749.6317,1001.0139 C748.8315,999.2758 748.0768,997.5091 747.3652,995.7258 C747.2763,995.5029 747.188,995.2797 747.1004,995.0563 \" fill=\"none\" id=\"E14&lt;-E15\" style=\"stroke: #383838; stroke-width: 1.0;\"/><polygon fill=\"#FFFFFF\" points=\"808.82,1065.88,806.57,1059.0289,799.3805,1058.4708,801.6305,1065.3219,808.82,1065.88\" style=\"stroke: #383838; stroke-width: 1.0;\"/><text fill=\"#000000\" font-family=\"sans-serif\" font-size=\"13\" lengthAdjust=\"spacingAndGlyphs\" textLength=\"6\" x=\"730.01\" y=\"942.1884\">*</text></a><!--MD5=[7d21b24efcb6ac44bf5a808b4c5e50f4]\nreverse link E17 to E18--><a href=\"psysml:e52ccb31-655f-4255-95cf-ca86fbe667fa\" target=\"_top\" title=\"psysml:e52ccb31-655f-4255-95cf-ca86fbe667fa\" xlink:actuate=\"onRequest\" xlink:href=\"psysml:e52ccb31-655f-4255-95cf-ca86fbe667fa\" xlink:show=\"new\" xlink:title=\"psysml:e52ccb31-655f-4255-95cf-ca86fbe667fa\" xlink:type=\"simple\"><path d=\"M828.11,190.58 C851.93,211.22 875.55,231.68 891.97,245.91 \" fill=\"none\" id=\"E17&lt;-E18\" style=\"stroke: #383838; stroke-width: 1.0;\"/><polygon fill=\"#383838\" points=\"818.27,182.06,820.186,189.0119,827.34,189.9172,825.4241,182.9652,818.27,182.06\" style=\"stroke: #383838; stroke-width: 1.0;\"/><text fill=\"#000000\" font-family=\"sans-serif\" font-size=\"13\" lengthAdjust=\"spacingAndGlyphs\" textLength=\"8\" x=\"875.9983\" y=\"235.0358\">1</text></a><!--MD5=[e3b15aa751a981d5a77101a2f572b9a7]\nlink E18 to E2--><a href=\"psysml:133219ce-c800-435d-9695-07aa21977a26\" target=\"_top\" title=\"psysml:133219ce-c800-435d-9695-07aa21977a26\" xlink:actuate=\"onRequest\" xlink:href=\"psysml:133219ce-c800-435d-9695-07aa21977a26\" xlink:show=\"new\" xlink:title=\"psysml:133219ce-c800-435d-9695-07aa21977a26\" xlink:type=\"simple\"><path d=\"M914,289.01 C914,300.69 914,315.46 914,329.28 \" fill=\"none\" id=\"E18-&gt;E2\" style=\"stroke: #383838; stroke-width: 1.0;\"/><polygon fill=\"#FFFFFF\" points=\"914,349.66,907,330.66,921,330.66,914,349.66\" style=\"stroke: #383838; stroke-width: 1.0;\"/><line style=\"stroke: #383838; stroke-width: 2.0;\" x1=\"907\" x2=\"921\" y1=\"326.86\" y2=\"326.86\"/></a><!--MD5=[ccf7aa128b682f3a0ccda039adc0b7d4]\nreverse link E18 to E19--><a href=\"psysml:d5594c77-a3bb-45c2-8b01-3ee438b5ed2f\" target=\"_top\" title=\"psysml:d5594c77-a3bb-45c2-8b01-3ee438b5ed2f\" xlink:actuate=\"onRequest\" xlink:href=\"psysml:d5594c77-a3bb-45c2-8b01-3ee438b5ed2f\" xlink:show=\"new\" xlink:title=\"psysml:d5594c77-a3bb-45c2-8b01-3ee438b5ed2f\" xlink:type=\"simple\"><path d=\"M946.63,291.3 C970.36,308.97 1002.24,332.71 1025.27,349.86 \" fill=\"none\" id=\"E18&lt;-E19\" style=\"stroke: #383838; stroke-width: 1.0;\"/><polygon fill=\"#FFFFFF\" points=\"936.03,283.41,938.4509,290.2026,945.6521,290.5804,943.2312,283.7879,936.03,283.41\" style=\"stroke: #383838; stroke-width: 1.0;\"/><text fill=\"#000000\" font-family=\"sans-serif\" font-size=\"13\" lengthAdjust=\"spacingAndGlyphs\" textLength=\"8\" x=\"1008.2051\" y=\"339.1999\">1</text></a><!--MD5=[f8fab4f5af8e90cf6fdb77eaa2b4eb32]\nreverse link E17 to E20--><a href=\"psysml:c64d4197-12b9-45c0-a908-1e8805837773\" target=\"_top\" title=\"psysml:c64d4197-12b9-45c0-a908-1e8805837773\" xlink:actuate=\"onRequest\" xlink:href=\"psysml:c64d4197-12b9-45c0-a908-1e8805837773\" xlink:show=\"new\" xlink:title=\"psysml:c64d4197-12b9-45c0-a908-1e8805837773\" xlink:type=\"simple\"><path d=\"M731.19,195.04 C722.98,294.43 709.7,455.33 704.85,514.1 \" fill=\"none\" id=\"E17&lt;-E20\" style=\"stroke: #383838; stroke-width: 1.0;\"/><polygon fill=\"#383838\" points=\"732.26,182.04,727.7786,187.6895,731.27,193.9991,735.7514,188.3495,732.26,182.04\" style=\"stroke: #383838; stroke-width: 1.0;\"/><text fill=\"#000000\" font-family=\"sans-serif\" font-size=\"13\" lengthAdjust=\"spacingAndGlyphs\" textLength=\"8\" x=\"696.2991\" y=\"503.756\">1</text></a><!--MD5=[bfe754d2cb838f1b38d4bf1012338a46]\nlink E20 to E5--><a href=\"psysml:797744d2-6fc8-454b-b02e-13ccd9899cf9\" target=\"_top\" title=\"psysml:797744d2-6fc8-454b-b02e-13ccd9899cf9\" xlink:actuate=\"onRequest\" xlink:href=\"psysml:797744d2-6fc8-454b-b02e-13ccd9899cf9\" xlink:show=\"new\" xlink:title=\"psysml:797744d2-6fc8-454b-b02e-13ccd9899cf9\" xlink:type=\"simple\"><path d=\"M727.66,550.92 C789.12,581.89 950.62,663.24 1040.1,708.32 \" fill=\"none\" id=\"E20-&gt;E5\" style=\"stroke: #383838; stroke-width: 1.0;\"/><polygon fill=\"#FFFFFF\" points=\"1058.04,717.35,1037.9226,715.0496,1044.2236,702.5477,1058.04,717.35\" style=\"stroke: #383838; stroke-width: 1.0;\"/><line style=\"stroke: #383838; stroke-width: 2.0;\" x1=\"1034.5293\" x2=\"1040.8302\" y1=\"713.3394\" y2=\"700.8375\"/></a><!--MD5=[1a6308b15a34c383117d799f6b35794f]\nreverse link E20 to E21--><a href=\"psysml:862aa913-c76e-4590-bbb8-98cdb49a8936\" target=\"_top\" title=\"psysml:862aa913-c76e-4590-bbb8-98cdb49a8936\" xlink:actuate=\"onRequest\" xlink:href=\"psysml:862aa913-c76e-4590-bbb8-98cdb49a8936\" xlink:show=\"new\" xlink:title=\"psysml:862aa913-c76e-4590-bbb8-98cdb49a8936\" xlink:type=\"simple\"><path d=\"M668.92,569.78 C624.26,610.77 547.06,681.62 508.05,717.43 \" fill=\"none\" id=\"E20&lt;-E21\" style=\"stroke: #383838; stroke-width: 1.0;\"/><polygon fill=\"#383838\" points=\"678.73,560.78,671.6058,561.8963,669.8962,568.9018,677.0204,567.7855,678.73,560.78\" style=\"stroke: #383838; stroke-width: 1.0;\"/><text fill=\"#000000\" font-family=\"sans-serif\" font-size=\"13\" lengthAdjust=\"spacingAndGlyphs\" textLength=\"8\" x=\"505.4384\" y=\"706.7887\">1</text></a><!--MD5=[e9fbc2df00f1913a5bfb0aa32205e802]\nlink E21 to E6--><a href=\"psysml:f1e0125b-3f10-4af4-926b-95b3ce0dafb6\" target=\"_top\" title=\"psysml:f1e0125b-3f10-4af4-926b-95b3ce0dafb6\" xlink:actuate=\"onRequest\" xlink:href=\"psysml:f1e0125b-3f10-4af4-926b-95b3ce0dafb6\" xlink:show=\"new\" xlink:title=\"psysml:f1e0125b-3f10-4af4-926b-95b3ce0dafb6\" xlink:type=\"simple\"><path d=\"M525.62,763.57 C556.75,778.93 600.86,798.33 642,808 C868.3,861.17 942.72,769.77 1164,841 C1208.52,855.33 1253.11,884.63 1284.2,908.09 \" fill=\"none\" id=\"E21-&gt;E6\" style=\"stroke: #383838; stroke-width: 1.0;\"/><polygon fill=\"#FFFFFF\" points=\"1300,920.38,1280.7066,914.2346,1289.3053,903.1863,1300,920.38\" style=\"stroke: #383838; stroke-width: 1.0;\"/><line style=\"stroke: #383838; stroke-width: 2.0;\" x1=\"1277.7078\" x2=\"1286.3065\" y1=\"911.9006\" y2=\"900.8524\"/></a><!--MD5=[abb9b71b5ac2637ea19445d88e394a21]\nreverse link E21 to E22--><a href=\"psysml:7c29feac-d180-4663-a209-5a63b2b9df9b\" target=\"_top\" title=\"psysml:7c29feac-d180-4663-a209-5a63b2b9df9b\" xlink:actuate=\"onRequest\" xlink:href=\"psysml:7c29feac-d180-4663-a209-5a63b2b9df9b\" xlink:show=\"new\" xlink:title=\"psysml:7c29feac-d180-4663-a209-5a63b2b9df9b\" xlink:type=\"simple\"><path d=\"M454.98,773.33 C437.73,792.58 415.65,817.81 397,841 C375.58,867.63 352.41,899.5 337.58,920.33 \" fill=\"none\" id=\"E21&lt;-E22\" style=\"stroke: #383838; stroke-width: 1.0;\"/><polygon fill=\"#FFFFFF\" points=\"463.77,763.58,456.7822,765.3605,455.7381,772.4956,462.7259,770.7151,463.77,763.58\" style=\"stroke: #383838; stroke-width: 1.0;\"/><text fill=\"#000000\" font-family=\"sans-serif\" font-size=\"13\" lengthAdjust=\"spacingAndGlyphs\" textLength=\"8\" x=\"332.6921\" y=\"909.6618\">1</text></a><!--MD5=[f52446ac910324377f48544e9ba9f9f9]\nreverse link E21 to E23--><a href=\"psysml:0d9e1795-3e52-4a8b-8588-a80ff9e42d24\" target=\"_top\" title=\"psysml:0d9e1795-3e52-4a8b-8588-a80ff9e42d24\" xlink:actuate=\"onRequest\" xlink:href=\"psysml:0d9e1795-3e52-4a8b-8588-a80ff9e42d24\" xlink:show=\"new\" xlink:title=\"psysml:0d9e1795-3e52-4a8b-8588-a80ff9e42d24\" xlink:type=\"simple\"><path d=\"M484,777.02 C484,818.5 484,885.83 484,920.43 \" fill=\"none\" id=\"E21&lt;-E23\" style=\"stroke: #383838; stroke-width: 1.0;\"/><polygon fill=\"#FFFFFF\" points=\"484,763.78,480,769.78,484,775.78,488,769.78,484,763.78\" style=\"stroke: #383838; stroke-width: 1.0;\"/><text fill=\"#000000\" font-family=\"sans-serif\" font-size=\"13\" lengthAdjust=\"spacingAndGlyphs\" textLength=\"8\" x=\"474.925\" y=\"909.7887\">1</text></a><!--MD5=[f9eb143a2823c8cbe279afa8816c0a32]\nreverse link E21 to E24--><a href=\"psysml:c70d3c8f-9df7-45b9-8fe5-4bfc6f2897ae\" target=\"_top\" title=\"psysml:c70d3c8f-9df7-45b9-8fe5-4bfc6f2897ae\" xlink:actuate=\"onRequest\" xlink:href=\"psysml:c70d3c8f-9df7-45b9-8fe5-4bfc6f2897ae\" xlink:show=\"new\" xlink:title=\"psysml:c70d3c8f-9df7-45b9-8fe5-4bfc6f2897ae\" xlink:type=\"simple\"><path d=\"M420.89,757.86 C370.13,773.28 298.97,800.17 247,841 C219.09,862.93 196.47,897.75 183.62,920.36 \" fill=\"none\" id=\"E21&lt;-E24\" style=\"stroke: #383838; stroke-width: 1.0;\"/><polygon fill=\"#FFFFFF\" points=\"433.65,754.1,426.7624,751.9645,422.142,757.501,429.0297,759.6365,433.65,754.1\" style=\"stroke: #383838; stroke-width: 1.0;\"/><text fill=\"#000000\" font-family=\"sans-serif\" font-size=\"13\" lengthAdjust=\"spacingAndGlyphs\" textLength=\"8\" x=\"177.6679\" y=\"909.6999\">1</text></a><!--MD5=[c54ed7411df621f80eacaeb2e33669f4]\nreverse link E20 to E25--><a href=\"psysml:ae547f80-1f5a-4910-9298-0034f0d060a9\" target=\"_top\" title=\"psysml:ae547f80-1f5a-4910-9298-0034f0d060a9\" xlink:actuate=\"onRequest\" xlink:href=\"psysml:ae547f80-1f5a-4910-9298-0034f0d060a9\" xlink:show=\"new\" xlink:title=\"psysml:ae547f80-1f5a-4910-9298-0034f0d060a9\" xlink:type=\"simple\"><path d=\"M703,574.02 C703,615.5 703,682.83 703,717.43 \" fill=\"none\" id=\"E20&lt;-E25\" style=\"stroke: #383838; stroke-width: 1.0;\"/><polygon fill=\"#383838\" points=\"703,560.78,699,566.78,703,572.78,707,566.78,703,560.78\" style=\"stroke: #383838; stroke-width: 1.0;\"/><text fill=\"#000000\" font-family=\"sans-serif\" font-size=\"13\" lengthAdjust=\"spacingAndGlyphs\" textLength=\"8\" x=\"693.925\" y=\"706.7887\">1</text></a><!--MD5=[e62ccd6da4b8254f401e0c2c25e8c491]\nlink E25 to E11--><a href=\"psysml:5f0d5b13-1843-4540-86fe-8a5ea5b0a572\" target=\"_top\" title=\"psysml:5f0d5b13-1843-4540-86fe-8a5ea5b0a572\" xlink:actuate=\"onRequest\" xlink:href=\"psysml:5f0d5b13-1843-4540-86fe-8a5ea5b0a572\" xlink:show=\"new\" xlink:title=\"psysml:5f0d5b13-1843-4540-86fe-8a5ea5b0a572\" xlink:type=\"simple\"><path d=\"M746.77,756.77 C793.59,774.01 869.18,804.46 929,841 C960.01,859.94 991.76,885.82 1015.5,906.71 \" fill=\"none\" id=\"E25-&gt;E11\" style=\"stroke: #383838; stroke-width: 1.0;\"/><polygon fill=\"#FFFFFF\" points=\"1030.55,920.22,1011.7375,912.7307,1021.0931,902.3156,1030.55,920.22\" style=\"stroke: #383838; stroke-width: 1.0;\"/><line style=\"stroke: #383838; stroke-width: 2.0;\" x1=\"1008.9106\" x2=\"1018.2661\" y1=\"910.1913\" y2=\"899.7763\"/></a><!--MD5=[2e8265b45e2b01cc5dd8ceccbdbbd83a]\nreverse link E25 to E26--><a href=\"psysml:cdc0141e-83d5-4d5c-8de3-c22c72efe370\" target=\"_top\" title=\"psysml:cdc0141e-83d5-4d5c-8de3-c22c72efe370\" xlink:actuate=\"onRequest\" xlink:href=\"psysml:cdc0141e-83d5-4d5c-8de3-c22c72efe370\" xlink:show=\"new\" xlink:title=\"psysml:cdc0141e-83d5-4d5c-8de3-c22c72efe370\" xlink:type=\"simple\"><path d=\"M692.91,776.48 C680.95,817.91 661.4,885.68 651.37,920.43 \" fill=\"none\" id=\"E25&lt;-E26\" style=\"stroke: #383838; stroke-width: 1.0;\"/><polygon fill=\"#FFFFFF\" points=\"696.57,763.78,691.0643,768.437,693.2455,775.3103,698.7512,770.6533,696.57,763.78\" style=\"stroke: #383838; stroke-width: 1.0;\"/><text fill=\"#000000\" font-family=\"sans-serif\" font-size=\"13\" lengthAdjust=\"spacingAndGlyphs\" textLength=\"8\" x=\"644.0069\" y=\"909.7887\">1</text></a><!--MD5=[ee374f5dfdd550e0fd411fe2e9e1a379]\nreverse link E20 to E27--><a href=\"psysml:58974816-0ff6-4cd7-92e5-a9b8f8e5f324\" target=\"_top\" title=\"psysml:58974816-0ff6-4cd7-92e5-a9b8f8e5f324\" xlink:actuate=\"onRequest\" xlink:href=\"psysml:58974816-0ff6-4cd7-92e5-a9b8f8e5f324\" xlink:show=\"new\" xlink:title=\"psysml:58974816-0ff6-4cd7-92e5-a9b8f8e5f324\" xlink:type=\"simple\"><path d=\"M665.43,548.54 C609.69,564.11 502.47,596.63 417,638 C265.74,711.21 206.03,712.27 98,841 C78.38,864.37 66.88,898.18 61.01,920.25 \" fill=\"none\" id=\"E20&lt;-E27\" style=\"stroke: #383838; stroke-width: 1.0;\"/><polygon fill=\"#383838\" points=\"678.13,545.04,671.2822,542.7801,666.5623,548.232,673.4102,550.4919,678.13,545.04\" style=\"stroke: #383838; stroke-width: 1.0;\"/><text fill=\"#000000\" font-family=\"sans-serif\" font-size=\"13\" lengthAdjust=\"spacingAndGlyphs\" textLength=\"8\" x=\"53.2688\" y=\"909.9444\">1</text></a><!--MD5=[52cb449d8d06087346e5cb2177b9bdb8]\nlink E27 to E14--><a href=\"psysml:b2d1456f-aef0-4953-8a81-919a3e5f5204\" target=\"_top\" title=\"psysml:b2d1456f-aef0-4953-8a81-919a3e5f5204\" xlink:actuate=\"onRequest\" xlink:href=\"psysml:b2d1456f-aef0-4953-8a81-919a3e5f5204\" xlink:show=\"new\" xlink:title=\"psysml:b2d1456f-aef0-4953-8a81-919a3e5f5204\" xlink:type=\"simple\"><path d=\"M63.91,966.56 C70.56,981.71 81.64,1000.85 98,1011 C208.72,1079.7 603.07,1088.01 768.31,1088.39 \" fill=\"none\" id=\"E27-&gt;E14\" style=\"stroke: #383838; stroke-width: 1.0;\"/><polygon fill=\"#FFFFFF\" points=\"788.45,1088.4,769.45,1095.4,769.45,1081.4,788.45,1088.4\" style=\"stroke: #383838; stroke-width: 1.0;\"/><line style=\"stroke: #383838; stroke-width: 2.0;\" x1=\"765.645\" x2=\"765.655\" y1=\"1095.3837\" y2=\"1081.3837\"/></a><!--MD5=[5ee84548b570286b113fff34d543c550]\nreverse link E27 to E28--><a href=\"psysml:fb9d868e-687d-4e5f-9ef1-f3b9c2b6527e\" target=\"_top\" title=\"psysml:fb9d868e-687d-4e5f-9ef1-f3b9c2b6527e\" xlink:actuate=\"onRequest\" xlink:href=\"psysml:fb9d868e-687d-4e5f-9ef1-f3b9c2b6527e\" xlink:show=\"new\" xlink:title=\"psysml:fb9d868e-687d-4e5f-9ef1-f3b9c2b6527e\" xlink:type=\"simple\"><path d=\"M67.4,979.3 C76.2,1006.16 88.11,1042.53 95.67,1065.63 \" fill=\"none\" id=\"E27&lt;-E28\" style=\"stroke: #383838; stroke-width: 1.0;\"/><polygon fill=\"#FFFFFF\" points=\"63.24,966.61,61.304,973.5564,66.9714,978.0151,68.9074,971.0688,63.24,966.61\" style=\"stroke: #383838; stroke-width: 1.0;\"/><text fill=\"#000000\" font-family=\"sans-serif\" font-size=\"13\" lengthAdjust=\"spacingAndGlyphs\" textLength=\"8\" x=\"84.7667\" y=\"1055.2937\">1</text></a><!--MD5=[cebea2ad72c76f390152d37fbc13b53b]\n@startuml\r\nskinparam monochrome true\r\nskinparam classbackgroundcolor white\r\nskinparam shadowing false\r\nskinparam wrapWidth 300\r\nhide circle\r\n\r\npackage \"InteractionRealization_1\" as E1  [[psysml:b741747c-24ef-4f5e-9e71-fa06d6f6b5ed ]]  {\r\ncomp usage \"driver_a: Driver \" as E2  <<(T,blue) part>> [[psysml:4f1237a5-9fa5-480f-9b0b-0c7f3cdb0c4c ]] {\r\n}\r\nrec usage \"driverBehavior\" as E3 << perform action>> [[psysml:c2e46006-5125-45cc-bd3b-4a31bc304a5e ]] {\r\nsend \" SetSpeed()\" as E4 << send action>> [[psysml:e43c35e8-2ad2-4c26-b98b-b2ba786a047c ]] \r\n}\r\n\r\ncomp usage \"vehicle_a: Vehicle \" as E5  <<(T,blue) part>> [[psysml:d603a8a6-32af-44be-b66f-148eece7f9cd ]] {\r\n}\r\ncomp usage \"cruiseController_a: CruiseController \" as E6  <<(T,blue) part>> [[psysml:740b64de-19a2-4e5b-935d-8565a2a270c8 ]] {\r\n}\r\nrec usage \"controllerBehavior\" as E7 << perform action>> [[psysml:49ea7f41-8a3d-4bca-a62c-112096bcd0a4 ]] {\r\naccept \" SetSpeed\" as E8 << accept action>> [[psysml:28c40a67-9ffd-4fac-9a01-855209b32acc ]] \r\naccept \" SensedSpeed\" as E9 << accept action>> [[psysml:928b3094-ac24-44fc-96d8-d29a1f9a1e94 ]] \r\nsend \" FuelCommand()\" as E10 << send action>> [[psysml:8b379bae-dcad-447d-9cd8-13274e703a30 ]] \r\n}\r\n\r\ncomp usage \"speedometer_a: Speedometer \" as E11  <<(T,blue) part>> [[psysml:c9ceb663-6897-41fa-a0b9-9f49e177f039 ]] {\r\n}\r\nrec usage \"speedometerBehavior\" as E12 << perform action>> [[psysml:3906909f-75a3-4073-915e-afd6d5faeeeb ]] {\r\nsend \" SensedSpeed()\" as E13 << send action>> [[psysml:55d68bb5-e477-4024-ab09-10021c690f34 ]] \r\n}\r\n\r\ncomp usage \"engine_a: Engine \" as E14  <<(T,blue) part>> [[psysml:a1e55bc2-78a0-4413-a302-d84a6834021f ]] {\r\n}\r\nrec usage \"engineBehavior\" as E15 << perform action>> [[psysml:07b87886-0fbf-4c90-acba-fa2499cc4d48 ]] {\r\naccept \" FuelCommand\" as E16 << accept action>> [[psysml:db67c16b-c778-472b-a483-f2c3a6f9de56 ]] \r\n}\r\n\r\ncomp usage \"cruiseControlInteraction_a: CruiseControlInteraction \" as E17  <<(T,blue) occurrence>> [[psysml:8d748969-4053-4ecd-8485-9ea6a44c1ad5 ]] {\r\n- - flows - -\r\nsetSpeedMessage\\n//:>>CruiseControlInteraction::setSpeedMessage// \r\nsensedSpeedMessage\\n//:>>CruiseControlInteraction::sensedSpeedMessage// \r\nfuelCommandMessage\\n//:>>CruiseControlInteraction::fuelCommandMessage// \r\n}\r\ncomp usage \"driver \" as E18  <<(T,blue) part>> [[psysml:c3208aca-68cf-416d-8175-6dce109f92d1 ]] {\r\n}\r\ncomp usage \"setSpeedSent \" as E19 << event occurrence>> [[psysml:51c3e209-fe10-47ae-95a8-c9872383623f ]] {\r\n}\r\ncomp usage \"vehicle \" as E20  <<(T,blue) part>> [[psysml:d8a27209-195e-46c4-8962-62beaade5328 ]] {\r\n}\r\ncomp usage \"cruiseController \" as E21  <<(T,blue) part>> [[psysml:96cc55f1-8d35-4442-8ea1-fd2ce8b12e1a ]] {\r\n}\r\ncomp usage \"setSpeedReceived \" as E22 << event occurrence>> [[psysml:74fd186d-4000-42a3-896f-c82c2370794a ]] {\r\n}\r\ncomp usage \"sensedSpeedReceived \" as E23 << event occurrence>> [[psysml:c40b93c0-4c68-4d94-aa6e-3ed2c69f61d3 ]] {\r\n}\r\ncomp usage \"fuelCommandSent \" as E24 << event occurrence>> [[psysml:660605d0-78f1-4b67-a30c-ee83708238f4 ]] {\r\n}\r\ncomp usage \"speedometer \" as E25  <<(T,blue) part>> [[psysml:0b539486-76a7-4766-9911-3c2b829048e3 ]] {\r\n}\r\ncomp usage \"sensedSpeedSent \" as E26 << event occurrence>> [[psysml:a59bc026-8349-4739-a758-6d2f37654196 ]] {\r\n}\r\ncomp usage \"engine \" as E27  <<(T,blue) part>> [[psysml:68e3e9aa-7e54-4a87-9c32-5018f9660784 ]] {\r\n}\r\ncomp usage \"fuelCommandReceived \" as E28 << event occurrence>> [[psysml:a25a5fe3-2c35-4c77-9a3e-9da456700dea ]] {\r\n}\r\n}\r\nE2 o- - \"*\"E3 [[psysml:a0ac844b-5289-464c-80c8-6c297aad4cc3 ]] \r\nE4 ..>> \"*\"E5 [[psysml:e43c35e8-2ad2-4c26-b98b-b2ba786a047c ]] : <<send to>>\r\nE5 *- - \"1\"E6 [[psysml:39c0d9a9-2628-464d-b745-fd690fd88ca0 ]] \r\nE8 <<.. \"*\"E5 [[psysml:28c40a67-9ffd-4fac-9a01-855209b32acc ]] : <<receive for>>\r\nE8 - -> \"*\"E9 [[psysml:b3626155-f4ad-4d3e-af33-941b32abd64f ]] \r\nE9 <<.. \"*\"E6 [[psysml:928b3094-ac24-44fc-96d8-d29a1f9a1e94 ]] : <<receive for>>\r\nE9 - -> \"*\"E10 [[psysml:abf2c8e3-bc41-4c38-ac6b-5ce1f68b8a53 ]] \r\nE6 o- - \"*\"E7 [[psysml:1994c80d-1ac2-4008-bbb5-ee47906ea49e ]] \r\nE5 *- - \"1\"E11 [[psysml:ff98b790-e178-47dd-b428-a4acd58be008 ]] \r\nE13 ..>> \"*\"E6 [[psysml:55d68bb5-e477-4024-ab09-10021c690f34 ]] : <<send to>>\r\nE11 o- - \"*\"E12 [[psysml:c442f20d-cef0-4d72-9f2e-cadce2cc5d1e ]] \r\nE10 ..>> \"*\"E14 [[psysml:8b379bae-dcad-447d-9cd8-13274e703a30 ]] : <<send to>>\r\nE5 *- - \"1\"E14 [[psysml:dcf149b4-c943-474e-87c5-3a4d03ad6c46 ]] \r\nE16 <<.. \"*\"E14 [[psysml:db67c16b-c778-472b-a483-f2c3a6f9de56 ]] : <<receive for>>\r\nE14 o- - \"*\"E15 [[psysml:6ac79cdd-13d2-4631-a173-81fdb420fb93 ]] \r\nE17 *- - \"1\"E18 [[psysml:e52ccb31-655f-4255-95cf-ca86fbe667fa ]] \r\nE18 - -||> E2 [[psysml:133219ce-c800-435d-9695-07aa21977a26 ]] \r\nE18 o- - \"1\"E19 [[psysml:d5594c77-a3bb-45c2-8b01-3ee438b5ed2f ]] \r\nE17 *- - \"1\"E20 [[psysml:c64d4197-12b9-45c0-a908-1e8805837773 ]] \r\nE20 - -||> E5 [[psysml:797744d2-6fc8-454b-b02e-13ccd9899cf9 ]] \r\nE20 *- - \"1\"E21 [[psysml:862aa913-c76e-4590-bbb8-98cdb49a8936 ]] \r\nE21 - -||> E6 [[psysml:f1e0125b-3f10-4af4-926b-95b3ce0dafb6 ]] \r\nE21 o- - \"1\"E22 [[psysml:7c29feac-d180-4663-a209-5a63b2b9df9b ]] \r\nE21 o- - \"1\"E23 [[psysml:0d9e1795-3e52-4a8b-8588-a80ff9e42d24 ]] \r\nE21 o- - \"1\"E24 [[psysml:c70d3c8f-9df7-45b9-8fe5-4bfc6f2897ae ]] \r\nE20 *- - \"1\"E25 [[psysml:ae547f80-1f5a-4910-9298-0034f0d060a9 ]] \r\nE25 - -||> E11 [[psysml:5f0d5b13-1843-4540-86fe-8a5ea5b0a572 ]] \r\nE25 o- - \"1\"E26 [[psysml:cdc0141e-83d5-4d5c-8de3-c22c72efe370 ]] \r\nE20 *- - \"1\"E27 [[psysml:58974816-0ff6-4cd7-92e5-a9b8f8e5f324 ]] \r\nE27 - -||> E14 [[psysml:b2d1456f-aef0-4953-8a81-919a3e5f5204 ]] \r\nE27 o- - \"1\"E28 [[psysml:fb9d868e-687d-4e5f-9ef1-f3b9c2b6527e ]] \r\n@enduml\r\n\nPlantUML version 1.2020.13(Sat Jun 13 08:26:38 EDT 2020)\n(EPL source distribution)\nJava Runtime: OpenJDK Runtime Environment\nJVM: OpenJDK 64-Bit Server VM\nDefault Encoding: UTF-8\nLanguage: en\nCountry: US\n--></g></svg>"
     },
     "execution_count": 56,
     "metadata": {},
     "output_type": "execute_result"
    }
   ],
   "source": [
    "%viz InteractionRealization_1"
   ]
  }
 ],
 "metadata": {
  "kernelspec": {
   "display_name": "SysML",
   "language": "sysml",
   "name": "sysml"
  },
  "language_info": {
   "codemirror_mode": "sysml",
   "file_extension": ".sysml",
   "mimetype": "text/x-sysml",
   "name": "SysML",
   "pygments_lexer": "java",
   "version": "1.0.0"
  }
 },
 "nbformat": 4,
 "nbformat_minor": 5
}
